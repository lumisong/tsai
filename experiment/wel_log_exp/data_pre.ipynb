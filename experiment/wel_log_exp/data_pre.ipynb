{
 "cells": [
  {
   "cell_type": "code",
   "execution_count": 1,
   "metadata": {},
   "outputs": [],
   "source": [
    "welllog_head = ['DEPT', 'RMG', 'RMN', 'RMN-RMG', 'CAL', 'SP', 'GR', 'HAC', 'BHC', 'DEN']\n",
    "well_num = 6\n",
    "data_prefix = 'data/vertical_all_A{}.csv'\n",
    "test_ID = [6, ]\n",
    "columns_target = ['HAC', 'BHC', 'DEN']\n",
    "columns_input = ['DEPT', 'RMN-RMG', 'CAL', 'SP', 'GR']\n",
    "train_len = 200\n",
    "window_step = 100\n"
   ]
  },
  {
   "cell_type": "code",
   "execution_count": 2,
   "metadata": {},
   "outputs": [],
   "source": [
    "import pandas as pd\n",
    "\n",
    "def read_file(path):\n",
    "    df = pd.read_csv(path)\n",
    "    df.columns = welllog_head\n",
    "    return df"
   ]
  },
  {
   "cell_type": "code",
   "execution_count": 3,
   "metadata": {},
   "outputs": [],
   "source": [
    "import numpy as np\n",
    "\n",
    "df_well_list = []\n",
    "test_data = {}\n",
    "for i in range(well_num):\n",
    "    # the test and train data will be the unnormalized data\n",
    "    filename = data_prefix.format(i+1)\n",
    "    df = read_file(filename)\n",
    "    df['DEPT'] = np.arange(1, len(df)+1)\n",
    "    df_well_list.append(df)\n",
    "    if i+1 in test_ID:\n",
    "        test_data[i+1] = df[columns_target]\n",
    "dataset = pd.concat(df_well_list, axis=0, ignore_index=True)"
   ]
  },
  {
   "cell_type": "code",
   "execution_count": 4,
   "metadata": {},
   "outputs": [
    {
     "data": {
      "text/plain": [
       "6"
      ]
     },
     "execution_count": 4,
     "metadata": {},
     "output_type": "execute_result"
    }
   ],
   "source": [
    "len(df_well_list)"
   ]
  },
  {
   "cell_type": "code",
   "execution_count": 5,
   "metadata": {},
   "outputs": [
    {
     "data": {
      "text/html": [
       "<div>\n",
       "<style scoped>\n",
       "    .dataframe tbody tr th:only-of-type {\n",
       "        vertical-align: middle;\n",
       "    }\n",
       "\n",
       "    .dataframe tbody tr th {\n",
       "        vertical-align: top;\n",
       "    }\n",
       "\n",
       "    .dataframe thead th {\n",
       "        text-align: right;\n",
       "    }\n",
       "</style>\n",
       "<table border=\"1\" class=\"dataframe\">\n",
       "  <thead>\n",
       "    <tr style=\"text-align: right;\">\n",
       "      <th></th>\n",
       "      <th>DEPT</th>\n",
       "      <th>RMG</th>\n",
       "      <th>RMN</th>\n",
       "      <th>RMN-RMG</th>\n",
       "      <th>CAL</th>\n",
       "      <th>SP</th>\n",
       "      <th>GR</th>\n",
       "      <th>HAC</th>\n",
       "      <th>BHC</th>\n",
       "      <th>DEN</th>\n",
       "    </tr>\n",
       "  </thead>\n",
       "  <tbody>\n",
       "    <tr>\n",
       "      <th>0</th>\n",
       "      <td>1</td>\n",
       "      <td>2.260</td>\n",
       "      <td>2.265</td>\n",
       "      <td>0.005</td>\n",
       "      <td>23.492</td>\n",
       "      <td>121.845</td>\n",
       "      <td>102.405</td>\n",
       "      <td>402.244</td>\n",
       "      <td>405.716</td>\n",
       "      <td>2.269</td>\n",
       "    </tr>\n",
       "    <tr>\n",
       "      <th>1</th>\n",
       "      <td>2</td>\n",
       "      <td>2.241</td>\n",
       "      <td>2.281</td>\n",
       "      <td>0.040</td>\n",
       "      <td>23.453</td>\n",
       "      <td>121.845</td>\n",
       "      <td>103.093</td>\n",
       "      <td>397.115</td>\n",
       "      <td>404.701</td>\n",
       "      <td>2.274</td>\n",
       "    </tr>\n",
       "    <tr>\n",
       "      <th>2</th>\n",
       "      <td>3</td>\n",
       "      <td>2.405</td>\n",
       "      <td>2.474</td>\n",
       "      <td>0.069</td>\n",
       "      <td>23.403</td>\n",
       "      <td>121.656</td>\n",
       "      <td>102.995</td>\n",
       "      <td>394.872</td>\n",
       "      <td>403.953</td>\n",
       "      <td>2.284</td>\n",
       "    </tr>\n",
       "    <tr>\n",
       "      <th>3</th>\n",
       "      <td>4</td>\n",
       "      <td>2.598</td>\n",
       "      <td>2.640</td>\n",
       "      <td>0.042</td>\n",
       "      <td>23.363</td>\n",
       "      <td>121.325</td>\n",
       "      <td>102.405</td>\n",
       "      <td>397.009</td>\n",
       "      <td>404.434</td>\n",
       "      <td>2.274</td>\n",
       "    </tr>\n",
       "    <tr>\n",
       "      <th>4</th>\n",
       "      <td>5</td>\n",
       "      <td>2.533</td>\n",
       "      <td>2.538</td>\n",
       "      <td>0.005</td>\n",
       "      <td>23.333</td>\n",
       "      <td>120.994</td>\n",
       "      <td>101.128</td>\n",
       "      <td>404.060</td>\n",
       "      <td>405.021</td>\n",
       "      <td>2.284</td>\n",
       "    </tr>\n",
       "    <tr>\n",
       "      <th>...</th>\n",
       "      <td>...</td>\n",
       "      <td>...</td>\n",
       "      <td>...</td>\n",
       "      <td>...</td>\n",
       "      <td>...</td>\n",
       "      <td>...</td>\n",
       "      <td>...</td>\n",
       "      <td>...</td>\n",
       "      <td>...</td>\n",
       "      <td>...</td>\n",
       "    </tr>\n",
       "    <tr>\n",
       "      <th>38729</th>\n",
       "      <td>5790</td>\n",
       "      <td>6.191</td>\n",
       "      <td>8.237</td>\n",
       "      <td>2.046</td>\n",
       "      <td>21.125</td>\n",
       "      <td>66.313</td>\n",
       "      <td>81.215</td>\n",
       "      <td>335.470</td>\n",
       "      <td>336.003</td>\n",
       "      <td>2.116</td>\n",
       "    </tr>\n",
       "    <tr>\n",
       "      <th>38730</th>\n",
       "      <td>5791</td>\n",
       "      <td>5.867</td>\n",
       "      <td>8.042</td>\n",
       "      <td>2.175</td>\n",
       "      <td>21.095</td>\n",
       "      <td>66.248</td>\n",
       "      <td>82.754</td>\n",
       "      <td>335.470</td>\n",
       "      <td>333.760</td>\n",
       "      <td>2.144</td>\n",
       "    </tr>\n",
       "    <tr>\n",
       "      <th>38731</th>\n",
       "      <td>5792</td>\n",
       "      <td>6.723</td>\n",
       "      <td>9.164</td>\n",
       "      <td>2.441</td>\n",
       "      <td>21.080</td>\n",
       "      <td>66.150</td>\n",
       "      <td>84.678</td>\n",
       "      <td>335.150</td>\n",
       "      <td>331.571</td>\n",
       "      <td>2.164</td>\n",
       "    </tr>\n",
       "    <tr>\n",
       "      <th>38732</th>\n",
       "      <td>5793</td>\n",
       "      <td>7.263</td>\n",
       "      <td>9.530</td>\n",
       "      <td>2.267</td>\n",
       "      <td>21.118</td>\n",
       "      <td>66.248</td>\n",
       "      <td>87.660</td>\n",
       "      <td>335.150</td>\n",
       "      <td>329.755</td>\n",
       "      <td>2.178</td>\n",
       "    </tr>\n",
       "    <tr>\n",
       "      <th>38733</th>\n",
       "      <td>5794</td>\n",
       "      <td>6.874</td>\n",
       "      <td>8.828</td>\n",
       "      <td>1.954</td>\n",
       "      <td>21.182</td>\n",
       "      <td>66.313</td>\n",
       "      <td>89.873</td>\n",
       "      <td>319.026</td>\n",
       "      <td>324.362</td>\n",
       "      <td>2.179</td>\n",
       "    </tr>\n",
       "  </tbody>\n",
       "</table>\n",
       "<p>38734 rows × 10 columns</p>\n",
       "</div>"
      ],
      "text/plain": [
       "       DEPT    RMG    RMN  RMN-RMG     CAL       SP       GR      HAC  \\\n",
       "0         1  2.260  2.265    0.005  23.492  121.845  102.405  402.244   \n",
       "1         2  2.241  2.281    0.040  23.453  121.845  103.093  397.115   \n",
       "2         3  2.405  2.474    0.069  23.403  121.656  102.995  394.872   \n",
       "3         4  2.598  2.640    0.042  23.363  121.325  102.405  397.009   \n",
       "4         5  2.533  2.538    0.005  23.333  120.994  101.128  404.060   \n",
       "...     ...    ...    ...      ...     ...      ...      ...      ...   \n",
       "38729  5790  6.191  8.237    2.046  21.125   66.313   81.215  335.470   \n",
       "38730  5791  5.867  8.042    2.175  21.095   66.248   82.754  335.470   \n",
       "38731  5792  6.723  9.164    2.441  21.080   66.150   84.678  335.150   \n",
       "38732  5793  7.263  9.530    2.267  21.118   66.248   87.660  335.150   \n",
       "38733  5794  6.874  8.828    1.954  21.182   66.313   89.873  319.026   \n",
       "\n",
       "           BHC    DEN  \n",
       "0      405.716  2.269  \n",
       "1      404.701  2.274  \n",
       "2      403.953  2.284  \n",
       "3      404.434  2.274  \n",
       "4      405.021  2.284  \n",
       "...        ...    ...  \n",
       "38729  336.003  2.116  \n",
       "38730  333.760  2.144  \n",
       "38731  331.571  2.164  \n",
       "38732  329.755  2.178  \n",
       "38733  324.362  2.179  \n",
       "\n",
       "[38734 rows x 10 columns]"
      ]
     },
     "execution_count": 5,
     "metadata": {},
     "output_type": "execute_result"
    }
   ],
   "source": [
    "dataset"
   ]
  },
  {
   "cell_type": "markdown",
   "metadata": {},
   "source": [
    "将df_well_all数据整理成窗口序列数据，使用npy或者h5文件存储，方便后续读取。"
   ]
  },
  {
   "cell_type": "code",
   "execution_count": 14,
   "metadata": {},
   "outputs": [
    {
     "data": {
      "text/html": [
       "<div>\n",
       "<style scoped>\n",
       "    .dataframe tbody tr th:only-of-type {\n",
       "        vertical-align: middle;\n",
       "    }\n",
       "\n",
       "    .dataframe tbody tr th {\n",
       "        vertical-align: top;\n",
       "    }\n",
       "\n",
       "    .dataframe thead th {\n",
       "        text-align: right;\n",
       "    }\n",
       "</style>\n",
       "<table border=\"1\" class=\"dataframe\">\n",
       "  <thead>\n",
       "    <tr style=\"text-align: right;\">\n",
       "      <th></th>\n",
       "      <th>DEPT</th>\n",
       "      <th>RMG</th>\n",
       "      <th>RMN</th>\n",
       "      <th>RMN-RMG</th>\n",
       "      <th>CAL</th>\n",
       "      <th>SP</th>\n",
       "      <th>GR</th>\n",
       "      <th>HAC</th>\n",
       "      <th>BHC</th>\n",
       "      <th>DEN</th>\n",
       "    </tr>\n",
       "  </thead>\n",
       "  <tbody>\n",
       "    <tr>\n",
       "      <th>0</th>\n",
       "      <td>-1.716107</td>\n",
       "      <td>2.260</td>\n",
       "      <td>2.265</td>\n",
       "      <td>-0.687548</td>\n",
       "      <td>1.382265</td>\n",
       "      <td>1.389699</td>\n",
       "      <td>-0.076729</td>\n",
       "      <td>1.203110</td>\n",
       "      <td>1.354331</td>\n",
       "      <td>0.021540</td>\n",
       "    </tr>\n",
       "    <tr>\n",
       "      <th>1</th>\n",
       "      <td>-1.715578</td>\n",
       "      <td>2.241</td>\n",
       "      <td>2.281</td>\n",
       "      <td>-0.658715</td>\n",
       "      <td>1.345440</td>\n",
       "      <td>1.389699</td>\n",
       "      <td>-0.067284</td>\n",
       "      <td>1.092743</td>\n",
       "      <td>1.331241</td>\n",
       "      <td>0.073887</td>\n",
       "    </tr>\n",
       "    <tr>\n",
       "      <th>2</th>\n",
       "      <td>-1.715048</td>\n",
       "      <td>2.405</td>\n",
       "      <td>2.474</td>\n",
       "      <td>-0.634824</td>\n",
       "      <td>1.298230</td>\n",
       "      <td>1.378332</td>\n",
       "      <td>-0.068630</td>\n",
       "      <td>1.044477</td>\n",
       "      <td>1.314226</td>\n",
       "      <td>0.178583</td>\n",
       "    </tr>\n",
       "    <tr>\n",
       "      <th>3</th>\n",
       "      <td>-1.714519</td>\n",
       "      <td>2.598</td>\n",
       "      <td>2.640</td>\n",
       "      <td>-0.657067</td>\n",
       "      <td>1.260461</td>\n",
       "      <td>1.358426</td>\n",
       "      <td>-0.076729</td>\n",
       "      <td>1.090462</td>\n",
       "      <td>1.325168</td>\n",
       "      <td>0.073887</td>\n",
       "    </tr>\n",
       "    <tr>\n",
       "      <th>4</th>\n",
       "      <td>-1.713990</td>\n",
       "      <td>2.533</td>\n",
       "      <td>2.538</td>\n",
       "      <td>-0.687548</td>\n",
       "      <td>1.232135</td>\n",
       "      <td>1.338520</td>\n",
       "      <td>-0.094258</td>\n",
       "      <td>1.242187</td>\n",
       "      <td>1.338521</td>\n",
       "      <td>0.178583</td>\n",
       "    </tr>\n",
       "    <tr>\n",
       "      <th>...</th>\n",
       "      <td>...</td>\n",
       "      <td>...</td>\n",
       "      <td>...</td>\n",
       "      <td>...</td>\n",
       "      <td>...</td>\n",
       "      <td>...</td>\n",
       "      <td>...</td>\n",
       "      <td>...</td>\n",
       "      <td>...</td>\n",
       "      <td>...</td>\n",
       "    </tr>\n",
       "    <tr>\n",
       "      <th>38729</th>\n",
       "      <td>1.347992</td>\n",
       "      <td>6.191</td>\n",
       "      <td>8.237</td>\n",
       "      <td>0.993849</td>\n",
       "      <td>-0.852690</td>\n",
       "      <td>-1.949959</td>\n",
       "      <td>-0.367605</td>\n",
       "      <td>-0.233752</td>\n",
       "      <td>-0.231540</td>\n",
       "      <td>-1.580308</td>\n",
       "    </tr>\n",
       "    <tr>\n",
       "      <th>38730</th>\n",
       "      <td>1.348522</td>\n",
       "      <td>5.867</td>\n",
       "      <td>8.042</td>\n",
       "      <td>1.100121</td>\n",
       "      <td>-0.881016</td>\n",
       "      <td>-1.953868</td>\n",
       "      <td>-0.346479</td>\n",
       "      <td>-0.233752</td>\n",
       "      <td>-0.282565</td>\n",
       "      <td>-1.287160</td>\n",
       "    </tr>\n",
       "    <tr>\n",
       "      <th>38731</th>\n",
       "      <td>1.349051</td>\n",
       "      <td>6.723</td>\n",
       "      <td>9.164</td>\n",
       "      <td>1.319255</td>\n",
       "      <td>-0.895179</td>\n",
       "      <td>-1.959762</td>\n",
       "      <td>-0.320068</td>\n",
       "      <td>-0.240638</td>\n",
       "      <td>-0.332362</td>\n",
       "      <td>-1.077768</td>\n",
       "    </tr>\n",
       "    <tr>\n",
       "      <th>38732</th>\n",
       "      <td>1.349580</td>\n",
       "      <td>7.263</td>\n",
       "      <td>9.530</td>\n",
       "      <td>1.175912</td>\n",
       "      <td>-0.859299</td>\n",
       "      <td>-1.953868</td>\n",
       "      <td>-0.279134</td>\n",
       "      <td>-0.240638</td>\n",
       "      <td>-0.373673</td>\n",
       "      <td>-0.931194</td>\n",
       "    </tr>\n",
       "    <tr>\n",
       "      <th>38733</th>\n",
       "      <td>1.350110</td>\n",
       "      <td>6.874</td>\n",
       "      <td>8.828</td>\n",
       "      <td>0.918059</td>\n",
       "      <td>-0.798870</td>\n",
       "      <td>-1.949959</td>\n",
       "      <td>-0.248756</td>\n",
       "      <td>-0.587599</td>\n",
       "      <td>-0.496356</td>\n",
       "      <td>-0.920724</td>\n",
       "    </tr>\n",
       "  </tbody>\n",
       "</table>\n",
       "<p>38734 rows × 10 columns</p>\n",
       "</div>"
      ],
      "text/plain": [
       "           DEPT    RMG    RMN   RMN-RMG       CAL        SP        GR  \\\n",
       "0     -1.716107  2.260  2.265 -0.687548  1.382265  1.389699 -0.076729   \n",
       "1     -1.715578  2.241  2.281 -0.658715  1.345440  1.389699 -0.067284   \n",
       "2     -1.715048  2.405  2.474 -0.634824  1.298230  1.378332 -0.068630   \n",
       "3     -1.714519  2.598  2.640 -0.657067  1.260461  1.358426 -0.076729   \n",
       "4     -1.713990  2.533  2.538 -0.687548  1.232135  1.338520 -0.094258   \n",
       "...         ...    ...    ...       ...       ...       ...       ...   \n",
       "38729  1.347992  6.191  8.237  0.993849 -0.852690 -1.949959 -0.367605   \n",
       "38730  1.348522  5.867  8.042  1.100121 -0.881016 -1.953868 -0.346479   \n",
       "38731  1.349051  6.723  9.164  1.319255 -0.895179 -1.959762 -0.320068   \n",
       "38732  1.349580  7.263  9.530  1.175912 -0.859299 -1.953868 -0.279134   \n",
       "38733  1.350110  6.874  8.828  0.918059 -0.798870 -1.949959 -0.248756   \n",
       "\n",
       "            HAC       BHC       DEN  \n",
       "0      1.203110  1.354331  0.021540  \n",
       "1      1.092743  1.331241  0.073887  \n",
       "2      1.044477  1.314226  0.178583  \n",
       "3      1.090462  1.325168  0.073887  \n",
       "4      1.242187  1.338521  0.178583  \n",
       "...         ...       ...       ...  \n",
       "38729 -0.233752 -0.231540 -1.580308  \n",
       "38730 -0.233752 -0.282565 -1.287160  \n",
       "38731 -0.240638 -0.332362 -1.077768  \n",
       "38732 -0.240638 -0.373673 -0.931194  \n",
       "38733 -0.587599 -0.496356 -0.920724  \n",
       "\n",
       "[38734 rows x 10 columns]"
      ]
     },
     "execution_count": 14,
     "metadata": {},
     "output_type": "execute_result"
    }
   ],
   "source": [
    "# data 先要进行标准化转换\n",
    "# eg:X = StandardScaler().fit_transform(X.to_numpy())\n",
    "from sklearn.preprocessing import StandardScaler\n",
    "scaler = StandardScaler()\n",
    "columns_to_scale = columns_input + columns_target\n",
    "scaler.fit(dataset[columns_to_scale])\n",
    "dataset[columns_to_scale] = scaler.transform(dataset[columns_to_scale])\n",
    "dataset"
   ]
  },
  {
   "cell_type": "code",
   "execution_count": 15,
   "metadata": {},
   "outputs": [
    {
     "name": "stdout",
     "output_type": "stream",
     "text": [
      "X shape: (38435, 8, 200)\n"
     ]
    }
   ],
   "source": [
    "import pandas as pd\n",
    "from tsai.basics import *\n",
    "\n",
    "data = dataset\n",
    "\n",
    "# 设置滑动窗口长度和预测的距离\n",
    "window_len = 200\n",
    "horizon = 100\n",
    "\n",
    "# 设置输入特征和目标变量的列名\n",
    "x_vars = ['DEPT', 'RMN-RMG', 'CAL', 'SP', 'GR', 'HAC', 'BHC', 'DEN']\n",
    "\n",
    "# 将列名转换为整数索引\n",
    "x_vars_idx = [data.columns.get_loc(col) for col in x_vars]\n",
    "\n",
    "# 调用apply_sliding_window函数接口\n",
    "X, y = apply_sliding_window(data, window_len, horizon, x_vars_idx)\n",
    "\n",
    "# 输出结果\n",
    "print(\"X shape:\", X.shape)"
   ]
  },
  {
   "cell_type": "markdown",
   "metadata": {},
   "source": [
    "输出X的内容，分析窗口的划分方式是否合理。"
   ]
  },
  {
   "cell_type": "code",
   "execution_count": 8,
   "metadata": {},
   "outputs": [
    {
     "name": "stdout",
     "output_type": "stream",
     "text": [
      "显示X的内容：\n",
      "--------------------------------------------------\n"
     ]
    },
    {
     "data": {
      "text/plain": [
       "array([[[ 1.00000e+00,  2.00000e+00,  3.00000e+00, ...,  1.98000e+02,\n",
       "          1.99000e+02,  2.00000e+02],\n",
       "        [ 5.00000e-03,  4.00000e-02,  6.90000e-02, ..., -3.43000e-01,\n",
       "          9.00000e-02,  2.11000e-01],\n",
       "        [ 2.34920e+01,  2.34530e+01,  2.34030e+01, ...,  2.30060e+01,\n",
       "          2.30260e+01,  2.30620e+01],\n",
       "        ...,\n",
       "        [ 4.02244e+02,  3.97115e+02,  3.94872e+02, ...,  4.14637e+02,\n",
       "          4.11538e+02,  4.08227e+02],\n",
       "        [ 4.05716e+02,  4.04701e+02,  4.03953e+02, ...,  4.08707e+02,\n",
       "          4.06944e+02,  4.06517e+02],\n",
       "        [ 2.26900e+00,  2.27400e+00,  2.28400e+00, ...,  2.11800e+00,\n",
       "          2.11900e+00,  2.12100e+00]],\n",
       "\n",
       "       [[ 2.00000e+00,  3.00000e+00,  4.00000e+00, ...,  1.99000e+02,\n",
       "          2.00000e+02,  2.01000e+02],\n",
       "        [ 4.00000e-02,  6.90000e-02,  4.20000e-02, ...,  9.00000e-02,\n",
       "          2.11000e-01,  6.10000e-02],\n",
       "        [ 2.34530e+01,  2.34030e+01,  2.33630e+01, ...,  2.30260e+01,\n",
       "          2.30620e+01,  2.30930e+01],\n",
       "        ...,\n",
       "        [ 3.97115e+02,  3.94872e+02,  3.97009e+02, ...,  4.11538e+02,\n",
       "          4.08227e+02,  3.99893e+02],\n",
       "        [ 4.04701e+02,  4.03953e+02,  4.04434e+02, ...,  4.06944e+02,\n",
       "          4.06517e+02,  4.06891e+02],\n",
       "        [ 2.27400e+00,  2.28400e+00,  2.27400e+00, ...,  2.11900e+00,\n",
       "          2.12100e+00,  2.13100e+00]],\n",
       "\n",
       "       [[ 3.00000e+00,  4.00000e+00,  5.00000e+00, ...,  2.00000e+02,\n",
       "          2.01000e+02,  2.02000e+02],\n",
       "        [ 6.90000e-02,  4.20000e-02,  5.00000e-03, ...,  2.11000e-01,\n",
       "          6.10000e-02,  2.65000e-01],\n",
       "        [ 2.34030e+01,  2.33630e+01,  2.33330e+01, ...,  2.30620e+01,\n",
       "          2.30930e+01,  2.31040e+01],\n",
       "        ...,\n",
       "        [ 3.94872e+02,  3.97009e+02,  4.04060e+02, ...,  4.08227e+02,\n",
       "          3.99893e+02,  3.90919e+02],\n",
       "        [ 4.03953e+02,  4.04434e+02,  4.05021e+02, ...,  4.06517e+02,\n",
       "          4.06891e+02,  4.04915e+02],\n",
       "        [ 2.28400e+00,  2.27400e+00,  2.28400e+00, ...,  2.12100e+00,\n",
       "          2.13100e+00,  2.13600e+00]],\n",
       "\n",
       "       ...,\n",
       "\n",
       "       [[ 5.49300e+03,  5.49400e+03,  5.49500e+03, ...,  5.69000e+03,\n",
       "          5.69100e+03,  5.69200e+03],\n",
       "        [ 1.52300e+00,  1.76400e+00,  1.67500e+00, ...,  5.26000e-01,\n",
       "          2.39000e-01,  3.43000e-01],\n",
       "        [ 2.11280e+01,  2.10670e+01,  2.09680e+01, ...,  2.15020e+01,\n",
       "          2.17230e+01,  2.19870e+01],\n",
       "        ...,\n",
       "        [ 3.07585e+02,  3.14419e+02,  3.14422e+02, ...,  2.99359e+02,\n",
       "          2.99366e+02,  3.41236e+02],\n",
       "        [ 3.15545e+02,  3.16025e+02,  3.17255e+02, ...,  3.17794e+02,\n",
       "          3.30986e+02,  3.47755e+02],\n",
       "        [ 2.21400e+00,  2.22100e+00,  2.24700e+00, ...,  2.32600e+00,\n",
       "          2.32700e+00,  2.33000e+00]],\n",
       "\n",
       "       [[ 5.49400e+03,  5.49500e+03,  5.49600e+03, ...,  5.69100e+03,\n",
       "          5.69200e+03,  5.69300e+03],\n",
       "        [ 1.76400e+00,  1.67500e+00,  1.46300e+00, ...,  2.39000e-01,\n",
       "          3.43000e-01,  3.95000e-01],\n",
       "        [ 2.10670e+01,  2.09680e+01,  2.09400e+01, ...,  2.17230e+01,\n",
       "          2.19870e+01,  2.22060e+01],\n",
       "        ...,\n",
       "        [ 3.14419e+02,  3.14422e+02,  3.11645e+02, ...,  2.99366e+02,\n",
       "          3.41236e+02,  3.41239e+02],\n",
       "        [ 3.16025e+02,  3.17255e+02,  3.18216e+02, ...,  3.30986e+02,\n",
       "          3.47755e+02,  3.47810e+02],\n",
       "        [ 2.22100e+00,  2.24700e+00,  2.26400e+00, ...,  2.32700e+00,\n",
       "          2.33000e+00,  2.33700e+00]],\n",
       "\n",
       "       [[ 5.49500e+03,  5.49600e+03,  5.49700e+03, ...,  5.69200e+03,\n",
       "          5.69300e+03,  5.69400e+03],\n",
       "        [ 1.67500e+00,  1.46300e+00,  1.64300e+00, ...,  3.43000e-01,\n",
       "          3.95000e-01,  3.65000e-01],\n",
       "        [ 2.09680e+01,  2.09400e+01,  2.09910e+01, ...,  2.19870e+01,\n",
       "          2.22060e+01,  2.23430e+01],\n",
       "        ...,\n",
       "        [ 3.14422e+02,  3.11645e+02,  3.11645e+02, ...,  3.41236e+02,\n",
       "          3.41239e+02,  3.40172e+02],\n",
       "        [ 3.17255e+02,  3.18216e+02,  3.17895e+02, ...,  3.47755e+02,\n",
       "          3.47810e+02,  3.42685e+02],\n",
       "        [ 2.24700e+00,  2.26400e+00,  2.27600e+00, ...,  2.33000e+00,\n",
       "          2.33700e+00,  2.33300e+00]]])"
      ]
     },
     "metadata": {},
     "output_type": "display_data"
    },
    {
     "name": "stdout",
     "output_type": "stream",
     "text": [
      "\n",
      "显示X的形状：\n",
      "--------------------------------------------------\n"
     ]
    },
    {
     "data": {
      "text/plain": [
       "(38435, 8, 200)"
      ]
     },
     "metadata": {},
     "output_type": "display_data"
    },
    {
     "name": "stdout",
     "output_type": "stream",
     "text": [
      "\n",
      "显示X的类型：\n",
      "--------------------------------------------------\n"
     ]
    },
    {
     "data": {
      "text/plain": [
       "numpy.ndarray"
      ]
     },
     "metadata": {},
     "output_type": "display_data"
    },
    {
     "name": "stdout",
     "output_type": "stream",
     "text": [
      "\n",
      "显示X的第一个元素：\n",
      "--------------------------------------------------\n"
     ]
    },
    {
     "data": {
      "text/plain": [
       "array([[ 1.00000e+00,  2.00000e+00,  3.00000e+00, ...,  1.98000e+02,\n",
       "         1.99000e+02,  2.00000e+02],\n",
       "       [ 5.00000e-03,  4.00000e-02,  6.90000e-02, ..., -3.43000e-01,\n",
       "         9.00000e-02,  2.11000e-01],\n",
       "       [ 2.34920e+01,  2.34530e+01,  2.34030e+01, ...,  2.30060e+01,\n",
       "         2.30260e+01,  2.30620e+01],\n",
       "       ...,\n",
       "       [ 4.02244e+02,  3.97115e+02,  3.94872e+02, ...,  4.14637e+02,\n",
       "         4.11538e+02,  4.08227e+02],\n",
       "       [ 4.05716e+02,  4.04701e+02,  4.03953e+02, ...,  4.08707e+02,\n",
       "         4.06944e+02,  4.06517e+02],\n",
       "       [ 2.26900e+00,  2.27400e+00,  2.28400e+00, ...,  2.11800e+00,\n",
       "         2.11900e+00,  2.12100e+00]])"
      ]
     },
     "metadata": {},
     "output_type": "display_data"
    },
    {
     "name": "stdout",
     "output_type": "stream",
     "text": [
      "\n",
      "显示X的第一个元素的形状：\n",
      "--------------------------------------------------\n"
     ]
    },
    {
     "data": {
      "text/plain": [
       "(8, 200)"
      ]
     },
     "metadata": {},
     "output_type": "display_data"
    },
    {
     "name": "stdout",
     "output_type": "stream",
     "text": [
      "\n",
      "显示X的第一个元素的第一个元素：\n",
      "--------------------------------------------------\n"
     ]
    },
    {
     "data": {
      "text/plain": [
       "array([  1.,   2.,   3.,   4.,   5.,   6.,   7.,   8.,   9.,  10.,  11.,\n",
       "        12.,  13.,  14.,  15.,  16.,  17.,  18.,  19.,  20.,  21.,  22.,\n",
       "        23.,  24.,  25.,  26.,  27.,  28.,  29.,  30.,  31.,  32.,  33.,\n",
       "        34.,  35.,  36.,  37.,  38.,  39.,  40.,  41.,  42.,  43.,  44.,\n",
       "        45.,  46.,  47.,  48.,  49.,  50.,  51.,  52.,  53.,  54.,  55.,\n",
       "        56.,  57.,  58.,  59.,  60.,  61.,  62.,  63.,  64.,  65.,  66.,\n",
       "        67.,  68.,  69.,  70.,  71.,  72.,  73.,  74.,  75.,  76.,  77.,\n",
       "        78.,  79.,  80.,  81.,  82.,  83.,  84.,  85.,  86.,  87.,  88.,\n",
       "        89.,  90.,  91.,  92.,  93.,  94.,  95.,  96.,  97.,  98.,  99.,\n",
       "       100., 101., 102., 103., 104., 105., 106., 107., 108., 109., 110.,\n",
       "       111., 112., 113., 114., 115., 116., 117., 118., 119., 120., 121.,\n",
       "       122., 123., 124., 125., 126., 127., 128., 129., 130., 131., 132.,\n",
       "       133., 134., 135., 136., 137., 138., 139., 140., 141., 142., 143.,\n",
       "       144., 145., 146., 147., 148., 149., 150., 151., 152., 153., 154.,\n",
       "       155., 156., 157., 158., 159., 160., 161., 162., 163., 164., 165.,\n",
       "       166., 167., 168., 169., 170., 171., 172., 173., 174., 175., 176.,\n",
       "       177., 178., 179., 180., 181., 182., 183., 184., 185., 186., 187.,\n",
       "       188., 189., 190., 191., 192., 193., 194., 195., 196., 197., 198.,\n",
       "       199., 200.])"
      ]
     },
     "metadata": {},
     "output_type": "display_data"
    },
    {
     "name": "stdout",
     "output_type": "stream",
     "text": [
      "\n",
      "显示X的第一个元素的第一个元素的形状：\n",
      "--------------------------------------------------\n"
     ]
    },
    {
     "data": {
      "text/plain": [
       "(200,)"
      ]
     },
     "metadata": {},
     "output_type": "display_data"
    },
    {
     "name": "stdout",
     "output_type": "stream",
     "text": [
      "\n",
      "显示X的第一个元素的第一个元素的类型：\n",
      "--------------------------------------------------\n"
     ]
    },
    {
     "data": {
      "text/plain": [
       "numpy.ndarray"
      ]
     },
     "metadata": {},
     "output_type": "display_data"
    }
   ],
   "source": [
    "print(\"显示X的内容：\")\n",
    "print(\"-\" * 50)\n",
    "display(X)\n",
    "print(\"\\n显示X的形状：\")\n",
    "print(\"-\" * 50)\n",
    "display(X.shape)\n",
    "print(\"\\n显示X的类型：\")\n",
    "print(\"-\" * 50)\n",
    "display(type(X))\n",
    "print(\"\\n显示X的第一个元素：\")\n",
    "print(\"-\" * 50)\n",
    "display(X[0])\n",
    "print(\"\\n显示X的第一个元素的形状：\")\n",
    "print(\"-\" * 50)\n",
    "display(X[0].shape)\n",
    "print(\"\\n显示X的第一个元素的第一个元素：\")\n",
    "print(\"-\" * 50)\n",
    "display(X[0][0])\n",
    "print(\"\\n显示X的第一个元素的第一个元素的形状：\")\n",
    "print(\"-\" * 50)\n",
    "display(X[0][0].shape)\n",
    "print(\"\\n显示X的第一个元素的第一个元素的类型：\")\n",
    "print(\"-\" * 50)\n",
    "display(type(X[0][0]))"
   ]
  },
  {
   "cell_type": "markdown",
   "metadata": {},
   "source": [
    "存储起来作为SAITS的模型的数据输入。"
   ]
  },
  {
   "cell_type": "code",
   "execution_count": 16,
   "metadata": {},
   "outputs": [],
   "source": [
    "import numpy as np\n",
    "\n",
    "# 假设X是你的numpy.ndarray\n",
    "# 保存数据到文件\n",
    "np.save('data_input.npy', X)"
   ]
  },
  {
   "cell_type": "code",
   "execution_count": 17,
   "metadata": {},
   "outputs": [],
   "source": [
    "import numpy as np\n",
    "\n",
    "# 加载数据\n",
    "X = np.load('data_input.npy')"
   ]
  },
  {
   "cell_type": "code",
   "execution_count": 10,
   "metadata": {},
   "outputs": [
    {
     "ename": "AttributeError",
     "evalue": "'numpy.ndarray' object has no attribute 'to_pickle'",
     "output_type": "error",
     "traceback": [
      "\u001b[0;31m---------------------------------------------------------------------------\u001b[0m",
      "\u001b[0;31mAttributeError\u001b[0m                            Traceback (most recent call last)",
      "Cell \u001b[0;32mIn[10], line 5\u001b[0m\n\u001b[1;32m      1\u001b[0m \u001b[38;5;28;01mimport\u001b[39;00m \u001b[38;5;21;01mpandas\u001b[39;00m \u001b[38;5;28;01mas\u001b[39;00m \u001b[38;5;21;01mpd\u001b[39;00m\n\u001b[1;32m      3\u001b[0m \u001b[38;5;66;03m# 假设df是你的DataFrame\u001b[39;00m\n\u001b[1;32m      4\u001b[0m \u001b[38;5;66;03m# 保存数据到Pickle文件\u001b[39;00m\n\u001b[0;32m----> 5\u001b[0m \u001b[43mX\u001b[49m\u001b[38;5;241;43m.\u001b[39;49m\u001b[43mto_pickle\u001b[49m(\u001b[38;5;124m'\u001b[39m\u001b[38;5;124m./data/data_input.pkl\u001b[39m\u001b[38;5;124m'\u001b[39m)\n",
      "\u001b[0;31mAttributeError\u001b[0m: 'numpy.ndarray' object has no attribute 'to_pickle'"
     ]
    }
   ],
   "source": [
    "import pandas as pd\n",
    "\n",
    "# 假设df是你的DataFrame\n",
    "# 保存数据到Pickle文件\n",
    "X.to_pickle('./data/data_input.pkl')"
   ]
  },
  {
   "cell_type": "code",
   "execution_count": 22,
   "metadata": {},
   "outputs": [
    {
     "name": "stdout",
     "output_type": "stream",
     "text": [
      "X shape: (38435, 5, 200)\n",
      "y shape: (38435, 3)\n"
     ]
    }
   ],
   "source": [
    "import pandas as pd\n",
    "from tsai.basics import *\n",
    "\n",
    "data = dataset\n",
    "\n",
    "# 设置滑动窗口长度和预测的距离\n",
    "window_len = 200\n",
    "horizon = 100\n",
    "\n",
    "# 设置输入特征和目标变量的列名\n",
    "x_vars = ['DEPT', 'RMN-RMG', 'CAL', 'SP', 'GR']\n",
    "y_vars = ['HAC', 'BHC', 'DEN']\n",
    "\n",
    "# 将列名转换为整数索引\n",
    "x_vars_idx = [data.columns.get_loc(col) for col in x_vars]\n",
    "y_vars_idx = [data.columns.get_loc(col) for col in y_vars]\n",
    "\n",
    "# 调用apply_sliding_window函数接口\n",
    "X, y = apply_sliding_window(data, window_len, horizon, x_vars_idx, y_vars_idx)\n",
    "\n",
    "# 输出结果\n",
    "print(\"X shape:\", X.shape)\n",
    "print(\"y shape:\", y.shape)"
   ]
  },
  {
   "cell_type": "code",
   "execution_count": 23,
   "metadata": {},
   "outputs": [
    {
     "name": "stdout",
     "output_type": "stream",
     "text": [
      "X shape: (995, 4, 5)\n",
      "y shape: (995,)\n"
     ]
    }
   ],
   "source": [
    "import numpy as np\n",
    "import pandas as pd\n",
    "from tsai.data.preparation import apply_sliding_window\n",
    "\n",
    "# 创建一个模拟数据集\n",
    "np.random.seed(42)\n",
    "data = pd.DataFrame(np.random.rand(1000, 5), columns=['Feature1', 'Feature2', 'Feature3', 'Feature4', 'Target'])\n",
    "\n",
    "# 设置滑动窗口长度和预测的距离\n",
    "window_len = 5\n",
    "horizon = 1\n",
    "\n",
    "# 设置输入特征和目标变量的列名\n",
    "x_vars = ['Feature1', 'Feature2', 'Feature3', 'Feature4']\n",
    "y_vars = ['Target']\n",
    "\n",
    "# 将列名转换为整数索引\n",
    "x_vars_idx = [data.columns.get_loc(col) for col in x_vars]\n",
    "y_vars_idx = [data.columns.get_loc(col) for col in y_vars]\n",
    "\n",
    "# 调用apply_sliding_window函数接口\n",
    "X, y = apply_sliding_window(data, window_len, horizon, x_vars_idx, y_vars_idx)\n",
    "\n",
    "# 输出结果\n",
    "print(\"X shape:\", X.shape)\n",
    "print(\"y shape:\", y.shape)"
   ]
  },
  {
   "cell_type": "markdown",
   "metadata": {},
   "source": [
    "## 案例一：前面窗口为x，后面窗口为y\n",
    "\n"
   ]
  },
  {
   "cell_type": "code",
   "execution_count": 25,
   "metadata": {},
   "outputs": [
    {
     "data": {
      "text/html": [
       "<div>\n",
       "<style scoped>\n",
       "    .dataframe tbody tr th:only-of-type {\n",
       "        vertical-align: middle;\n",
       "    }\n",
       "\n",
       "    .dataframe tbody tr th {\n",
       "        vertical-align: top;\n",
       "    }\n",
       "\n",
       "    .dataframe thead th {\n",
       "        text-align: right;\n",
       "    }\n",
       "</style>\n",
       "<table border=\"1\" class=\"dataframe\">\n",
       "  <thead>\n",
       "    <tr style=\"text-align: right;\">\n",
       "      <th></th>\n",
       "      <th>feat_1</th>\n",
       "      <th>feat_2</th>\n",
       "      <th>feat_3</th>\n",
       "    </tr>\n",
       "  </thead>\n",
       "  <tbody>\n",
       "    <tr>\n",
       "      <th>0</th>\n",
       "      <td>0</td>\n",
       "      <td>0</td>\n",
       "      <td>0</td>\n",
       "    </tr>\n",
       "    <tr>\n",
       "      <th>1</th>\n",
       "      <td>1</td>\n",
       "      <td>10</td>\n",
       "      <td>100</td>\n",
       "    </tr>\n",
       "    <tr>\n",
       "      <th>2</th>\n",
       "      <td>2</td>\n",
       "      <td>20</td>\n",
       "      <td>200</td>\n",
       "    </tr>\n",
       "    <tr>\n",
       "      <th>3</th>\n",
       "      <td>3</td>\n",
       "      <td>30</td>\n",
       "      <td>300</td>\n",
       "    </tr>\n",
       "    <tr>\n",
       "      <th>4</th>\n",
       "      <td>4</td>\n",
       "      <td>40</td>\n",
       "      <td>400</td>\n",
       "    </tr>\n",
       "    <tr>\n",
       "      <th>5</th>\n",
       "      <td>5</td>\n",
       "      <td>50</td>\n",
       "      <td>500</td>\n",
       "    </tr>\n",
       "    <tr>\n",
       "      <th>6</th>\n",
       "      <td>6</td>\n",
       "      <td>60</td>\n",
       "      <td>600</td>\n",
       "    </tr>\n",
       "    <tr>\n",
       "      <th>7</th>\n",
       "      <td>7</td>\n",
       "      <td>70</td>\n",
       "      <td>700</td>\n",
       "    </tr>\n",
       "    <tr>\n",
       "      <th>8</th>\n",
       "      <td>8</td>\n",
       "      <td>80</td>\n",
       "      <td>800</td>\n",
       "    </tr>\n",
       "    <tr>\n",
       "      <th>9</th>\n",
       "      <td>9</td>\n",
       "      <td>90</td>\n",
       "      <td>900</td>\n",
       "    </tr>\n",
       "  </tbody>\n",
       "</table>\n",
       "</div>"
      ],
      "text/plain": [
       "   feat_1  feat_2  feat_3\n",
       "0       0       0       0\n",
       "1       1      10     100\n",
       "2       2      20     200\n",
       "3       3      30     300\n",
       "4       4      40     400\n",
       "5       5      50     500\n",
       "6       6      60     600\n",
       "7       7      70     700\n",
       "8       8      80     800\n",
       "9       9      90     900"
      ]
     },
     "execution_count": 25,
     "metadata": {},
     "output_type": "execute_result"
    }
   ],
   "source": [
    "data = np.arange(10).reshape(-1,1).repeat(3, 1) * np.array([1, 10, 100])\n",
    "df = pd.DataFrame(data, columns=['feat_1', 'feat_2', 'feat_3'])\n",
    "df"
   ]
  },
  {
   "cell_type": "code",
   "execution_count": 30,
   "metadata": {},
   "outputs": [
    {
     "name": "stdout",
     "output_type": "stream",
     "text": [
      "True\n",
      "True\n",
      "(4, 3, 6) (4, 3)\n"
     ]
    },
    {
     "data": {
      "text/plain": [
       "(array([[  0,   1,   2,   3,   4,   5],\n",
       "        [  0,  10,  20,  30,  40,  50],\n",
       "        [  0, 100, 200, 300, 400, 500]]),\n",
       " array([  6,  60, 600]))"
      ]
     },
     "execution_count": 30,
     "metadata": {},
     "output_type": "execute_result"
    }
   ],
   "source": [
    "window_len = 6\n",
    "horizon = 1\n",
    "x_vars = None\n",
    "y_vars = None\n",
    "X, y = apply_sliding_window(data, window_len, horizon=horizon, x_vars=x_vars, y_vars=y_vars)\n",
    "print(np.shares_memory(X, data))\n",
    "print(np.shares_memory(y, data))\n",
    "print(X.shape, y.shape)\n",
    "test_eq(X.shape, (len(df) - (window_len - 1 + horizon), df.shape[1], window_len))\n",
    "test_eq(y.shape, (len(df) - (window_len - 1 + horizon), df.shape[1]))\n",
    "X[0], y[0]"
   ]
  },
  {
   "cell_type": "code",
   "execution_count": 31,
   "metadata": {},
   "outputs": [
    {
     "data": {
      "text/plain": [
       "array([[[  0,   1,   2,   3,   4,   5],\n",
       "        [  0,  10,  20,  30,  40,  50],\n",
       "        [  0, 100, 200, 300, 400, 500]],\n",
       "\n",
       "       [[  1,   2,   3,   4,   5,   6],\n",
       "        [ 10,  20,  30,  40,  50,  60],\n",
       "        [100, 200, 300, 400, 500, 600]],\n",
       "\n",
       "       [[  2,   3,   4,   5,   6,   7],\n",
       "        [ 20,  30,  40,  50,  60,  70],\n",
       "        [200, 300, 400, 500, 600, 700]],\n",
       "\n",
       "       [[  3,   4,   5,   6,   7,   8],\n",
       "        [ 30,  40,  50,  60,  70,  80],\n",
       "        [300, 400, 500, 600, 700, 800]]])"
      ]
     },
     "execution_count": 31,
     "metadata": {},
     "output_type": "execute_result"
    }
   ],
   "source": [
    "X"
   ]
  },
  {
   "cell_type": "code",
   "execution_count": 33,
   "metadata": {},
   "outputs": [
    {
     "name": "stdout",
     "output_type": "stream",
     "text": [
      "(3, 6) (3,)\n",
      "[[  0   1   2   3   4   5]\n",
      " [  0  10  20  30  40  50]\n",
      " [  0 100 200 300 400 500]] [  6  60 600]\n",
      "(3, 6) (3,)\n",
      "[[  1   2   3   4   5   6]\n",
      " [ 10  20  30  40  50  60]\n",
      " [100 200 300 400 500 600]] [  7  70 700]\n",
      "(3, 6) (3,)\n",
      "[[  2   3   4   5   6   7]\n",
      " [ 20  30  40  50  60  70]\n",
      " [200 300 400 500 600 700]] [  8  80 800]\n",
      "(3, 6) (3,)\n",
      "[[  3   4   5   6   7   8]\n",
      " [ 30  40  50  60  70  80]\n",
      " [300 400 500 600 700 800]] [  9  90 900]\n"
     ]
    }
   ],
   "source": [
    "for i in range(len(X)):\n",
    "    print(X[i].shape, y[i].shape)\n",
    "    print(X[i], y[i])"
   ]
  },
  {
   "cell_type": "markdown",
   "metadata": {},
   "source": [
    "## 案例二"
   ]
  },
  {
   "cell_type": "code",
   "execution_count": 34,
   "metadata": {},
   "outputs": [
    {
     "name": "stdout",
     "output_type": "stream",
     "text": [
      "True\n",
      "True\n",
      "(4, 3, 6) (4,)\n"
     ]
    },
    {
     "data": {
      "text/plain": [
       "(array([[  0,   1,   2,   3,   4,   5],\n",
       "        [  0,  10,  20,  30,  40,  50],\n",
       "        [  0, 100, 200, 300, 400, 500]]),\n",
       " 6)"
      ]
     },
     "execution_count": 34,
     "metadata": {},
     "output_type": "execute_result"
    }
   ],
   "source": [
    "window_len = 6\n",
    "horizon = 1\n",
    "x_vars = None\n",
    "y_vars = 0\n",
    "X, y = apply_sliding_window(df, window_len, horizon=horizon, x_vars=x_vars, y_vars=y_vars)\n",
    "print(np.shares_memory(X, df))\n",
    "print(np.shares_memory(y, df))\n",
    "print(X.shape, y.shape)\n",
    "test_eq(X.shape, (len(df) - (window_len - 1 + horizon), df.shape[1], window_len))\n",
    "test_eq(y.shape, (len(df) - (window_len - 1 + horizon),))\n",
    "X[0], y[0]"
   ]
  },
  {
   "cell_type": "markdown",
   "metadata": {},
   "source": [
    "## 案例三"
   ]
  },
  {
   "cell_type": "code",
   "execution_count": 36,
   "metadata": {},
   "outputs": [
    {
     "name": "stdout",
     "output_type": "stream",
     "text": [
      "True\n",
      "False\n",
      "(1, 1, 8) (2, 2)\n"
     ]
    },
    {
     "data": {
      "text/plain": [
       "(array([[0, 1, 2, 3, 4, 5, 6, 7]]), array([80, 90]))"
      ]
     },
     "execution_count": 36,
     "metadata": {},
     "output_type": "execute_result"
    }
   ],
   "source": [
    "window_len = 8\n",
    "horizon = [1, 2]\n",
    "x_vars = 0\n",
    "y_vars = [1, 2]\n",
    "X, y = apply_sliding_window(df, window_len, horizon=horizon, x_vars=x_vars, y_vars=y_vars)\n",
    "print(np.shares_memory(X, df))\n",
    "print(np.shares_memory(y, df))\n",
    "print(X.shape, y.shape)\n",
    "\n",
    "X[0], y[0]"
   ]
  },
  {
   "cell_type": "markdown",
   "metadata": {},
   "source": [
    "## 案例四"
   ]
  },
  {
   "cell_type": "code",
   "execution_count": 38,
   "metadata": {},
   "outputs": [
    {
     "name": "stdout",
     "output_type": "stream",
     "text": [
      "False\n",
      "False\n",
      "(2, 1, 4) (2, 2, 3)\n"
     ]
    },
    {
     "data": {
      "text/plain": [
       "(array([[0, 2, 3, 4]]),\n",
       " array([[ 50,  60,  80],\n",
       "        [500, 600, 800]]))"
      ]
     },
     "execution_count": 38,
     "metadata": {},
     "output_type": "execute_result"
    }
   ],
   "source": [
    "window_len = [-4, -2, -1, 0]\n",
    "horizon = [1, 2, 4]\n",
    "x_vars = 0\n",
    "y_vars = [1, 2]\n",
    "X, y = apply_sliding_window(df, window_len, horizon=horizon, x_vars=x_vars, y_vars=y_vars)\n",
    "print(np.shares_memory(X, df))\n",
    "print(np.shares_memory(y, df))\n",
    "print(X.shape, y.shape)\n",
    "X[0], y[0]"
   ]
  },
  {
   "cell_type": "markdown",
   "metadata": {},
   "source": [
    "## slidingWindow"
   ]
  },
  {
   "cell_type": "code",
   "execution_count": 40,
   "metadata": {},
   "outputs": [
    {
     "data": {
      "text/plain": [
       "array([[ 0,  0,  0],\n",
       "       [ 1,  1,  1],\n",
       "       [ 2,  2,  2],\n",
       "       [ 3,  3,  3],\n",
       "       [ 4,  4,  4],\n",
       "       [ 5,  5,  5],\n",
       "       [ 6,  6,  6],\n",
       "       [ 7,  7,  7],\n",
       "       [ 8,  8,  8],\n",
       "       [ 9,  9,  9],\n",
       "       [10, 10, 10],\n",
       "       [11, 11, 11],\n",
       "       [12, 12, 12]])"
      ]
     },
     "execution_count": 40,
     "metadata": {},
     "output_type": "execute_result"
    }
   ],
   "source": [
    "t"
   ]
  },
  {
   "cell_type": "markdown",
   "metadata": {},
   "source": [
    "### 案例一"
   ]
  },
  {
   "cell_type": "code",
   "execution_count": 58,
   "metadata": {},
   "outputs": [
    {
     "name": "stdout",
     "output_type": "stream",
     "text": [
      "input shape: (13, 3)\n"
     ]
    },
    {
     "data": {
      "text/plain": [
       "array([[[ 0.,  1.,  2.,  3.,  4.],\n",
       "        [ 0.,  1.,  2.,  3.,  4.],\n",
       "        [ 0.,  1.,  2.,  3.,  4.],\n",
       "        [ 0.,  0.,  0.,  0.,  0.]],\n",
       "\n",
       "       [[ 5.,  6.,  7.,  8.,  9.],\n",
       "        [ 5.,  6.,  7.,  8.,  9.],\n",
       "        [ 5.,  6.,  7.,  8.,  9.],\n",
       "        [ 0.,  0.,  0.,  0.,  0.]],\n",
       "\n",
       "       [[10., 11., 12., nan, nan],\n",
       "        [10., 11., 12., nan, nan],\n",
       "        [10., 11., 12., nan, nan],\n",
       "        [ 0.,  0.,  0.,  1.,  1.]]])"
      ]
     },
     "execution_count": 58,
     "metadata": {},
     "output_type": "execute_result"
    }
   ],
   "source": [
    "wl = 5\n",
    "stride = 5\n",
    "\n",
    "t = np.repeat(np.arange(13).reshape(-1,1), 3, axis=-1)\n",
    "print('input shape:', t.shape)\n",
    "X, y = SlidingWindow(wl, stride=stride, pad_remainder=True, get_y=[])(t)\n",
    "X"
   ]
  },
  {
   "cell_type": "code",
   "execution_count": 59,
   "metadata": {},
   "outputs": [
    {
     "data": {
      "text/plain": [
       "(3, 4, 5)"
      ]
     },
     "execution_count": 59,
     "metadata": {},
     "output_type": "execute_result"
    }
   ],
   "source": [
    "X.shape"
   ]
  },
  {
   "cell_type": "code",
   "execution_count": 60,
   "metadata": {},
   "outputs": [
    {
     "data": {
      "text/plain": [
       "array([[0., 1., 2., 3., 4.],\n",
       "       [0., 1., 2., 3., 4.],\n",
       "       [0., 1., 2., 3., 4.],\n",
       "       [0., 0., 0., 0., 0.]])"
      ]
     },
     "execution_count": 60,
     "metadata": {},
     "output_type": "execute_result"
    }
   ],
   "source": [
    "X[0]"
   ]
  },
  {
   "cell_type": "code",
   "execution_count": 61,
   "metadata": {},
   "outputs": [
    {
     "data": {
      "text/plain": [
       "(4, 5)"
      ]
     },
     "execution_count": 61,
     "metadata": {},
     "output_type": "execute_result"
    }
   ],
   "source": [
    "X[0].shape"
   ]
  },
  {
   "cell_type": "code",
   "execution_count": 62,
   "metadata": {},
   "outputs": [
    {
     "data": {
      "text/plain": [
       "array([], shape=(0, 4, 5), dtype=float64)"
      ]
     },
     "execution_count": 62,
     "metadata": {},
     "output_type": "execute_result"
    }
   ],
   "source": [
    "X[:0:]"
   ]
  },
  {
   "cell_type": "code",
   "execution_count": 64,
   "metadata": {},
   "outputs": [
    {
     "data": {
      "text/plain": [
       "None"
      ]
     },
     "metadata": {},
     "output_type": "display_data"
    }
   ],
   "source": [
    "display(y)"
   ]
  },
  {
   "cell_type": "markdown",
   "metadata": {},
   "source": [
    "### 案例二"
   ]
  },
  {
   "cell_type": "code",
   "execution_count": 65,
   "metadata": {},
   "outputs": [
    {
     "name": "stdout",
     "output_type": "stream",
     "text": [
      "input shape: (10,)\n"
     ]
    },
    {
     "data": {
      "text/plain": [
       "(#5) [(array([[0, 1, 2, 3, 4]]),),(array([[1, 2, 3, 4, 5]]),),(array([[2, 3, 4, 5, 6]]),),(array([[3, 4, 5, 6, 7]]),),(array([[4, 5, 6, 7, 8]]),)]"
      ]
     },
     "execution_count": 65,
     "metadata": {},
     "output_type": "execute_result"
    }
   ],
   "source": [
    "wl = 5\n",
    "t = np.arange(10)\n",
    "print('input shape:', t.shape)\n",
    "X, y = SlidingWindow(wl)(t)\n",
    "test_eq(X.shape[1:], (1, wl))\n",
    "itemify(X,)"
   ]
  },
  {
   "cell_type": "code",
   "execution_count": 66,
   "metadata": {},
   "outputs": [
    {
     "data": {
      "text/plain": [
       "array([[[0, 1, 2, 3, 4]],\n",
       "\n",
       "       [[1, 2, 3, 4, 5]],\n",
       "\n",
       "       [[2, 3, 4, 5, 6]],\n",
       "\n",
       "       [[3, 4, 5, 6, 7]],\n",
       "\n",
       "       [[4, 5, 6, 7, 8]]])"
      ]
     },
     "execution_count": 66,
     "metadata": {},
     "output_type": "execute_result"
    }
   ],
   "source": [
    "X"
   ]
  },
  {
   "cell_type": "code",
   "execution_count": 67,
   "metadata": {},
   "outputs": [
    {
     "data": {
      "text/plain": [
       "array([5, 6, 7, 8, 9])"
      ]
     },
     "metadata": {},
     "output_type": "display_data"
    }
   ],
   "source": [
    "display(y)"
   ]
  },
  {
   "cell_type": "markdown",
   "metadata": {},
   "source": [
    "### 案例三"
   ]
  },
  {
   "cell_type": "code",
   "execution_count": 78,
   "metadata": {},
   "outputs": [
    {
     "name": "stdout",
     "output_type": "stream",
     "text": [
      "input shape: (10,)\n",
      "[(array([[0, 1, 2, 3, 4]]), array([5, 6])), (array([[2, 3, 4, 5, 6]]), array([7, 8]))]\n"
     ]
    }
   ],
   "source": [
    "wl = 5\n",
    "h = 2\n",
    "\n",
    "t = np.arange(10)\n",
    "print('input shape:', t.shape)\n",
    "X, y = SlidingWindow(wl, stride=2, horizon=h)(t)\n",
    "items = itemify(X, y)\n",
    "print(items)\n"
   ]
  },
  {
   "cell_type": "code",
   "execution_count": 79,
   "metadata": {},
   "outputs": [
    {
     "data": {
      "text/plain": [
       "array([[[0, 1, 2, 3, 4]],\n",
       "\n",
       "       [[2, 3, 4, 5, 6]]])"
      ]
     },
     "execution_count": 79,
     "metadata": {},
     "output_type": "execute_result"
    }
   ],
   "source": [
    "X"
   ]
  },
  {
   "cell_type": "code",
   "execution_count": 80,
   "metadata": {},
   "outputs": [
    {
     "data": {
      "text/plain": [
       "array([[5, 6],\n",
       "       [7, 8]])"
      ]
     },
     "execution_count": 80,
     "metadata": {},
     "output_type": "execute_result"
    }
   ],
   "source": [
    "y\n"
   ]
  },
  {
   "cell_type": "markdown",
   "metadata": {},
   "source": [
    "### 案例三"
   ]
  },
  {
   "cell_type": "code",
   "execution_count": 81,
   "metadata": {},
   "outputs": [
    {
     "name": "stdout",
     "output_type": "stream",
     "text": [
      "input shape: (10,)\n",
      "[(array([[0, 1, 2, 3, 4]]), array([5, 6])), (array([[1, 2, 3, 4, 5]]), array([6, 7])), (array([[2, 3, 4, 5, 6]]), array([7, 8])), (array([[3, 4, 5, 6, 7]]), array([8, 9]))]\n"
     ]
    }
   ],
   "source": [
    "wl = 5\n",
    "h = 2 # 2 or more\n",
    "\n",
    "t = np.arange(10)\n",
    "print('input shape:', t.shape)\n",
    "X, y = SlidingWindow(wl, horizon=h)(t)\n",
    "items = itemify(X, y)\n",
    "print(items)\n",
    "test_eq(items[0][0].shape, (1, wl))\n",
    "test_eq(items[0][1].shape, (2, ))"
   ]
  },
  {
   "cell_type": "markdown",
   "metadata": {},
   "source": [
    "## 案例四"
   ]
  },
  {
   "cell_type": "code",
   "execution_count": 84,
   "metadata": {},
   "outputs": [
    {
     "name": "stdout",
     "output_type": "stream",
     "text": [
      "input shape: (1, 10)\n",
      "[(array([[0, 1, 2, 3, 4]]), array([5, 6])), (array([[1, 2, 3, 4, 5]]), array([6, 7])), (array([[2, 3, 4, 5, 6]]), array([7, 8])), (array([[3, 4, 5, 6, 7]]), array([8, 9]))]\n"
     ]
    }
   ],
   "source": [
    "wl = 5\n",
    "h = 2 # 2 or more\n",
    "\n",
    "t = np.arange(10).reshape(1, -1)\n",
    "print('input shape:', t.shape)\n",
    "X, y = SlidingWindow(wl, stride=1, horizon=h, get_y=None, seq_first=False)(t)\n",
    "items = itemify(X, y)\n",
    "print(items)\n",
    "test_eq(items[0][0].shape, (1, wl))\n",
    "test_eq(items[0][1].shape, (2, ))"
   ]
  },
  {
   "cell_type": "code",
   "execution_count": 85,
   "metadata": {},
   "outputs": [
    {
     "data": {
      "text/plain": [
       "(4, 1, 5)"
      ]
     },
     "metadata": {},
     "output_type": "display_data"
    },
    {
     "data": {
      "text/plain": [
       "(4, 2)"
      ]
     },
     "metadata": {},
     "output_type": "display_data"
    }
   ],
   "source": [
    "display(X.shape)\n",
    "display(y.shape)"
   ]
  },
  {
   "cell_type": "markdown",
   "metadata": {},
   "source": [
    "### 案例五"
   ]
  },
  {
   "cell_type": "code",
   "execution_count": 88,
   "metadata": {},
   "outputs": [
    {
     "name": "stdout",
     "output_type": "stream",
     "text": [
      "input shape: (1, 10)\n",
      "[(array([[0, 1, 2, 3, 4]]), array([5, 6])), (array([[1, 2, 3, 4, 5]]), array([6, 7])), (array([[2, 3, 4, 5, 6]]), array([7, 8])), (array([[3, 4, 5, 6, 7]]), array([8, 9]))]\n"
     ]
    }
   ],
   "source": [
    "wl = 5\n",
    "h = 2 # 2 or more\n",
    "\n",
    "t = np.arange(10).reshape(1, -1)\n",
    "print('input shape:', t.shape)\n",
    "X, y = SlidingWindow(wl, stride=1, horizon=h, seq_first=False)(t)\n",
    "items = itemify(X, y)\n",
    "print(items)\n",
    "test_eq(items[0][0].shape, (1, wl))"
   ]
  },
  {
   "cell_type": "code",
   "execution_count": 89,
   "metadata": {},
   "outputs": [
    {
     "data": {
      "text/plain": [
       "(4, 1, 5)"
      ]
     },
     "metadata": {},
     "output_type": "display_data"
    },
    {
     "data": {
      "text/plain": [
       "(4, 2)"
      ]
     },
     "metadata": {},
     "output_type": "display_data"
    }
   ],
   "source": [
    "display(X.shape)\n",
    "display(y.shape)"
   ]
  },
  {
   "cell_type": "markdown",
   "metadata": {},
   "source": [
    "### 案例六"
   ]
  },
  {
   "cell_type": "code",
   "execution_count": 90,
   "metadata": {},
   "outputs": [
    {
     "name": "stdout",
     "output_type": "stream",
     "text": [
      "input shape: (1, 10)\n",
      "[(array([[0, 1, 2, 3, 4]]), 5), (array([[3, 4, 5, 6, 7]]), 8)]\n"
     ]
    }
   ],
   "source": [
    "wl = 5\n",
    "\n",
    "t = np.arange(10).reshape(1, -1)\n",
    "print('input shape:', t.shape)\n",
    "X, y = SlidingWindow(wl, stride=3, horizon=1, get_y=None, seq_first=False)(t)\n",
    "items = itemify(X, y)\n",
    "print(items)\n",
    "test_eq(items[0][0].shape, (1, wl))\n",
    "test_eq(items[0][1].shape, ())"
   ]
  },
  {
   "cell_type": "markdown",
   "metadata": {},
   "source": []
  },
  {
   "cell_type": "code",
   "execution_count": 91,
   "metadata": {},
   "outputs": [
    {
     "name": "stdout",
     "output_type": "stream",
     "text": [
      "input shape: (20,)\n",
      "[(array([[3, 4, 5, 6, 7]]), 8), (array([[ 8,  9, 10, 11, 12]]), 13), (array([[13, 14, 15, 16, 17]]), 18)]\n"
     ]
    }
   ],
   "source": [
    "wl = 5\n",
    "start = 3\n",
    "\n",
    "t = np.arange(20)\n",
    "print('input shape:', t.shape)\n",
    "X, y = SlidingWindow(wl, stride=None, horizon=1, start=start)(t)\n",
    "items = itemify(X, y)\n",
    "print(items)\n",
    "test_eq(items[0][0].shape, (1, wl))\n",
    "test_eq(items[0][1].shape, ())"
   ]
  },
  {
   "cell_type": "code",
   "execution_count": 92,
   "metadata": {},
   "outputs": [
    {
     "data": {
      "text/plain": [
       "(20,)"
      ]
     },
     "metadata": {},
     "output_type": "display_data"
    },
    {
     "data": {
      "text/plain": [
       "(3, 1, 5)"
      ]
     },
     "metadata": {},
     "output_type": "display_data"
    },
    {
     "data": {
      "text/plain": [
       "(3,)"
      ]
     },
     "metadata": {},
     "output_type": "display_data"
    }
   ],
   "source": [
    "display(t.shape)\n",
    "display(X.shape)\n",
    "display(y.shape)"
   ]
  },
  {
   "cell_type": "code",
   "execution_count": 93,
   "metadata": {},
   "outputs": [
    {
     "name": "stdout",
     "output_type": "stream",
     "text": [
      "input shape: (20,)\n"
     ]
    },
    {
     "data": {
      "text/html": [
       "<div>\n",
       "<style scoped>\n",
       "    .dataframe tbody tr th:only-of-type {\n",
       "        vertical-align: middle;\n",
       "    }\n",
       "\n",
       "    .dataframe tbody tr th {\n",
       "        vertical-align: top;\n",
       "    }\n",
       "\n",
       "    .dataframe thead th {\n",
       "        text-align: right;\n",
       "    }\n",
       "</style>\n",
       "<table border=\"1\" class=\"dataframe\">\n",
       "  <thead>\n",
       "    <tr style=\"text-align: right;\">\n",
       "      <th></th>\n",
       "      <th>var</th>\n",
       "    </tr>\n",
       "  </thead>\n",
       "  <tbody>\n",
       "    <tr>\n",
       "      <th>0</th>\n",
       "      <td>0</td>\n",
       "    </tr>\n",
       "    <tr>\n",
       "      <th>1</th>\n",
       "      <td>1</td>\n",
       "    </tr>\n",
       "    <tr>\n",
       "      <th>2</th>\n",
       "      <td>2</td>\n",
       "    </tr>\n",
       "    <tr>\n",
       "      <th>3</th>\n",
       "      <td>3</td>\n",
       "    </tr>\n",
       "    <tr>\n",
       "      <th>4</th>\n",
       "      <td>4</td>\n",
       "    </tr>\n",
       "    <tr>\n",
       "      <th>5</th>\n",
       "      <td>5</td>\n",
       "    </tr>\n",
       "    <tr>\n",
       "      <th>6</th>\n",
       "      <td>6</td>\n",
       "    </tr>\n",
       "    <tr>\n",
       "      <th>7</th>\n",
       "      <td>7</td>\n",
       "    </tr>\n",
       "    <tr>\n",
       "      <th>8</th>\n",
       "      <td>8</td>\n",
       "    </tr>\n",
       "    <tr>\n",
       "      <th>9</th>\n",
       "      <td>9</td>\n",
       "    </tr>\n",
       "    <tr>\n",
       "      <th>10</th>\n",
       "      <td>10</td>\n",
       "    </tr>\n",
       "    <tr>\n",
       "      <th>11</th>\n",
       "      <td>11</td>\n",
       "    </tr>\n",
       "    <tr>\n",
       "      <th>12</th>\n",
       "      <td>12</td>\n",
       "    </tr>\n",
       "    <tr>\n",
       "      <th>13</th>\n",
       "      <td>13</td>\n",
       "    </tr>\n",
       "    <tr>\n",
       "      <th>14</th>\n",
       "      <td>14</td>\n",
       "    </tr>\n",
       "    <tr>\n",
       "      <th>15</th>\n",
       "      <td>15</td>\n",
       "    </tr>\n",
       "    <tr>\n",
       "      <th>16</th>\n",
       "      <td>16</td>\n",
       "    </tr>\n",
       "    <tr>\n",
       "      <th>17</th>\n",
       "      <td>17</td>\n",
       "    </tr>\n",
       "    <tr>\n",
       "      <th>18</th>\n",
       "      <td>18</td>\n",
       "    </tr>\n",
       "    <tr>\n",
       "      <th>19</th>\n",
       "      <td>19</td>\n",
       "    </tr>\n",
       "  </tbody>\n",
       "</table>\n",
       "</div>"
      ],
      "text/plain": [
       "    var\n",
       "0     0\n",
       "1     1\n",
       "2     2\n",
       "3     3\n",
       "4     4\n",
       "5     5\n",
       "6     6\n",
       "7     7\n",
       "8     8\n",
       "9     9\n",
       "10   10\n",
       "11   11\n",
       "12   12\n",
       "13   13\n",
       "14   14\n",
       "15   15\n",
       "16   16\n",
       "17   17\n",
       "18   18\n",
       "19   19"
      ]
     },
     "metadata": {},
     "output_type": "display_data"
    },
    {
     "name": "stdout",
     "output_type": "stream",
     "text": [
      "[(array([[0, 1, 2, 3, 4]]), 5), (array([[5, 6, 7, 8, 9]]), 10), (array([[10, 11, 12, 13, 14]]), 15)]\n"
     ]
    }
   ],
   "source": [
    "wl = 5\n",
    "\n",
    "t = np.arange(20)\n",
    "print('input shape:', t.shape)\n",
    "df = pd.DataFrame(t, columns=['var'])\n",
    "display(df)\n",
    "X, y = SlidingWindow(wl, stride=None, horizon=1, get_y=None)(df)\n",
    "items = itemify(X, y)\n",
    "print(items)\n",
    "test_eq(items[0][0].shape, (1, wl))\n",
    "test_eq(items[0][1].shape, ())"
   ]
  },
  {
   "cell_type": "code",
   "execution_count": 94,
   "metadata": {},
   "outputs": [
    {
     "data": {
      "text/plain": [
       "(20,)"
      ]
     },
     "metadata": {},
     "output_type": "display_data"
    },
    {
     "data": {
      "text/plain": [
       "(3, 1, 5)"
      ]
     },
     "metadata": {},
     "output_type": "display_data"
    },
    {
     "data": {
      "text/plain": [
       "(3,)"
      ]
     },
     "metadata": {},
     "output_type": "display_data"
    }
   ],
   "source": [
    "display(t.shape)\n",
    "display(X.shape)\n",
    "display(y.shape)"
   ]
  },
  {
   "cell_type": "code",
   "execution_count": 95,
   "metadata": {},
   "outputs": [
    {
     "name": "stdout",
     "output_type": "stream",
     "text": [
      "input shape: (20,)\n"
     ]
    },
    {
     "data": {
      "text/html": [
       "<div>\n",
       "<style scoped>\n",
       "    .dataframe tbody tr th:only-of-type {\n",
       "        vertical-align: middle;\n",
       "    }\n",
       "\n",
       "    .dataframe tbody tr th {\n",
       "        vertical-align: top;\n",
       "    }\n",
       "\n",
       "    .dataframe thead th {\n",
       "        text-align: right;\n",
       "    }\n",
       "</style>\n",
       "<table border=\"1\" class=\"dataframe\">\n",
       "  <thead>\n",
       "    <tr style=\"text-align: right;\">\n",
       "      <th></th>\n",
       "      <th>var</th>\n",
       "    </tr>\n",
       "  </thead>\n",
       "  <tbody>\n",
       "    <tr>\n",
       "      <th>0</th>\n",
       "      <td>0</td>\n",
       "    </tr>\n",
       "    <tr>\n",
       "      <th>1</th>\n",
       "      <td>1</td>\n",
       "    </tr>\n",
       "    <tr>\n",
       "      <th>2</th>\n",
       "      <td>2</td>\n",
       "    </tr>\n",
       "    <tr>\n",
       "      <th>3</th>\n",
       "      <td>3</td>\n",
       "    </tr>\n",
       "    <tr>\n",
       "      <th>4</th>\n",
       "      <td>4</td>\n",
       "    </tr>\n",
       "    <tr>\n",
       "      <th>5</th>\n",
       "      <td>5</td>\n",
       "    </tr>\n",
       "    <tr>\n",
       "      <th>6</th>\n",
       "      <td>6</td>\n",
       "    </tr>\n",
       "    <tr>\n",
       "      <th>7</th>\n",
       "      <td>7</td>\n",
       "    </tr>\n",
       "    <tr>\n",
       "      <th>8</th>\n",
       "      <td>8</td>\n",
       "    </tr>\n",
       "    <tr>\n",
       "      <th>9</th>\n",
       "      <td>9</td>\n",
       "    </tr>\n",
       "    <tr>\n",
       "      <th>10</th>\n",
       "      <td>10</td>\n",
       "    </tr>\n",
       "    <tr>\n",
       "      <th>11</th>\n",
       "      <td>11</td>\n",
       "    </tr>\n",
       "    <tr>\n",
       "      <th>12</th>\n",
       "      <td>12</td>\n",
       "    </tr>\n",
       "    <tr>\n",
       "      <th>13</th>\n",
       "      <td>13</td>\n",
       "    </tr>\n",
       "    <tr>\n",
       "      <th>14</th>\n",
       "      <td>14</td>\n",
       "    </tr>\n",
       "    <tr>\n",
       "      <th>15</th>\n",
       "      <td>15</td>\n",
       "    </tr>\n",
       "    <tr>\n",
       "      <th>16</th>\n",
       "      <td>16</td>\n",
       "    </tr>\n",
       "    <tr>\n",
       "      <th>17</th>\n",
       "      <td>17</td>\n",
       "    </tr>\n",
       "    <tr>\n",
       "      <th>18</th>\n",
       "      <td>18</td>\n",
       "    </tr>\n",
       "    <tr>\n",
       "      <th>19</th>\n",
       "      <td>19</td>\n",
       "    </tr>\n",
       "  </tbody>\n",
       "</table>\n",
       "</div>"
      ],
      "text/plain": [
       "    var\n",
       "0     0\n",
       "1     1\n",
       "2     2\n",
       "3     3\n",
       "4     4\n",
       "5     5\n",
       "6     6\n",
       "7     7\n",
       "8     8\n",
       "9     9\n",
       "10   10\n",
       "11   11\n",
       "12   12\n",
       "13   13\n",
       "14   14\n",
       "15   15\n",
       "16   16\n",
       "17   17\n",
       "18   18\n",
       "19   19"
      ]
     },
     "metadata": {},
     "output_type": "display_data"
    },
    {
     "name": "stdout",
     "output_type": "stream",
     "text": [
      "[(array([[0, 1, 2, 3, 4]]), 5), (array([[1, 2, 3, 4, 5]]), 6), (array([[2, 3, 4, 5, 6]]), 7), (array([[3, 4, 5, 6, 7]]), 8), (array([[4, 5, 6, 7, 8]]), 9), (array([[5, 6, 7, 8, 9]]), 10), (array([[ 6,  7,  8,  9, 10]]), 11), (array([[ 7,  8,  9, 10, 11]]), 12), (array([[ 8,  9, 10, 11, 12]]), 13), (array([[ 9, 10, 11, 12, 13]]), 14), (array([[10, 11, 12, 13, 14]]), 15), (array([[11, 12, 13, 14, 15]]), 16), (array([[12, 13, 14, 15, 16]]), 17), (array([[13, 14, 15, 16, 17]]), 18), (array([[14, 15, 16, 17, 18]]), 19)]\n"
     ]
    }
   ],
   "source": [
    "wl = 5\n",
    "\n",
    "t = np.arange(20)\n",
    "print('input shape:', t.shape)\n",
    "df = pd.DataFrame(t, columns=['var'])\n",
    "display(df)\n",
    "X, y = SlidingWindow(wl, stride=1, horizon=1, get_y=None)(df)\n",
    "items = itemify(X, y)\n",
    "print(items)\n",
    "test_eq(items[0][0].shape, (1, wl))\n",
    "test_eq(items[0][1].shape, ())"
   ]
  },
  {
   "cell_type": "code",
   "execution_count": 96,
   "metadata": {},
   "outputs": [
    {
     "data": {
      "text/plain": [
       "(20,)"
      ]
     },
     "metadata": {},
     "output_type": "display_data"
    },
    {
     "data": {
      "text/plain": [
       "(15, 1, 5)"
      ]
     },
     "metadata": {},
     "output_type": "display_data"
    },
    {
     "data": {
      "text/plain": [
       "(15,)"
      ]
     },
     "metadata": {},
     "output_type": "display_data"
    }
   ],
   "source": [
    "display(t.shape)\n",
    "display(X.shape)\n",
    "display(y.shape)"
   ]
  },
  {
   "cell_type": "code",
   "execution_count": 97,
   "metadata": {},
   "outputs": [
    {
     "name": "stdout",
     "output_type": "stream",
     "text": [
      "input shape: (20,)\n"
     ]
    },
    {
     "data": {
      "text/html": [
       "<div>\n",
       "<style scoped>\n",
       "    .dataframe tbody tr th:only-of-type {\n",
       "        vertical-align: middle;\n",
       "    }\n",
       "\n",
       "    .dataframe tbody tr th {\n",
       "        vertical-align: top;\n",
       "    }\n",
       "\n",
       "    .dataframe thead th {\n",
       "        text-align: right;\n",
       "    }\n",
       "</style>\n",
       "<table border=\"1\" class=\"dataframe\">\n",
       "  <thead>\n",
       "    <tr style=\"text-align: right;\">\n",
       "      <th></th>\n",
       "      <th>0</th>\n",
       "      <th>1</th>\n",
       "      <th>2</th>\n",
       "      <th>3</th>\n",
       "      <th>4</th>\n",
       "      <th>5</th>\n",
       "      <th>6</th>\n",
       "      <th>7</th>\n",
       "      <th>8</th>\n",
       "      <th>9</th>\n",
       "      <th>10</th>\n",
       "      <th>11</th>\n",
       "      <th>12</th>\n",
       "      <th>13</th>\n",
       "      <th>14</th>\n",
       "      <th>15</th>\n",
       "      <th>16</th>\n",
       "      <th>17</th>\n",
       "      <th>18</th>\n",
       "      <th>19</th>\n",
       "    </tr>\n",
       "  </thead>\n",
       "  <tbody>\n",
       "    <tr>\n",
       "      <th>var</th>\n",
       "      <td>0</td>\n",
       "      <td>1</td>\n",
       "      <td>2</td>\n",
       "      <td>3</td>\n",
       "      <td>4</td>\n",
       "      <td>5</td>\n",
       "      <td>6</td>\n",
       "      <td>7</td>\n",
       "      <td>8</td>\n",
       "      <td>9</td>\n",
       "      <td>10</td>\n",
       "      <td>11</td>\n",
       "      <td>12</td>\n",
       "      <td>13</td>\n",
       "      <td>14</td>\n",
       "      <td>15</td>\n",
       "      <td>16</td>\n",
       "      <td>17</td>\n",
       "      <td>18</td>\n",
       "      <td>19</td>\n",
       "    </tr>\n",
       "  </tbody>\n",
       "</table>\n",
       "</div>"
      ],
      "text/plain": [
       "     0   1   2   3   4   5   6   7   8   9   10  11  12  13  14  15  16  17  \\\n",
       "var   0   1   2   3   4   5   6   7   8   9  10  11  12  13  14  15  16  17   \n",
       "\n",
       "     18  19  \n",
       "var  18  19  "
      ]
     },
     "metadata": {},
     "output_type": "display_data"
    },
    {
     "name": "stdout",
     "output_type": "stream",
     "text": [
      "[(array([[0, 1, 2, 3, 4]]), 5), (array([[5, 6, 7, 8, 9]]), 10), (array([[10, 11, 12, 13, 14]]), 15)]\n"
     ]
    }
   ],
   "source": [
    "wl = 5\n",
    "\n",
    "t = np.arange(20)\n",
    "print('input shape:', t.shape)\n",
    "df = pd.DataFrame(t, columns=['var']).T\n",
    "display(df)\n",
    "X, y = SlidingWindow(wl, stride=None, horizon=1, get_y=None, seq_first=False)(df)\n",
    "items = itemify(X, y)\n",
    "print(items)\n",
    "test_eq(items[0][0].shape, (1, wl))\n",
    "test_eq(items[0][1].shape, ())"
   ]
  },
  {
   "cell_type": "code",
   "execution_count": 98,
   "metadata": {},
   "outputs": [
    {
     "name": "stdout",
     "output_type": "stream",
     "text": [
      "input shape: torch.Size([10, 3])\n"
     ]
    },
    {
     "data": {
      "text/html": [
       "<div>\n",
       "<style scoped>\n",
       "    .dataframe tbody tr th:only-of-type {\n",
       "        vertical-align: middle;\n",
       "    }\n",
       "\n",
       "    .dataframe tbody tr th {\n",
       "        vertical-align: top;\n",
       "    }\n",
       "\n",
       "    .dataframe thead th {\n",
       "        text-align: right;\n",
       "    }\n",
       "</style>\n",
       "<table border=\"1\" class=\"dataframe\">\n",
       "  <thead>\n",
       "    <tr style=\"text-align: right;\">\n",
       "      <th></th>\n",
       "      <th>var_0</th>\n",
       "      <th>var_1</th>\n",
       "      <th>var_2</th>\n",
       "    </tr>\n",
       "  </thead>\n",
       "  <tbody>\n",
       "    <tr>\n",
       "      <th>0</th>\n",
       "      <td>0</td>\n",
       "      <td>0</td>\n",
       "      <td>0</td>\n",
       "    </tr>\n",
       "    <tr>\n",
       "      <th>1</th>\n",
       "      <td>1</td>\n",
       "      <td>10</td>\n",
       "      <td>100</td>\n",
       "    </tr>\n",
       "    <tr>\n",
       "      <th>2</th>\n",
       "      <td>2</td>\n",
       "      <td>20</td>\n",
       "      <td>200</td>\n",
       "    </tr>\n",
       "    <tr>\n",
       "      <th>3</th>\n",
       "      <td>3</td>\n",
       "      <td>30</td>\n",
       "      <td>300</td>\n",
       "    </tr>\n",
       "    <tr>\n",
       "      <th>4</th>\n",
       "      <td>4</td>\n",
       "      <td>40</td>\n",
       "      <td>400</td>\n",
       "    </tr>\n",
       "    <tr>\n",
       "      <th>5</th>\n",
       "      <td>5</td>\n",
       "      <td>50</td>\n",
       "      <td>500</td>\n",
       "    </tr>\n",
       "    <tr>\n",
       "      <th>6</th>\n",
       "      <td>6</td>\n",
       "      <td>60</td>\n",
       "      <td>600</td>\n",
       "    </tr>\n",
       "    <tr>\n",
       "      <th>7</th>\n",
       "      <td>7</td>\n",
       "      <td>70</td>\n",
       "      <td>700</td>\n",
       "    </tr>\n",
       "    <tr>\n",
       "      <th>8</th>\n",
       "      <td>8</td>\n",
       "      <td>80</td>\n",
       "      <td>800</td>\n",
       "    </tr>\n",
       "    <tr>\n",
       "      <th>9</th>\n",
       "      <td>9</td>\n",
       "      <td>90</td>\n",
       "      <td>900</td>\n",
       "    </tr>\n",
       "  </tbody>\n",
       "</table>\n",
       "</div>"
      ],
      "text/plain": [
       "   var_0  var_1  var_2\n",
       "0      0      0      0\n",
       "1      1     10    100\n",
       "2      2     20    200\n",
       "3      3     30    300\n",
       "4      4     40    400\n",
       "5      5     50    500\n",
       "6      6     60    600\n",
       "7      7     70    700\n",
       "8      8     80    800\n",
       "9      9     90    900"
      ]
     },
     "metadata": {},
     "output_type": "display_data"
    },
    {
     "name": "stdout",
     "output_type": "stream",
     "text": [
      "[(array([[  0,   1,   2,   3,   4],\n",
      "       [  0,  10,  20,  30,  40],\n",
      "       [  0, 100, 200, 300, 400]]), array([  5,  50, 500])), (array([[  1,   2,   3,   4,   5],\n",
      "       [ 10,  20,  30,  40,  50],\n",
      "       [100, 200, 300, 400, 500]]), array([  6,  60, 600])), (array([[  2,   3,   4,   5,   6],\n",
      "       [ 20,  30,  40,  50,  60],\n",
      "       [200, 300, 400, 500, 600]]), array([  7,  70, 700])), (array([[  3,   4,   5,   6,   7],\n",
      "       [ 30,  40,  50,  60,  70],\n",
      "       [300, 400, 500, 600, 700]]), array([  8,  80, 800])), (array([[  4,   5,   6,   7,   8],\n",
      "       [ 40,  50,  60,  70,  80],\n",
      "       [400, 500, 600, 700, 800]]), array([  9,  90, 900]))]\n"
     ]
    }
   ],
   "source": [
    "wl = 5\n",
    "n_vars = 3\n",
    "\n",
    "t = (torch.stack(n_vars * [torch.arange(10)]).T * tensor([1, 10, 100]))\n",
    "print('input shape:', t.shape)\n",
    "df = pd.DataFrame(t, columns=[f'var_{i}' for i in range(n_vars)])\n",
    "display(df)\n",
    "X, y = SlidingWindow(wl, horizon=1)(df)\n",
    "items = itemify(X, y)\n",
    "print(items)\n",
    "test_eq(items[0][0].shape, (n_vars, wl))"
   ]
  },
  {
   "cell_type": "code",
   "execution_count": 99,
   "metadata": {},
   "outputs": [
    {
     "data": {
      "text/plain": [
       "torch.Size([10, 3])"
      ]
     },
     "metadata": {},
     "output_type": "display_data"
    },
    {
     "data": {
      "text/plain": [
       "(5, 3, 5)"
      ]
     },
     "metadata": {},
     "output_type": "display_data"
    },
    {
     "data": {
      "text/plain": [
       "(5, 3)"
      ]
     },
     "metadata": {},
     "output_type": "display_data"
    }
   ],
   "source": [
    "display(t.shape)\n",
    "display(X.shape)\n",
    "display(y.shape)"
   ]
  },
  {
   "cell_type": "code",
   "execution_count": 103,
   "metadata": {},
   "outputs": [
    {
     "name": "stdout",
     "output_type": "stream",
     "text": [
      "input shape: torch.Size([10, 3])\n"
     ]
    },
    {
     "data": {
      "text/html": [
       "<div>\n",
       "<style scoped>\n",
       "    .dataframe tbody tr th:only-of-type {\n",
       "        vertical-align: middle;\n",
       "    }\n",
       "\n",
       "    .dataframe tbody tr th {\n",
       "        vertical-align: top;\n",
       "    }\n",
       "\n",
       "    .dataframe thead th {\n",
       "        text-align: right;\n",
       "    }\n",
       "</style>\n",
       "<table border=\"1\" class=\"dataframe\">\n",
       "  <thead>\n",
       "    <tr style=\"text-align: right;\">\n",
       "      <th></th>\n",
       "      <th>var_0</th>\n",
       "      <th>var_1</th>\n",
       "      <th>var_2</th>\n",
       "    </tr>\n",
       "  </thead>\n",
       "  <tbody>\n",
       "    <tr>\n",
       "      <th>0</th>\n",
       "      <td>0</td>\n",
       "      <td>0</td>\n",
       "      <td>0</td>\n",
       "    </tr>\n",
       "    <tr>\n",
       "      <th>1</th>\n",
       "      <td>1</td>\n",
       "      <td>10</td>\n",
       "      <td>100</td>\n",
       "    </tr>\n",
       "    <tr>\n",
       "      <th>2</th>\n",
       "      <td>2</td>\n",
       "      <td>20</td>\n",
       "      <td>200</td>\n",
       "    </tr>\n",
       "    <tr>\n",
       "      <th>3</th>\n",
       "      <td>3</td>\n",
       "      <td>30</td>\n",
       "      <td>300</td>\n",
       "    </tr>\n",
       "    <tr>\n",
       "      <th>4</th>\n",
       "      <td>4</td>\n",
       "      <td>40</td>\n",
       "      <td>400</td>\n",
       "    </tr>\n",
       "    <tr>\n",
       "      <th>5</th>\n",
       "      <td>5</td>\n",
       "      <td>50</td>\n",
       "      <td>500</td>\n",
       "    </tr>\n",
       "    <tr>\n",
       "      <th>6</th>\n",
       "      <td>6</td>\n",
       "      <td>60</td>\n",
       "      <td>600</td>\n",
       "    </tr>\n",
       "    <tr>\n",
       "      <th>7</th>\n",
       "      <td>7</td>\n",
       "      <td>70</td>\n",
       "      <td>700</td>\n",
       "    </tr>\n",
       "    <tr>\n",
       "      <th>8</th>\n",
       "      <td>8</td>\n",
       "      <td>80</td>\n",
       "      <td>800</td>\n",
       "    </tr>\n",
       "    <tr>\n",
       "      <th>9</th>\n",
       "      <td>9</td>\n",
       "      <td>90</td>\n",
       "      <td>900</td>\n",
       "    </tr>\n",
       "  </tbody>\n",
       "</table>\n",
       "</div>"
      ],
      "text/plain": [
       "   var_0  var_1  var_2\n",
       "0      0      0      0\n",
       "1      1     10    100\n",
       "2      2     20    200\n",
       "3      3     30    300\n",
       "4      4     40    400\n",
       "5      5     50    500\n",
       "6      6     60    600\n",
       "7      7     70    700\n",
       "8      8     80    800\n",
       "9      9     90    900"
      ]
     },
     "metadata": {},
     "output_type": "display_data"
    },
    {
     "name": "stdout",
     "output_type": "stream",
     "text": [
      "[(array([[  0,   1,   2,   3,   4],\n",
      "       [  0,  10,  20,  30,  40],\n",
      "       [  0, 100, 200, 300, 400]]), 5), (array([[  1,   2,   3,   4,   5],\n",
      "       [ 10,  20,  30,  40,  50],\n",
      "       [100, 200, 300, 400, 500]]), 6), (array([[  2,   3,   4,   5,   6],\n",
      "       [ 20,  30,  40,  50,  60],\n",
      "       [200, 300, 400, 500, 600]]), 7), (array([[  3,   4,   5,   6,   7],\n",
      "       [ 30,  40,  50,  60,  70],\n",
      "       [300, 400, 500, 600, 700]]), 8), (array([[  4,   5,   6,   7,   8],\n",
      "       [ 40,  50,  60,  70,  80],\n",
      "       [400, 500, 600, 700, 800]]), 9)]\n"
     ]
    }
   ],
   "source": [
    "wl = 5\n",
    "n_vars = 3\n",
    "\n",
    "t = (torch.stack(n_vars * [torch.arange(10)]).T * tensor([1, 10, 100]))\n",
    "print('input shape:', t.shape)\n",
    "df = pd.DataFrame(t, columns=[f'var_{i}' for i in range(n_vars)])\n",
    "display(df)\n",
    "X, y = SlidingWindow(wl, horizon=1, get_y=\"var_0\")(df)\n",
    "items = itemify(X, y)\n",
    "print(items)\n",
    "test_eq(items[0][0].shape, (n_vars, wl))"
   ]
  },
  {
   "cell_type": "code",
   "execution_count": 104,
   "metadata": {},
   "outputs": [
    {
     "data": {
      "text/plain": [
       "torch.Size([10, 3])"
      ]
     },
     "metadata": {},
     "output_type": "display_data"
    },
    {
     "data": {
      "text/plain": [
       "(5, 3, 5)"
      ]
     },
     "metadata": {},
     "output_type": "display_data"
    },
    {
     "data": {
      "text/plain": [
       "(5,)"
      ]
     },
     "metadata": {},
     "output_type": "display_data"
    }
   ],
   "source": [
    "display(t.shape)\n",
    "display(X.shape)\n",
    "display(y.shape)"
   ]
  },
  {
   "cell_type": "code",
   "execution_count": 107,
   "metadata": {},
   "outputs": [
    {
     "name": "stdout",
     "output_type": "stream",
     "text": [
      "input shape: torch.Size([10, 3])\n"
     ]
    },
    {
     "data": {
      "text/html": [
       "<div>\n",
       "<style scoped>\n",
       "    .dataframe tbody tr th:only-of-type {\n",
       "        vertical-align: middle;\n",
       "    }\n",
       "\n",
       "    .dataframe tbody tr th {\n",
       "        vertical-align: top;\n",
       "    }\n",
       "\n",
       "    .dataframe thead th {\n",
       "        text-align: right;\n",
       "    }\n",
       "</style>\n",
       "<table border=\"1\" class=\"dataframe\">\n",
       "  <thead>\n",
       "    <tr style=\"text-align: right;\">\n",
       "      <th></th>\n",
       "      <th>var_0</th>\n",
       "      <th>var_1</th>\n",
       "      <th>target</th>\n",
       "    </tr>\n",
       "  </thead>\n",
       "  <tbody>\n",
       "    <tr>\n",
       "      <th>0</th>\n",
       "      <td>0</td>\n",
       "      <td>0</td>\n",
       "      <td>0</td>\n",
       "    </tr>\n",
       "    <tr>\n",
       "      <th>1</th>\n",
       "      <td>1</td>\n",
       "      <td>10</td>\n",
       "      <td>100</td>\n",
       "    </tr>\n",
       "    <tr>\n",
       "      <th>2</th>\n",
       "      <td>2</td>\n",
       "      <td>20</td>\n",
       "      <td>200</td>\n",
       "    </tr>\n",
       "    <tr>\n",
       "      <th>3</th>\n",
       "      <td>3</td>\n",
       "      <td>30</td>\n",
       "      <td>300</td>\n",
       "    </tr>\n",
       "    <tr>\n",
       "      <th>4</th>\n",
       "      <td>4</td>\n",
       "      <td>40</td>\n",
       "      <td>400</td>\n",
       "    </tr>\n",
       "    <tr>\n",
       "      <th>5</th>\n",
       "      <td>5</td>\n",
       "      <td>50</td>\n",
       "      <td>500</td>\n",
       "    </tr>\n",
       "    <tr>\n",
       "      <th>6</th>\n",
       "      <td>6</td>\n",
       "      <td>60</td>\n",
       "      <td>600</td>\n",
       "    </tr>\n",
       "    <tr>\n",
       "      <th>7</th>\n",
       "      <td>7</td>\n",
       "      <td>70</td>\n",
       "      <td>700</td>\n",
       "    </tr>\n",
       "    <tr>\n",
       "      <th>8</th>\n",
       "      <td>8</td>\n",
       "      <td>80</td>\n",
       "      <td>800</td>\n",
       "    </tr>\n",
       "    <tr>\n",
       "      <th>9</th>\n",
       "      <td>9</td>\n",
       "      <td>90</td>\n",
       "      <td>900</td>\n",
       "    </tr>\n",
       "  </tbody>\n",
       "</table>\n",
       "</div>"
      ],
      "text/plain": [
       "   var_0  var_1  target\n",
       "0      0      0       0\n",
       "1      1     10     100\n",
       "2      2     20     200\n",
       "3      3     30     300\n",
       "4      4     40     400\n",
       "5      5     50     500\n",
       "6      6     60     600\n",
       "7      7     70     700\n",
       "8      8     80     800\n",
       "9      9     90     900"
      ]
     },
     "metadata": {},
     "output_type": "display_data"
    },
    {
     "name": "stdout",
     "output_type": "stream",
     "text": [
      "[(array([[ 0,  1,  2,  3,  4],\n",
      "       [ 0, 10, 20, 30, 40]]), 500), (array([[ 1,  2,  3,  4,  5],\n",
      "       [10, 20, 30, 40, 50]]), 600), (array([[ 2,  3,  4,  5,  6],\n",
      "       [20, 30, 40, 50, 60]]), 700), (array([[ 3,  4,  5,  6,  7],\n",
      "       [30, 40, 50, 60, 70]]), 800), (array([[ 4,  5,  6,  7,  8],\n",
      "       [40, 50, 60, 70, 80]]), 900)]\n"
     ]
    }
   ],
   "source": [
    "wl = 5\n",
    "n_vars = 3\n",
    "\n",
    "t = (torch.stack(n_vars * [torch.arange(10)]).T * tensor([1, 10, 100]))\n",
    "print('input shape:', t.shape)\n",
    "columns=[f'var_{i}' for i in range(n_vars-1)]+['target']\n",
    "df = pd.DataFrame(t, columns=columns)\n",
    "display(df)\n",
    "X, y = SlidingWindow(wl, horizon=1, get_x=columns[:-1], get_y='target')(df)\n",
    "items = itemify(X, y)\n",
    "print(items)\n",
    "test_eq(items[0][0].shape, (n_vars-1, wl))\n",
    "test_eq(items[0][1].shape, ())"
   ]
  },
  {
   "cell_type": "code",
   "execution_count": 102,
   "metadata": {},
   "outputs": [
    {
     "data": {
      "text/plain": [
       "torch.Size([10, 3])"
      ]
     },
     "metadata": {},
     "output_type": "display_data"
    },
    {
     "data": {
      "text/plain": [
       "(5, 2, 5)"
      ]
     },
     "metadata": {},
     "output_type": "display_data"
    },
    {
     "data": {
      "text/plain": [
       "(5,)"
      ]
     },
     "metadata": {},
     "output_type": "display_data"
    }
   ],
   "source": [
    "display(t.shape)\n",
    "display(X.shape)\n",
    "display(y.shape)"
   ]
  },
  {
   "cell_type": "code",
   "execution_count": 123,
   "metadata": {},
   "outputs": [
    {
     "name": "stdout",
     "output_type": "stream",
     "text": [
      "(1000, 3)\n"
     ]
    },
    {
     "data": {
      "image/png": "[encoded data removed]",
      "text/plain": [
       "<Figure size 640x480 with 1 Axes>"
      ]
     },
     "metadata": {},
     "output_type": "display_data"
    },
    {
     "name": "stdout",
     "output_type": "stream",
     "text": [
      "(200, 2, 5) (200,)\n"
     ]
    }
   ],
   "source": [
    "n_vars = 3\n",
    "\n",
    "t = (np.random.rand(1000, n_vars) - .5).cumsum(0)\n",
    "print(t.shape)\n",
    "plt.plot(t)\n",
    "plt.show()\n",
    "X, y = SlidingWindow(5, stride=None, horizon=0, get_x=[0,1], get_y=2)(t)\n",
    "test_eq(X[0].shape, (n_vars-1, wl))\n",
    "test_eq(y[0].shape, ())\n",
    "print(X.shape, y.shape)"
   ]
  },
  {
   "cell_type": "code",
   "execution_count": 124,
   "metadata": {},
   "outputs": [
    {
     "data": {
      "text/plain": [
       "array([[ 0.33145323,  0.18398109,  0.41050728,  0.73920222,  0.66616862],\n",
       "       [ 0.34961119, -0.07357779,  0.33902474,  0.58497935,  0.98709666]])"
      ]
     },
     "metadata": {},
     "output_type": "display_data"
    },
    {
     "data": {
      "text/plain": [
       "0.8979557011062506"
      ]
     },
     "metadata": {},
     "output_type": "display_data"
    }
   ],
   "source": [
    "display(X[0], y[0])"
   ]
  },
  {
   "cell_type": "code",
   "execution_count": 118,
   "metadata": {},
   "outputs": [
    {
     "name": "stdout",
     "output_type": "stream",
     "text": [
      "(100, 3)\n"
     ]
    },
    {
     "data": {
      "text/html": [
       "<div>\n",
       "<style scoped>\n",
       "    .dataframe tbody tr th:only-of-type {\n",
       "        vertical-align: middle;\n",
       "    }\n",
       "\n",
       "    .dataframe tbody tr th {\n",
       "        vertical-align: top;\n",
       "    }\n",
       "\n",
       "    .dataframe thead th {\n",
       "        text-align: right;\n",
       "    }\n",
       "</style>\n",
       "<table border=\"1\" class=\"dataframe\">\n",
       "  <thead>\n",
       "    <tr style=\"text-align: right;\">\n",
       "      <th></th>\n",
       "      <th>var_0</th>\n",
       "      <th>var_1</th>\n",
       "      <th>target</th>\n",
       "    </tr>\n",
       "  </thead>\n",
       "  <tbody>\n",
       "    <tr>\n",
       "      <th>0</th>\n",
       "      <td>-0.084518</td>\n",
       "      <td>0.131014</td>\n",
       "      <td>-0.114145</td>\n",
       "    </tr>\n",
       "    <tr>\n",
       "      <th>1</th>\n",
       "      <td>-0.244839</td>\n",
       "      <td>0.265494</td>\n",
       "      <td>-0.023083</td>\n",
       "    </tr>\n",
       "    <tr>\n",
       "      <th>2</th>\n",
       "      <td>-0.451312</td>\n",
       "      <td>-0.085157</td>\n",
       "      <td>-0.154506</td>\n",
       "    </tr>\n",
       "    <tr>\n",
       "      <th>3</th>\n",
       "      <td>-0.536114</td>\n",
       "      <td>0.043527</td>\n",
       "      <td>0.260023</td>\n",
       "    </tr>\n",
       "    <tr>\n",
       "      <th>4</th>\n",
       "      <td>-0.999929</td>\n",
       "      <td>-0.212812</td>\n",
       "      <td>-0.046261</td>\n",
       "    </tr>\n",
       "    <tr>\n",
       "      <th>...</th>\n",
       "      <td>...</td>\n",
       "      <td>...</td>\n",
       "      <td>...</td>\n",
       "    </tr>\n",
       "    <tr>\n",
       "      <th>95</th>\n",
       "      <td>1.607545</td>\n",
       "      <td>-1.377046</td>\n",
       "      <td>-0.552172</td>\n",
       "    </tr>\n",
       "    <tr>\n",
       "      <th>96</th>\n",
       "      <td>1.150890</td>\n",
       "      <td>-1.512620</td>\n",
       "      <td>-0.672263</td>\n",
       "    </tr>\n",
       "    <tr>\n",
       "      <th>97</th>\n",
       "      <td>1.456161</td>\n",
       "      <td>-1.359489</td>\n",
       "      <td>-0.735540</td>\n",
       "    </tr>\n",
       "    <tr>\n",
       "      <th>98</th>\n",
       "      <td>1.608275</td>\n",
       "      <td>-1.806706</td>\n",
       "      <td>-1.055268</td>\n",
       "    </tr>\n",
       "    <tr>\n",
       "      <th>99</th>\n",
       "      <td>1.735223</td>\n",
       "      <td>-1.665339</td>\n",
       "      <td>-0.781134</td>\n",
       "    </tr>\n",
       "  </tbody>\n",
       "</table>\n",
       "<p>100 rows × 3 columns</p>\n",
       "</div>"
      ],
      "text/plain": [
       "       var_0     var_1    target\n",
       "0  -0.084518  0.131014 -0.114145\n",
       "1  -0.244839  0.265494 -0.023083\n",
       "2  -0.451312 -0.085157 -0.154506\n",
       "3  -0.536114  0.043527  0.260023\n",
       "4  -0.999929 -0.212812 -0.046261\n",
       "..       ...       ...       ...\n",
       "95  1.607545 -1.377046 -0.552172\n",
       "96  1.150890 -1.512620 -0.672263\n",
       "97  1.456161 -1.359489 -0.735540\n",
       "98  1.608275 -1.806706 -1.055268\n",
       "99  1.735223 -1.665339 -0.781134\n",
       "\n",
       "[100 rows x 3 columns]"
      ]
     },
     "metadata": {},
     "output_type": "display_data"
    },
    {
     "name": "stdout",
     "output_type": "stream",
     "text": [
      "(96, 2, 5) (96,)\n"
     ]
    }
   ],
   "source": [
    "wl = 5\n",
    "n_vars = 3\n",
    "\n",
    "t = (np.random.rand(100, n_vars) - .5).cumsum(0)\n",
    "print(t.shape)\n",
    "columns=[f'var_{i}' for i in range(n_vars-1)]+['target']\n",
    "df = pd.DataFrame(t, columns=columns)\n",
    "display(df)\n",
    "X, y = SlidingWindow(5, horizon=0, get_x=columns[:-1], get_y='target')(df)\n",
    "test_eq(X[0].shape, (n_vars-1, wl))\n",
    "test_eq(y[0].shape, ())\n",
    "print(X.shape, y.shape)"
   ]
  },
  {
   "cell_type": "code",
   "execution_count": 119,
   "metadata": {},
   "outputs": [
    {
     "data": {
      "text/plain": [
       "array([[-0.08451791, -0.24483948, -0.45131152, -0.53611388, -0.99992908],\n",
       "       [ 0.13101419,  0.26549427, -0.08515728,  0.04352705, -0.21281194]])"
      ]
     },
     "metadata": {},
     "output_type": "display_data"
    },
    {
     "data": {
      "text/plain": [
       "-0.04626114547471294"
      ]
     },
     "metadata": {},
     "output_type": "display_data"
    }
   ],
   "source": [
    "display(X[0], y[0])"
   ]
  },
  {
   "cell_type": "code",
   "execution_count": 120,
   "metadata": {},
   "outputs": [
    {
     "name": "stdout",
     "output_type": "stream",
     "text": [
      "(100, 5)\n"
     ]
    },
    {
     "data": {
      "text/html": [
       "<div>\n",
       "<style scoped>\n",
       "    .dataframe tbody tr th:only-of-type {\n",
       "        vertical-align: middle;\n",
       "    }\n",
       "\n",
       "    .dataframe tbody tr th {\n",
       "        vertical-align: top;\n",
       "    }\n",
       "\n",
       "    .dataframe thead th {\n",
       "        text-align: right;\n",
       "    }\n",
       "</style>\n",
       "<table border=\"1\" class=\"dataframe\">\n",
       "  <thead>\n",
       "    <tr style=\"text-align: right;\">\n",
       "      <th></th>\n",
       "      <th>var_0</th>\n",
       "      <th>var_1</th>\n",
       "      <th>var_2</th>\n",
       "      <th>var_3</th>\n",
       "      <th>target</th>\n",
       "    </tr>\n",
       "  </thead>\n",
       "  <tbody>\n",
       "    <tr>\n",
       "      <th>0</th>\n",
       "      <td>-0.097000</td>\n",
       "      <td>0.222554</td>\n",
       "      <td>0.183980</td>\n",
       "      <td>0.463393</td>\n",
       "      <td>-0.284870</td>\n",
       "    </tr>\n",
       "    <tr>\n",
       "      <th>1</th>\n",
       "      <td>-0.045321</td>\n",
       "      <td>0.324319</td>\n",
       "      <td>0.682628</td>\n",
       "      <td>0.164578</td>\n",
       "      <td>-0.261652</td>\n",
       "    </tr>\n",
       "    <tr>\n",
       "      <th>2</th>\n",
       "      <td>-0.199135</td>\n",
       "      <td>0.350212</td>\n",
       "      <td>0.414757</td>\n",
       "      <td>-0.287810</td>\n",
       "      <td>-0.189086</td>\n",
       "    </tr>\n",
       "    <tr>\n",
       "      <th>3</th>\n",
       "      <td>-0.363281</td>\n",
       "      <td>0.032153</td>\n",
       "      <td>0.238692</td>\n",
       "      <td>-0.738530</td>\n",
       "      <td>0.261356</td>\n",
       "    </tr>\n",
       "    <tr>\n",
       "      <th>4</th>\n",
       "      <td>-0.282133</td>\n",
       "      <td>0.346922</td>\n",
       "      <td>0.161811</td>\n",
       "      <td>-0.335215</td>\n",
       "      <td>0.244674</td>\n",
       "    </tr>\n",
       "    <tr>\n",
       "      <th>...</th>\n",
       "      <td>...</td>\n",
       "      <td>...</td>\n",
       "      <td>...</td>\n",
       "      <td>...</td>\n",
       "      <td>...</td>\n",
       "    </tr>\n",
       "    <tr>\n",
       "      <th>95</th>\n",
       "      <td>3.989339</td>\n",
       "      <td>-2.548635</td>\n",
       "      <td>0.059998</td>\n",
       "      <td>4.822816</td>\n",
       "      <td>2.699057</td>\n",
       "    </tr>\n",
       "    <tr>\n",
       "      <th>96</th>\n",
       "      <td>3.947053</td>\n",
       "      <td>-2.405811</td>\n",
       "      <td>-0.336965</td>\n",
       "      <td>5.227280</td>\n",
       "      <td>2.767661</td>\n",
       "    </tr>\n",
       "    <tr>\n",
       "      <th>97</th>\n",
       "      <td>4.227391</td>\n",
       "      <td>-2.111370</td>\n",
       "      <td>-0.580484</td>\n",
       "      <td>5.256455</td>\n",
       "      <td>3.228141</td>\n",
       "    </tr>\n",
       "    <tr>\n",
       "      <th>98</th>\n",
       "      <td>3.817026</td>\n",
       "      <td>-1.928320</td>\n",
       "      <td>-0.118220</td>\n",
       "      <td>5.057032</td>\n",
       "      <td>3.589589</td>\n",
       "    </tr>\n",
       "    <tr>\n",
       "      <th>99</th>\n",
       "      <td>4.250683</td>\n",
       "      <td>-1.681234</td>\n",
       "      <td>-0.386892</td>\n",
       "      <td>4.891033</td>\n",
       "      <td>3.125398</td>\n",
       "    </tr>\n",
       "  </tbody>\n",
       "</table>\n",
       "<p>100 rows × 5 columns</p>\n",
       "</div>"
      ],
      "text/plain": [
       "       var_0     var_1     var_2     var_3    target\n",
       "0  -0.097000  0.222554  0.183980  0.463393 -0.284870\n",
       "1  -0.045321  0.324319  0.682628  0.164578 -0.261652\n",
       "2  -0.199135  0.350212  0.414757 -0.287810 -0.189086\n",
       "3  -0.363281  0.032153  0.238692 -0.738530  0.261356\n",
       "4  -0.282133  0.346922  0.161811 -0.335215  0.244674\n",
       "..       ...       ...       ...       ...       ...\n",
       "95  3.989339 -2.548635  0.059998  4.822816  2.699057\n",
       "96  3.947053 -2.405811 -0.336965  5.227280  2.767661\n",
       "97  4.227391 -2.111370 -0.580484  5.256455  3.228141\n",
       "98  3.817026 -1.928320 -0.118220  5.057032  3.589589\n",
       "99  4.250683 -1.681234 -0.386892  4.891033  3.125398\n",
       "\n",
       "[100 rows x 5 columns]"
      ]
     },
     "metadata": {},
     "output_type": "display_data"
    },
    {
     "name": "stdout",
     "output_type": "stream",
     "text": [
      "(96, 4, 5) (96,)\n"
     ]
    }
   ],
   "source": [
    "seq_len = 100\n",
    "n_vars = 5\n",
    "t = (np.random.rand(seq_len, n_vars) - .5).cumsum(0)\n",
    "print(t.shape)\n",
    "columns=[f'var_{i}' for i in range(n_vars-1)]+['target']\n",
    "df = pd.DataFrame(t, columns=columns)\n",
    "display(df)\n",
    "X, y = SlidingWindow(5, stride=1, horizon=0, get_x=columns[:-1], get_y='target', seq_first=True)(df)\n",
    "test_eq(X[0].shape, (n_vars-1, wl))\n",
    "test_eq(y[0].shape, ())\n",
    "print(X.shape, y.shape)"
   ]
  },
  {
   "cell_type": "code",
   "execution_count": 121,
   "metadata": {},
   "outputs": [
    {
     "data": {
      "text/plain": [
       "array([[-0.09700024, -0.04532068, -0.19913537, -0.36328105, -0.28213314],\n",
       "       [ 0.2225541 ,  0.32431854,  0.35021151,  0.03215291,  0.34692159],\n",
       "       [ 0.18398033,  0.68262822,  0.41475682,  0.23869239,  0.16181058],\n",
       "       [ 0.46339338,  0.16457752, -0.2878101 , -0.7385299 , -0.33521523]])"
      ]
     },
     "metadata": {},
     "output_type": "display_data"
    },
    {
     "data": {
      "text/plain": [
       "0.2446741559320169"
      ]
     },
     "metadata": {},
     "output_type": "display_data"
    }
   ],
   "source": [
    "display(X[0], y[0])"
   ]
  },
  {
   "cell_type": "code",
   "execution_count": 114,
   "metadata": {},
   "outputs": [
    {
     "name": "stdout",
     "output_type": "stream",
     "text": [
      "(100, 5)\n"
     ]
    },
    {
     "data": {
      "text/html": [
       "<div>\n",
       "<style scoped>\n",
       "    .dataframe tbody tr th:only-of-type {\n",
       "        vertical-align: middle;\n",
       "    }\n",
       "\n",
       "    .dataframe tbody tr th {\n",
       "        vertical-align: top;\n",
       "    }\n",
       "\n",
       "    .dataframe thead th {\n",
       "        text-align: right;\n",
       "    }\n",
       "</style>\n",
       "<table border=\"1\" class=\"dataframe\">\n",
       "  <thead>\n",
       "    <tr style=\"text-align: right;\">\n",
       "      <th></th>\n",
       "      <th>0</th>\n",
       "      <th>1</th>\n",
       "      <th>2</th>\n",
       "      <th>3</th>\n",
       "      <th>4</th>\n",
       "      <th>5</th>\n",
       "      <th>6</th>\n",
       "      <th>7</th>\n",
       "      <th>8</th>\n",
       "      <th>9</th>\n",
       "      <th>...</th>\n",
       "      <th>90</th>\n",
       "      <th>91</th>\n",
       "      <th>92</th>\n",
       "      <th>93</th>\n",
       "      <th>94</th>\n",
       "      <th>95</th>\n",
       "      <th>96</th>\n",
       "      <th>97</th>\n",
       "      <th>98</th>\n",
       "      <th>99</th>\n",
       "    </tr>\n",
       "  </thead>\n",
       "  <tbody>\n",
       "    <tr>\n",
       "      <th>var_0</th>\n",
       "      <td>-0.006025</td>\n",
       "      <td>-0.394052</td>\n",
       "      <td>-0.780592</td>\n",
       "      <td>-0.600916</td>\n",
       "      <td>-1.032390</td>\n",
       "      <td>-1.259077</td>\n",
       "      <td>-1.028315</td>\n",
       "      <td>-0.962783</td>\n",
       "      <td>-0.886323</td>\n",
       "      <td>-0.797122</td>\n",
       "      <td>...</td>\n",
       "      <td>-1.471717</td>\n",
       "      <td>-0.975475</td>\n",
       "      <td>-1.036283</td>\n",
       "      <td>-0.754089</td>\n",
       "      <td>-0.872561</td>\n",
       "      <td>-1.200926</td>\n",
       "      <td>-1.409273</td>\n",
       "      <td>-1.262498</td>\n",
       "      <td>-1.442136</td>\n",
       "      <td>-1.616492</td>\n",
       "    </tr>\n",
       "    <tr>\n",
       "      <th>var_1</th>\n",
       "      <td>-0.223589</td>\n",
       "      <td>-0.582540</td>\n",
       "      <td>-1.029123</td>\n",
       "      <td>-0.816164</td>\n",
       "      <td>-0.448170</td>\n",
       "      <td>-0.650450</td>\n",
       "      <td>-0.851370</td>\n",
       "      <td>-0.449785</td>\n",
       "      <td>-0.015891</td>\n",
       "      <td>0.206033</td>\n",
       "      <td>...</td>\n",
       "      <td>-0.281154</td>\n",
       "      <td>-0.044596</td>\n",
       "      <td>0.242200</td>\n",
       "      <td>0.698012</td>\n",
       "      <td>0.932667</td>\n",
       "      <td>0.644626</td>\n",
       "      <td>0.936158</td>\n",
       "      <td>1.428945</td>\n",
       "      <td>1.124729</td>\n",
       "      <td>0.860976</td>\n",
       "    </tr>\n",
       "    <tr>\n",
       "      <th>var_2</th>\n",
       "      <td>0.068728</td>\n",
       "      <td>0.389807</td>\n",
       "      <td>0.498104</td>\n",
       "      <td>0.933446</td>\n",
       "      <td>1.226034</td>\n",
       "      <td>1.286777</td>\n",
       "      <td>1.239151</td>\n",
       "      <td>1.234623</td>\n",
       "      <td>1.057711</td>\n",
       "      <td>1.331230</td>\n",
       "      <td>...</td>\n",
       "      <td>4.732380</td>\n",
       "      <td>4.319830</td>\n",
       "      <td>4.743306</td>\n",
       "      <td>4.823537</td>\n",
       "      <td>5.251308</td>\n",
       "      <td>5.283343</td>\n",
       "      <td>5.591453</td>\n",
       "      <td>5.714044</td>\n",
       "      <td>6.027095</td>\n",
       "      <td>6.435478</td>\n",
       "    </tr>\n",
       "    <tr>\n",
       "      <th>var_3</th>\n",
       "      <td>-0.048363</td>\n",
       "      <td>0.337519</td>\n",
       "      <td>0.552873</td>\n",
       "      <td>0.117746</td>\n",
       "      <td>0.192388</td>\n",
       "      <td>-0.049568</td>\n",
       "      <td>-0.421901</td>\n",
       "      <td>0.019525</td>\n",
       "      <td>-0.114833</td>\n",
       "      <td>-0.465017</td>\n",
       "      <td>...</td>\n",
       "      <td>-2.084060</td>\n",
       "      <td>-2.563810</td>\n",
       "      <td>-2.464510</td>\n",
       "      <td>-2.282513</td>\n",
       "      <td>-2.153524</td>\n",
       "      <td>-2.476970</td>\n",
       "      <td>-2.513182</td>\n",
       "      <td>-2.977408</td>\n",
       "      <td>-2.632602</td>\n",
       "      <td>-2.629953</td>\n",
       "    </tr>\n",
       "    <tr>\n",
       "      <th>target</th>\n",
       "      <td>-0.065041</td>\n",
       "      <td>-0.330357</td>\n",
       "      <td>-0.457547</td>\n",
       "      <td>-0.765256</td>\n",
       "      <td>-1.181592</td>\n",
       "      <td>-1.608632</td>\n",
       "      <td>-1.306084</td>\n",
       "      <td>-0.914216</td>\n",
       "      <td>-1.368738</td>\n",
       "      <td>-1.424579</td>\n",
       "      <td>...</td>\n",
       "      <td>-0.019222</td>\n",
       "      <td>0.200066</td>\n",
       "      <td>-0.112826</td>\n",
       "      <td>-0.275351</td>\n",
       "      <td>0.014497</td>\n",
       "      <td>0.149492</td>\n",
       "      <td>-0.169698</td>\n",
       "      <td>-0.652404</td>\n",
       "      <td>-0.893785</td>\n",
       "      <td>-0.737648</td>\n",
       "    </tr>\n",
       "  </tbody>\n",
       "</table>\n",
       "<p>5 rows × 100 columns</p>\n",
       "</div>"
      ],
      "text/plain": [
       "              0         1         2         3         4         5         6   \\\n",
       "var_0  -0.006025 -0.394052 -0.780592 -0.600916 -1.032390 -1.259077 -1.028315   \n",
       "var_1  -0.223589 -0.582540 -1.029123 -0.816164 -0.448170 -0.650450 -0.851370   \n",
       "var_2   0.068728  0.389807  0.498104  0.933446  1.226034  1.286777  1.239151   \n",
       "var_3  -0.048363  0.337519  0.552873  0.117746  0.192388 -0.049568 -0.421901   \n",
       "target -0.065041 -0.330357 -0.457547 -0.765256 -1.181592 -1.608632 -1.306084   \n",
       "\n",
       "              7         8         9   ...        90        91        92  \\\n",
       "var_0  -0.962783 -0.886323 -0.797122  ... -1.471717 -0.975475 -1.036283   \n",
       "var_1  -0.449785 -0.015891  0.206033  ... -0.281154 -0.044596  0.242200   \n",
       "var_2   1.234623  1.057711  1.331230  ...  4.732380  4.319830  4.743306   \n",
       "var_3   0.019525 -0.114833 -0.465017  ... -2.084060 -2.563810 -2.464510   \n",
       "target -0.914216 -1.368738 -1.424579  ... -0.019222  0.200066 -0.112826   \n",
       "\n",
       "              93        94        95        96        97        98        99  \n",
       "var_0  -0.754089 -0.872561 -1.200926 -1.409273 -1.262498 -1.442136 -1.616492  \n",
       "var_1   0.698012  0.932667  0.644626  0.936158  1.428945  1.124729  0.860976  \n",
       "var_2   4.823537  5.251308  5.283343  5.591453  5.714044  6.027095  6.435478  \n",
       "var_3  -2.282513 -2.153524 -2.476970 -2.513182 -2.977408 -2.632602 -2.629953  \n",
       "target -0.275351  0.014497  0.149492 -0.169698 -0.652404 -0.893785 -0.737648  \n",
       "\n",
       "[5 rows x 100 columns]"
      ]
     },
     "metadata": {},
     "output_type": "display_data"
    },
    {
     "name": "stdout",
     "output_type": "stream",
     "text": [
      "(96, 4, 5) (96,)\n"
     ]
    }
   ],
   "source": [
    "seq_len = 100\n",
    "n_vars = 5\n",
    "\n",
    "t = (np.random.rand(seq_len, n_vars) - .5).cumsum(0)\n",
    "print(t.shape)\n",
    "columns=[f'var_{i}' for i in range(n_vars-1)] + ['target']\n",
    "df = pd.DataFrame(t, columns=columns).T\n",
    "display(df)\n",
    "X, y = SlidingWindow(5, stride=1, horizon=0, get_x=columns[:-1], get_y='target', seq_first=False)(df)\n",
    "test_eq(X[0].shape, (n_vars-1, wl))\n",
    "test_eq(y[0].shape, ())\n",
    "print(X.shape, y.shape)"
   ]
  },
  {
   "cell_type": "markdown",
   "metadata": {},
   "source": [
    "df 与 seq_first 这两部分连用，因为，df要是二维的深度序列向下排列（或者是时间序列）的话，那么直接seq_first = true就可以了。\n",
    "\n",
    "如果进行了转置，那么就要用seq_first = false。表示第一维度不是序列的维度。\n",
    "\n",
    "这种维度，第一维度，第二维度，第三维度，具体代码的信息，以及在矩阵中涉及到的相关矩阵的转置的内容。（包括输入到模型中的数据格式维度，torch深度学习模型中的相关维度。）"
   ]
  },
  {
   "cell_type": "code",
   "execution_count": 115,
   "metadata": {},
   "outputs": [
    {
     "data": {
      "text/plain": [
       "array([[-0.00602501, -0.39405204, -0.78059154, -0.60091567, -1.03238968],\n",
       "       [-0.22358946, -0.58253977, -1.0291231 , -0.81616428, -0.44817035],\n",
       "       [ 0.06872794,  0.38980652,  0.49810413,  0.93344641,  1.22603357],\n",
       "       [-0.04836332,  0.33751942,  0.55287263,  0.11774627,  0.19238834]])"
      ]
     },
     "metadata": {},
     "output_type": "display_data"
    },
    {
     "data": {
      "text/plain": [
       "-1.1815922382780646"
      ]
     },
     "metadata": {},
     "output_type": "display_data"
    }
   ],
   "source": [
    "display(X[0], y[0])"
   ]
  },
  {
   "cell_type": "code",
   "execution_count": 116,
   "metadata": {},
   "outputs": [
    {
     "data": {
      "text/plain": [
       "array([[-0.00602501, -0.39405204, -0.78059154, -0.60091567, -1.03238968],\n",
       "       [-0.22358946, -0.58253977, -1.0291231 , -0.81616428, -0.44817035],\n",
       "       [ 0.06872794,  0.38980652,  0.49810413,  0.93344641,  1.22603357],\n",
       "       [-0.04836332,  0.33751942,  0.55287263,  0.11774627,  0.19238834]])"
      ]
     },
     "metadata": {},
     "output_type": "display_data"
    },
    {
     "data": {
      "text/plain": [
       "array([[-0.39405204, -0.78059154, -0.60091567, -1.03238968, -1.25907733],\n",
       "       [-0.58253977, -1.0291231 , -0.81616428, -0.44817035, -0.6504505 ],\n",
       "       [ 0.38980652,  0.49810413,  0.93344641,  1.22603357,  1.28677677],\n",
       "       [ 0.33751942,  0.55287263,  0.11774627,  0.19238834, -0.04956776]])"
      ]
     },
     "metadata": {},
     "output_type": "display_data"
    }
   ],
   "source": [
    "display(X[0], X[1])"
   ]
  },
  {
   "cell_type": "code",
   "execution_count": 112,
   "metadata": {},
   "outputs": [
    {
     "name": "stdout",
     "output_type": "stream",
     "text": [
      "(100, 5)\n"
     ]
    },
    {
     "data": {
      "text/html": [
       "<div>\n",
       "<style scoped>\n",
       "    .dataframe tbody tr th:only-of-type {\n",
       "        vertical-align: middle;\n",
       "    }\n",
       "\n",
       "    .dataframe tbody tr th {\n",
       "        vertical-align: top;\n",
       "    }\n",
       "\n",
       "    .dataframe thead th {\n",
       "        text-align: right;\n",
       "    }\n",
       "</style>\n",
       "<table border=\"1\" class=\"dataframe\">\n",
       "  <thead>\n",
       "    <tr style=\"text-align: right;\">\n",
       "      <th></th>\n",
       "      <th>0</th>\n",
       "      <th>1</th>\n",
       "      <th>2</th>\n",
       "      <th>3</th>\n",
       "      <th>4</th>\n",
       "      <th>5</th>\n",
       "      <th>6</th>\n",
       "      <th>7</th>\n",
       "      <th>8</th>\n",
       "      <th>9</th>\n",
       "      <th>...</th>\n",
       "      <th>90</th>\n",
       "      <th>91</th>\n",
       "      <th>92</th>\n",
       "      <th>93</th>\n",
       "      <th>94</th>\n",
       "      <th>95</th>\n",
       "      <th>96</th>\n",
       "      <th>97</th>\n",
       "      <th>98</th>\n",
       "      <th>99</th>\n",
       "    </tr>\n",
       "  </thead>\n",
       "  <tbody>\n",
       "    <tr>\n",
       "      <th>var_0</th>\n",
       "      <td>0.489548</td>\n",
       "      <td>0.065637</td>\n",
       "      <td>0.559027</td>\n",
       "      <td>0.897203</td>\n",
       "      <td>1.179939</td>\n",
       "      <td>1.233331</td>\n",
       "      <td>0.790974</td>\n",
       "      <td>1.125712</td>\n",
       "      <td>1.331619</td>\n",
       "      <td>1.665428</td>\n",
       "      <td>...</td>\n",
       "      <td>-0.186662</td>\n",
       "      <td>0.150241</td>\n",
       "      <td>-0.242748</td>\n",
       "      <td>-0.561667</td>\n",
       "      <td>-0.690548</td>\n",
       "      <td>-0.542888</td>\n",
       "      <td>-0.943936</td>\n",
       "      <td>-1.007448</td>\n",
       "      <td>-0.708835</td>\n",
       "      <td>-0.998373</td>\n",
       "    </tr>\n",
       "    <tr>\n",
       "      <th>var_1</th>\n",
       "      <td>-0.021167</td>\n",
       "      <td>0.082435</td>\n",
       "      <td>0.281162</td>\n",
       "      <td>-0.197199</td>\n",
       "      <td>0.048951</td>\n",
       "      <td>0.193240</td>\n",
       "      <td>0.630502</td>\n",
       "      <td>0.163635</td>\n",
       "      <td>0.057299</td>\n",
       "      <td>-0.047661</td>\n",
       "      <td>...</td>\n",
       "      <td>3.026109</td>\n",
       "      <td>3.191157</td>\n",
       "      <td>2.983753</td>\n",
       "      <td>3.115735</td>\n",
       "      <td>2.712425</td>\n",
       "      <td>3.129248</td>\n",
       "      <td>3.311890</td>\n",
       "      <td>3.062436</td>\n",
       "      <td>3.020985</td>\n",
       "      <td>2.886999</td>\n",
       "    </tr>\n",
       "    <tr>\n",
       "      <th>var_2</th>\n",
       "      <td>-0.271680</td>\n",
       "      <td>0.159545</td>\n",
       "      <td>-0.178174</td>\n",
       "      <td>-0.445027</td>\n",
       "      <td>-0.894426</td>\n",
       "      <td>-1.225797</td>\n",
       "      <td>-1.139529</td>\n",
       "      <td>-1.371151</td>\n",
       "      <td>-1.598483</td>\n",
       "      <td>-1.534265</td>\n",
       "      <td>...</td>\n",
       "      <td>-0.852968</td>\n",
       "      <td>-1.086165</td>\n",
       "      <td>-1.034375</td>\n",
       "      <td>-0.918585</td>\n",
       "      <td>-1.192124</td>\n",
       "      <td>-1.049382</td>\n",
       "      <td>-1.296546</td>\n",
       "      <td>-1.462100</td>\n",
       "      <td>-1.762279</td>\n",
       "      <td>-1.381931</td>\n",
       "    </tr>\n",
       "    <tr>\n",
       "      <th>var_3</th>\n",
       "      <td>-0.118142</td>\n",
       "      <td>0.232220</td>\n",
       "      <td>-0.255363</td>\n",
       "      <td>0.001942</td>\n",
       "      <td>0.394454</td>\n",
       "      <td>0.870685</td>\n",
       "      <td>1.069878</td>\n",
       "      <td>1.039526</td>\n",
       "      <td>0.542905</td>\n",
       "      <td>0.270592</td>\n",
       "      <td>...</td>\n",
       "      <td>0.553422</td>\n",
       "      <td>0.170463</td>\n",
       "      <td>-0.265537</td>\n",
       "      <td>-0.214771</td>\n",
       "      <td>0.182934</td>\n",
       "      <td>-0.283869</td>\n",
       "      <td>-0.391888</td>\n",
       "      <td>-0.550340</td>\n",
       "      <td>-0.239324</td>\n",
       "      <td>-0.607537</td>\n",
       "    </tr>\n",
       "    <tr>\n",
       "      <th>target</th>\n",
       "      <td>0.153838</td>\n",
       "      <td>-0.278488</td>\n",
       "      <td>-0.607205</td>\n",
       "      <td>-0.521095</td>\n",
       "      <td>-0.794063</td>\n",
       "      <td>-0.805907</td>\n",
       "      <td>-0.780731</td>\n",
       "      <td>-1.204128</td>\n",
       "      <td>-0.984297</td>\n",
       "      <td>-0.862100</td>\n",
       "      <td>...</td>\n",
       "      <td>-1.667243</td>\n",
       "      <td>-2.151185</td>\n",
       "      <td>-2.514957</td>\n",
       "      <td>-2.764455</td>\n",
       "      <td>-2.284764</td>\n",
       "      <td>-1.788001</td>\n",
       "      <td>-1.642067</td>\n",
       "      <td>-1.182743</td>\n",
       "      <td>-1.525560</td>\n",
       "      <td>-1.903326</td>\n",
       "    </tr>\n",
       "  </tbody>\n",
       "</table>\n",
       "<p>5 rows × 100 columns</p>\n",
       "</div>"
      ],
      "text/plain": [
       "              0         1         2         3         4         5         6   \\\n",
       "var_0   0.489548  0.065637  0.559027  0.897203  1.179939  1.233331  0.790974   \n",
       "var_1  -0.021167  0.082435  0.281162 -0.197199  0.048951  0.193240  0.630502   \n",
       "var_2  -0.271680  0.159545 -0.178174 -0.445027 -0.894426 -1.225797 -1.139529   \n",
       "var_3  -0.118142  0.232220 -0.255363  0.001942  0.394454  0.870685  1.069878   \n",
       "target  0.153838 -0.278488 -0.607205 -0.521095 -0.794063 -0.805907 -0.780731   \n",
       "\n",
       "              7         8         9   ...        90        91        92  \\\n",
       "var_0   1.125712  1.331619  1.665428  ... -0.186662  0.150241 -0.242748   \n",
       "var_1   0.163635  0.057299 -0.047661  ...  3.026109  3.191157  2.983753   \n",
       "var_2  -1.371151 -1.598483 -1.534265  ... -0.852968 -1.086165 -1.034375   \n",
       "var_3   1.039526  0.542905  0.270592  ...  0.553422  0.170463 -0.265537   \n",
       "target -1.204128 -0.984297 -0.862100  ... -1.667243 -2.151185 -2.514957   \n",
       "\n",
       "              93        94        95        96        97        98        99  \n",
       "var_0  -0.561667 -0.690548 -0.542888 -0.943936 -1.007448 -0.708835 -0.998373  \n",
       "var_1   3.115735  2.712425  3.129248  3.311890  3.062436  3.020985  2.886999  \n",
       "var_2  -0.918585 -1.192124 -1.049382 -1.296546 -1.462100 -1.762279 -1.381931  \n",
       "var_3  -0.214771  0.182934 -0.283869 -0.391888 -0.550340 -0.239324 -0.607537  \n",
       "target -2.764455 -2.284764 -1.788001 -1.642067 -1.182743 -1.525560 -1.903326  \n",
       "\n",
       "[5 rows x 100 columns]"
      ]
     },
     "metadata": {},
     "output_type": "display_data"
    },
    {
     "name": "stdout",
     "output_type": "stream",
     "text": [
      "(20, 4, 5) (20,)\n"
     ]
    }
   ],
   "source": [
    "seq_len = 100\n",
    "n_vars = 5\n",
    "t = (np.random.rand(seq_len, n_vars) - .5).cumsum(0)\n",
    "print(t.shape)\n",
    "columns=[f'var_{i}' for i in range(n_vars-1)] + ['target']\n",
    "df = pd.DataFrame(t, columns=columns).T\n",
    "display(df)\n",
    "X, y = SlidingWindow(5, stride=None, horizon=0, get_x=columns[:-1], get_y='target', seq_first=False)(df)\n",
    "test_eq(X[0].shape, (n_vars-1, wl))\n",
    "test_eq(y[0].shape, ())\n",
    "print(X.shape, y.shape)"
   ]
  },
  {
   "cell_type": "code",
   "execution_count": 113,
   "metadata": {},
   "outputs": [
    {
     "data": {
      "text/plain": [
       "array([[ 0.48954812,  0.06563749,  0.55902737,  0.89720329,  1.179939  ],\n",
       "       [-0.02116718,  0.08243474,  0.28116166, -0.19719902,  0.04895149],\n",
       "       [-0.27167983,  0.15954493, -0.17817424, -0.44502694, -0.89442555],\n",
       "       [-0.11814237,  0.23222041, -0.2553635 ,  0.0019421 ,  0.39445352]])"
      ]
     },
     "metadata": {},
     "output_type": "display_data"
    },
    {
     "data": {
      "text/plain": [
       "-0.7940630670528352"
      ]
     },
     "metadata": {},
     "output_type": "display_data"
    }
   ],
   "source": [
    "display(X[0], y[0])"
   ]
  },
  {
   "attachments": {
    "image.png": {
     "image/png": "[encoded data removed]"
    }
   },
   "cell_type": "markdown",
   "metadata": {},
   "source": [
    "![image.png](attachment:image.png)"
   ]
  },
  {
   "cell_type": "code",
   "execution_count": 117,
   "metadata": {},
   "outputs": [
    {
     "data": {
      "text/plain": [
       "array([[-0.00602501, -0.39405204, -0.78059154, -0.60091567, -1.03238968],\n",
       "       [-0.22358946, -0.58253977, -1.0291231 , -0.81616428, -0.44817035],\n",
       "       [ 0.06872794,  0.38980652,  0.49810413,  0.93344641,  1.22603357],\n",
       "       [-0.04836332,  0.33751942,  0.55287263,  0.11774627,  0.19238834]])"
      ]
     },
     "metadata": {},
     "output_type": "display_data"
    },
    {
     "data": {
      "text/plain": [
       "array([[-0.39405204, -0.78059154, -0.60091567, -1.03238968, -1.25907733],\n",
       "       [-0.58253977, -1.0291231 , -0.81616428, -0.44817035, -0.6504505 ],\n",
       "       [ 0.38980652,  0.49810413,  0.93344641,  1.22603357,  1.28677677],\n",
       "       [ 0.33751942,  0.55287263,  0.11774627,  0.19238834, -0.04956776]])"
      ]
     },
     "metadata": {},
     "output_type": "display_data"
    }
   ],
   "source": [
    "display(X[0], X[1])"
   ]
  },
  {
   "cell_type": "code",
   "execution_count": 125,
   "metadata": {},
   "outputs": [],
   "source": [
    "from tsai.data.validation import TrainValidTestSplitter"
   ]
  },
  {
   "cell_type": "code",
   "execution_count": 126,
   "metadata": {},
   "outputs": [
    {
     "name": "stdout",
     "output_type": "stream",
     "text": [
      "(100, 5)\n"
     ]
    },
    {
     "data": {
      "text/html": [
       "<div>\n",
       "<style scoped>\n",
       "    .dataframe tbody tr th:only-of-type {\n",
       "        vertical-align: middle;\n",
       "    }\n",
       "\n",
       "    .dataframe tbody tr th {\n",
       "        vertical-align: top;\n",
       "    }\n",
       "\n",
       "    .dataframe thead th {\n",
       "        text-align: right;\n",
       "    }\n",
       "</style>\n",
       "<table border=\"1\" class=\"dataframe\">\n",
       "  <thead>\n",
       "    <tr style=\"text-align: right;\">\n",
       "      <th></th>\n",
       "      <th>var_0</th>\n",
       "      <th>var_1</th>\n",
       "      <th>var_2</th>\n",
       "      <th>var_3</th>\n",
       "      <th>target</th>\n",
       "    </tr>\n",
       "  </thead>\n",
       "  <tbody>\n",
       "    <tr>\n",
       "      <th>0</th>\n",
       "      <td>0.405772</td>\n",
       "      <td>-0.446544</td>\n",
       "      <td>-0.191611</td>\n",
       "      <td>-0.211855</td>\n",
       "      <td>0.126365</td>\n",
       "    </tr>\n",
       "    <tr>\n",
       "      <th>1</th>\n",
       "      <td>0.036997</td>\n",
       "      <td>-0.064197</td>\n",
       "      <td>0.136941</td>\n",
       "      <td>-0.059789</td>\n",
       "      <td>0.084779</td>\n",
       "    </tr>\n",
       "    <tr>\n",
       "      <th>2</th>\n",
       "      <td>0.469953</td>\n",
       "      <td>0.266550</td>\n",
       "      <td>0.136256</td>\n",
       "      <td>0.142084</td>\n",
       "      <td>0.151709</td>\n",
       "    </tr>\n",
       "    <tr>\n",
       "      <th>3</th>\n",
       "      <td>0.557895</td>\n",
       "      <td>0.097526</td>\n",
       "      <td>0.098340</td>\n",
       "      <td>-0.279794</td>\n",
       "      <td>0.009058</td>\n",
       "    </tr>\n",
       "    <tr>\n",
       "      <th>4</th>\n",
       "      <td>0.753724</td>\n",
       "      <td>0.550742</td>\n",
       "      <td>0.561404</td>\n",
       "      <td>-0.224071</td>\n",
       "      <td>0.115680</td>\n",
       "    </tr>\n",
       "    <tr>\n",
       "      <th>...</th>\n",
       "      <td>...</td>\n",
       "      <td>...</td>\n",
       "      <td>...</td>\n",
       "      <td>...</td>\n",
       "      <td>...</td>\n",
       "    </tr>\n",
       "    <tr>\n",
       "      <th>95</th>\n",
       "      <td>-1.282781</td>\n",
       "      <td>-1.828456</td>\n",
       "      <td>-0.715765</td>\n",
       "      <td>4.368933</td>\n",
       "      <td>0.664703</td>\n",
       "    </tr>\n",
       "    <tr>\n",
       "      <th>96</th>\n",
       "      <td>-0.958677</td>\n",
       "      <td>-2.103724</td>\n",
       "      <td>-0.879635</td>\n",
       "      <td>4.092659</td>\n",
       "      <td>0.616876</td>\n",
       "    </tr>\n",
       "    <tr>\n",
       "      <th>97</th>\n",
       "      <td>-0.573613</td>\n",
       "      <td>-2.258517</td>\n",
       "      <td>-1.005168</td>\n",
       "      <td>4.453026</td>\n",
       "      <td>0.632251</td>\n",
       "    </tr>\n",
       "    <tr>\n",
       "      <th>98</th>\n",
       "      <td>-0.538164</td>\n",
       "      <td>-1.897716</td>\n",
       "      <td>-1.014641</td>\n",
       "      <td>4.634583</td>\n",
       "      <td>0.217895</td>\n",
       "    </tr>\n",
       "    <tr>\n",
       "      <th>99</th>\n",
       "      <td>-0.859532</td>\n",
       "      <td>-1.993340</td>\n",
       "      <td>-1.019802</td>\n",
       "      <td>5.100317</td>\n",
       "      <td>0.688547</td>\n",
       "    </tr>\n",
       "  </tbody>\n",
       "</table>\n",
       "<p>100 rows × 5 columns</p>\n",
       "</div>"
      ],
      "text/plain": [
       "       var_0     var_1     var_2     var_3    target\n",
       "0   0.405772 -0.446544 -0.191611 -0.211855  0.126365\n",
       "1   0.036997 -0.064197  0.136941 -0.059789  0.084779\n",
       "2   0.469953  0.266550  0.136256  0.142084  0.151709\n",
       "3   0.557895  0.097526  0.098340 -0.279794  0.009058\n",
       "4   0.753724  0.550742  0.561404 -0.224071  0.115680\n",
       "..       ...       ...       ...       ...       ...\n",
       "95 -1.282781 -1.828456 -0.715765  4.368933  0.664703\n",
       "96 -0.958677 -2.103724 -0.879635  4.092659  0.616876\n",
       "97 -0.573613 -2.258517 -1.005168  4.453026  0.632251\n",
       "98 -0.538164 -1.897716 -1.014641  4.634583  0.217895\n",
       "99 -0.859532 -1.993340 -1.019802  5.100317  0.688547\n",
       "\n",
       "[100 rows x 5 columns]"
      ]
     },
     "metadata": {},
     "output_type": "display_data"
    },
    {
     "data": {
      "text/plain": [
       "((96, 4, 5),\n",
       " (96,),\n",
       " ((#77) [0,1,2,3,4,5,6,7,8,9...], (#19) [77,78,79,80,81,82,83,84,85,86...]))"
      ]
     },
     "execution_count": 126,
     "metadata": {},
     "output_type": "execute_result"
    }
   ],
   "source": [
    "seq_len = 100\n",
    "n_vars = 5\n",
    "t = (np.random.rand(seq_len, n_vars) - .5).cumsum(0)\n",
    "print(t.shape)\n",
    "columns=[f'var_{i}' for i in range(n_vars-1)]+['target']\n",
    "df = pd.DataFrame(t, columns=columns)\n",
    "display(df)\n",
    "X, y = SlidingWindow(5, stride=1, horizon=0, get_x=columns[:-1], get_y='target', seq_first=True)(df)\n",
    "splits = TrainValidTestSplitter(valid_size=.2, shuffle=False)(y)\n",
    "X.shape, y.shape, splits"
   ]
  },
  {
   "cell_type": "code",
   "execution_count": 127,
   "metadata": {},
   "outputs": [
    {
     "data": {
      "text/html": [
       "<div>\n",
       "<style scoped>\n",
       "    .dataframe tbody tr th:only-of-type {\n",
       "        vertical-align: middle;\n",
       "    }\n",
       "\n",
       "    .dataframe tbody tr th {\n",
       "        vertical-align: top;\n",
       "    }\n",
       "\n",
       "    .dataframe thead th {\n",
       "        text-align: right;\n",
       "    }\n",
       "</style>\n",
       "<table border=\"1\" class=\"dataframe\">\n",
       "  <thead>\n",
       "    <tr style=\"text-align: right;\">\n",
       "      <th></th>\n",
       "      <th>col1</th>\n",
       "      <th>col2</th>\n",
       "      <th>target</th>\n",
       "    </tr>\n",
       "  </thead>\n",
       "  <tbody>\n",
       "    <tr>\n",
       "      <th>0</th>\n",
       "      <td>0.0</td>\n",
       "      <td>0.0</td>\n",
       "      <td>0</td>\n",
       "    </tr>\n",
       "    <tr>\n",
       "      <th>1</th>\n",
       "      <td>0.1</td>\n",
       "      <td>0.1</td>\n",
       "      <td>1</td>\n",
       "    </tr>\n",
       "    <tr>\n",
       "      <th>2</th>\n",
       "      <td>0.2</td>\n",
       "      <td>0.2</td>\n",
       "      <td>2</td>\n",
       "    </tr>\n",
       "    <tr>\n",
       "      <th>3</th>\n",
       "      <td>0.3</td>\n",
       "      <td>0.3</td>\n",
       "      <td>3</td>\n",
       "    </tr>\n",
       "    <tr>\n",
       "      <th>4</th>\n",
       "      <td>0.4</td>\n",
       "      <td>0.4</td>\n",
       "      <td>4</td>\n",
       "    </tr>\n",
       "    <tr>\n",
       "      <th>5</th>\n",
       "      <td>0.5</td>\n",
       "      <td>0.5</td>\n",
       "      <td>5</td>\n",
       "    </tr>\n",
       "    <tr>\n",
       "      <th>6</th>\n",
       "      <td>0.6</td>\n",
       "      <td>0.6</td>\n",
       "      <td>6</td>\n",
       "    </tr>\n",
       "    <tr>\n",
       "      <th>7</th>\n",
       "      <td>0.7</td>\n",
       "      <td>0.7</td>\n",
       "      <td>7</td>\n",
       "    </tr>\n",
       "    <tr>\n",
       "      <th>8</th>\n",
       "      <td>0.8</td>\n",
       "      <td>0.8</td>\n",
       "      <td>8</td>\n",
       "    </tr>\n",
       "    <tr>\n",
       "      <th>9</th>\n",
       "      <td>0.9</td>\n",
       "      <td>0.9</td>\n",
       "      <td>9</td>\n",
       "    </tr>\n",
       "    <tr>\n",
       "      <th>10</th>\n",
       "      <td>1.0</td>\n",
       "      <td>1.0</td>\n",
       "      <td>10</td>\n",
       "    </tr>\n",
       "  </tbody>\n",
       "</table>\n",
       "</div>"
      ],
      "text/plain": [
       "    col1  col2  target\n",
       "0    0.0   0.0       0\n",
       "1    0.1   0.1       1\n",
       "2    0.2   0.2       2\n",
       "3    0.3   0.3       3\n",
       "4    0.4   0.4       4\n",
       "5    0.5   0.5       5\n",
       "6    0.6   0.6       6\n",
       "7    0.7   0.7       7\n",
       "8    0.8   0.8       8\n",
       "9    0.9   0.9       9\n",
       "10   1.0   1.0      10"
      ]
     },
     "execution_count": 127,
     "metadata": {},
     "output_type": "execute_result"
    }
   ],
   "source": [
    "data = np.concatenate([np.linspace(0, 1, 11).reshape(-1,1).repeat(2, 1), np.arange(11).reshape(-1,1)], -1)\n",
    "df_test = pd.DataFrame(data, columns=['col1', 'col2', 'target'])\n",
    "df_test['target'] = df_test['target'].astype(int)\n",
    "df_test"
   ]
  },
  {
   "cell_type": "code",
   "execution_count": 128,
   "metadata": {},
   "outputs": [],
   "source": [
    "def _y_func(o): return o[:, 0]"
   ]
  },
  {
   "cell_type": "code",
   "execution_count": 129,
   "metadata": {},
   "outputs": [
    {
     "name": "stdout",
     "output_type": "stream",
     "text": [
      "[1 4 7]\n"
     ]
    }
   ],
   "source": [
    "import numpy as np\n",
    "\n",
    "# 创建一个二维数组\n",
    "data = np.array([[1, 2, 3], [4, 5, 6], [7, 8, 9]])\n",
    "\n",
    "# 使用_y_func函数提取第一列\n",
    "first_column = _y_func(data)\n",
    "\n",
    "print(first_column)"
   ]
  },
  {
   "cell_type": "code",
   "execution_count": 130,
   "metadata": {},
   "outputs": [],
   "source": [
    "for wl in np.arange(1, 20):\n",
    "    x, y = SlidingWindow(wl, None, pad_remainder=True, get_x=['col1', 'col2'], get_y=['target'], horizon=-wl, y_func=_y_func)(df_test)\n",
    "    test_eq(x.shape[0], math.ceil((len(df_test))/wl))\n",
    "    test_eq(x.shape[0], y.shape[0])\n",
    "    test_eq(x.shape[2], wl)\n",
    "    test_close(x[:, 0, 0]*10, y)"
   ]
  },
  {
   "cell_type": "code",
   "execution_count": 133,
   "metadata": {},
   "outputs": [
    {
     "data": {
      "text/html": [
       "<div>\n",
       "<style scoped>\n",
       "    .dataframe tbody tr th:only-of-type {\n",
       "        vertical-align: middle;\n",
       "    }\n",
       "\n",
       "    .dataframe tbody tr th {\n",
       "        vertical-align: top;\n",
       "    }\n",
       "\n",
       "    .dataframe thead th {\n",
       "        text-align: right;\n",
       "    }\n",
       "</style>\n",
       "<table border=\"1\" class=\"dataframe\">\n",
       "  <thead>\n",
       "    <tr style=\"text-align: right;\">\n",
       "      <th></th>\n",
       "      <th>sample_id</th>\n",
       "      <th>var1</th>\n",
       "      <th>var2</th>\n",
       "      <th>target</th>\n",
       "    </tr>\n",
       "  </thead>\n",
       "  <tbody>\n",
       "    <tr>\n",
       "      <th>0</th>\n",
       "      <td>1</td>\n",
       "      <td>0.0</td>\n",
       "      <td>0.0</td>\n",
       "      <td>0</td>\n",
       "    </tr>\n",
       "    <tr>\n",
       "      <th>1</th>\n",
       "      <td>1</td>\n",
       "      <td>1.0</td>\n",
       "      <td>10.0</td>\n",
       "      <td>1</td>\n",
       "    </tr>\n",
       "    <tr>\n",
       "      <th>2</th>\n",
       "      <td>1</td>\n",
       "      <td>2.0</td>\n",
       "      <td>20.0</td>\n",
       "      <td>2</td>\n",
       "    </tr>\n",
       "    <tr>\n",
       "      <th>3</th>\n",
       "      <td>1</td>\n",
       "      <td>3.0</td>\n",
       "      <td>30.0</td>\n",
       "      <td>3</td>\n",
       "    </tr>\n",
       "    <tr>\n",
       "      <th>4</th>\n",
       "      <td>1</td>\n",
       "      <td>4.0</td>\n",
       "      <td>40.0</td>\n",
       "      <td>4</td>\n",
       "    </tr>\n",
       "    <tr>\n",
       "      <th>5</th>\n",
       "      <td>1</td>\n",
       "      <td>5.0</td>\n",
       "      <td>50.0</td>\n",
       "      <td>5</td>\n",
       "    </tr>\n",
       "    <tr>\n",
       "      <th>6</th>\n",
       "      <td>1</td>\n",
       "      <td>6.0</td>\n",
       "      <td>60.0</td>\n",
       "      <td>6</td>\n",
       "    </tr>\n",
       "    <tr>\n",
       "      <th>7</th>\n",
       "      <td>1</td>\n",
       "      <td>7.0</td>\n",
       "      <td>70.0</td>\n",
       "      <td>7</td>\n",
       "    </tr>\n",
       "    <tr>\n",
       "      <th>8</th>\n",
       "      <td>1</td>\n",
       "      <td>8.0</td>\n",
       "      <td>80.0</td>\n",
       "      <td>8</td>\n",
       "    </tr>\n",
       "    <tr>\n",
       "      <th>9</th>\n",
       "      <td>1</td>\n",
       "      <td>9.0</td>\n",
       "      <td>90.0</td>\n",
       "      <td>9</td>\n",
       "    </tr>\n",
       "    <tr>\n",
       "      <th>10</th>\n",
       "      <td>1</td>\n",
       "      <td>10.0</td>\n",
       "      <td>100.0</td>\n",
       "      <td>10</td>\n",
       "    </tr>\n",
       "    <tr>\n",
       "      <th>11</th>\n",
       "      <td>1</td>\n",
       "      <td>11.0</td>\n",
       "      <td>110.0</td>\n",
       "      <td>11</td>\n",
       "    </tr>\n",
       "    <tr>\n",
       "      <th>12</th>\n",
       "      <td>1</td>\n",
       "      <td>12.0</td>\n",
       "      <td>120.0</td>\n",
       "      <td>12</td>\n",
       "    </tr>\n",
       "  </tbody>\n",
       "</table>\n",
       "</div>"
      ],
      "text/plain": [
       "    sample_id  var1   var2  target\n",
       "0           1   0.0    0.0       0\n",
       "1           1   1.0   10.0       1\n",
       "2           1   2.0   20.0       2\n",
       "3           1   3.0   30.0       3\n",
       "4           1   4.0   40.0       4\n",
       "5           1   5.0   50.0       5\n",
       "6           1   6.0   60.0       6\n",
       "7           1   7.0   70.0       7\n",
       "8           1   8.0   80.0       8\n",
       "9           1   9.0   90.0       9\n",
       "10          1  10.0  100.0      10\n",
       "11          1  11.0  110.0      11\n",
       "12          1  12.0  120.0      12"
      ]
     },
     "execution_count": 133,
     "metadata": {},
     "output_type": "execute_result"
    }
   ],
   "source": [
    "df = pd.DataFrame()\n",
    "df['sample_id'] = np.concatenate([np.ones(n)*(i + 1) for i,n in enumerate([13])])\n",
    "df['var1'] = df['sample_id'] + df.index.values - 1\n",
    "df['var2'] = df['var1'] * 10\n",
    "df['target'] = (df['var1']).astype(int)\n",
    "df['sample_id'] = df['sample_id'].astype(int)\n",
    "df"
   ]
  },
  {
   "cell_type": "markdown",
   "metadata": {},
   "source": [
    "- sample_id列：这是一个标识每个样本的唯一标识符。在这个例子中，所有的样本都被标记为1，这可能意味着这些样本都属于同一类别或者是同一组的一部分\n",
    "- target列：这是一个整数序列，从0开始，每一行增加1。这可能是一个标签列，表示每个样本的类别或者目标值。在这个例子中，它看起来像是一个简单的整数序列，可能用于分类或者回归任务的目标变量。"
   ]
  },
  {
   "cell_type": "code",
   "execution_count": 134,
   "metadata": {},
   "outputs": [
    {
     "data": {
      "text/plain": [
       "(array([[[ 4.,  5.,  6.],\n",
       "         [40., 50., 60.]],\n",
       " \n",
       "        [[ 6.,  7.,  8.],\n",
       "         [60., 70., 80.]]]),\n",
       " array([[ 7,  8,  9, 10],\n",
       "        [ 9, 10, 11, 12]]))"
      ]
     },
     "execution_count": 134,
     "metadata": {},
     "output_type": "execute_result"
    }
   ],
   "source": [
    "X, y = SlidingWindow(window_len=3, stride=2, start=3, pad_remainder=False, padding=\"pre\", padding_value=np.nan, add_padding_feature=False,\n",
    "                     get_x=[\"var1\", \"var2\"], get_y=[\"target\"], y_func=None, output_processor=None, copy=False, horizon=4, seq_first=True, sort_by=None,\n",
    "                     ascending=True, check_leakage=True)(df)\n",
    "test_eq(X.shape, (2, 2, 3))\n",
    "test_eq(y.shape, (2, 4))\n",
    "X, y"
   ]
  },
  {
   "cell_type": "markdown",
   "metadata": {},
   "source": [
    "1. **滑动窗口参数设置**：\n",
    "   - `window_len=3`：每个窗口的长度为3，意味着每个窗口包含3个连续的数据点。\n",
    "   - `stride=2`：窗口移动的步长为2，也就是说，每次移动2个数据点。\n",
    "   - `start=3`：窗口的起始位置为3，意味着第一个窗口的第一个数据点是原始数据的第4个数据点。\n",
    "   - `pad_remainder=False`：如果数据长度不能被窗口长度和步长整除，不进行填充。\n",
    "   - `padding=\"pre\"`：在窗口的前面进行填充。\n",
    "   - `padding_value=np.nan`：填充的值为`NaN`。\n",
    "   - `add_padding_feature=False`：不添加额外的特征来表示是否填充。\n",
    "   - `get_x=[\"var1\", \"var2\"]`：选择`var1`和`var2`作为输入特征。\n",
    "   - `get_y=[\"target\"]`：选择`target`作为目标变量。\n",
    "   - `horizon=4`：预测的未来步长为4，意味着每个窗口的目标变量是窗口后面的4个数据点。\n",
    "\n",
    "2. **处理结果**：\n",
    "   - 输入特征`X`是一个三维数组，形状为`(2, 2, 3)`。这意味着有2个窗口，每个窗口包含2个特征序列（`var1`和`var2`），每个序列有3个数据点。\n",
    "   - 目标变量`y`是一个二维数组，形状为`(2, 4)`。这意味着有2个窗口，每个窗口的目标变量是窗口后面的4个数据点。\n",
    "\n",
    "通过这种处理方式，原始数据被转换为了一个可以用于训练机器学习模型的格式，其中`X`是输入特征，`y`是对应的目标变量。这种处理方式常用于时间序列预测、分类等任务，它允许模型学习如何根据过去的数据预测未来的数据。"
   ]
  },
  {
   "cell_type": "code",
   "execution_count": 136,
   "metadata": {},
   "outputs": [
    {
     "data": {
      "text/html": [
       "<div>\n",
       "<style scoped>\n",
       "    .dataframe tbody tr th:only-of-type {\n",
       "        vertical-align: middle;\n",
       "    }\n",
       "\n",
       "    .dataframe tbody tr th {\n",
       "        vertical-align: top;\n",
       "    }\n",
       "\n",
       "    .dataframe thead th {\n",
       "        text-align: right;\n",
       "    }\n",
       "</style>\n",
       "<table border=\"1\" class=\"dataframe\">\n",
       "  <thead>\n",
       "    <tr style=\"text-align: right;\">\n",
       "      <th></th>\n",
       "      <th>sample_id</th>\n",
       "      <th>var1</th>\n",
       "      <th>var2</th>\n",
       "      <th>target</th>\n",
       "    </tr>\n",
       "  </thead>\n",
       "  <tbody>\n",
       "    <tr>\n",
       "      <th>0</th>\n",
       "      <td>1</td>\n",
       "      <td>0.0</td>\n",
       "      <td>0.0</td>\n",
       "      <td>0</td>\n",
       "    </tr>\n",
       "    <tr>\n",
       "      <th>1</th>\n",
       "      <td>1</td>\n",
       "      <td>1.0</td>\n",
       "      <td>10.0</td>\n",
       "      <td>1</td>\n",
       "    </tr>\n",
       "    <tr>\n",
       "      <th>2</th>\n",
       "      <td>1</td>\n",
       "      <td>2.0</td>\n",
       "      <td>20.0</td>\n",
       "      <td>2</td>\n",
       "    </tr>\n",
       "    <tr>\n",
       "      <th>3</th>\n",
       "      <td>1</td>\n",
       "      <td>3.0</td>\n",
       "      <td>30.0</td>\n",
       "      <td>3</td>\n",
       "    </tr>\n",
       "    <tr>\n",
       "      <th>4</th>\n",
       "      <td>1</td>\n",
       "      <td>4.0</td>\n",
       "      <td>40.0</td>\n",
       "      <td>4</td>\n",
       "    </tr>\n",
       "    <tr>\n",
       "      <th>5</th>\n",
       "      <td>1</td>\n",
       "      <td>5.0</td>\n",
       "      <td>50.0</td>\n",
       "      <td>5</td>\n",
       "    </tr>\n",
       "    <tr>\n",
       "      <th>6</th>\n",
       "      <td>1</td>\n",
       "      <td>6.0</td>\n",
       "      <td>60.0</td>\n",
       "      <td>6</td>\n",
       "    </tr>\n",
       "    <tr>\n",
       "      <th>7</th>\n",
       "      <td>1</td>\n",
       "      <td>7.0</td>\n",
       "      <td>70.0</td>\n",
       "      <td>7</td>\n",
       "    </tr>\n",
       "    <tr>\n",
       "      <th>8</th>\n",
       "      <td>1</td>\n",
       "      <td>8.0</td>\n",
       "      <td>80.0</td>\n",
       "      <td>8</td>\n",
       "    </tr>\n",
       "    <tr>\n",
       "      <th>9</th>\n",
       "      <td>1</td>\n",
       "      <td>9.0</td>\n",
       "      <td>90.0</td>\n",
       "      <td>9</td>\n",
       "    </tr>\n",
       "    <tr>\n",
       "      <th>10</th>\n",
       "      <td>1</td>\n",
       "      <td>10.0</td>\n",
       "      <td>100.0</td>\n",
       "      <td>10</td>\n",
       "    </tr>\n",
       "    <tr>\n",
       "      <th>11</th>\n",
       "      <td>1</td>\n",
       "      <td>11.0</td>\n",
       "      <td>110.0</td>\n",
       "      <td>11</td>\n",
       "    </tr>\n",
       "    <tr>\n",
       "      <th>12</th>\n",
       "      <td>1</td>\n",
       "      <td>12.0</td>\n",
       "      <td>120.0</td>\n",
       "      <td>12</td>\n",
       "    </tr>\n",
       "  </tbody>\n",
       "</table>\n",
       "</div>"
      ],
      "text/plain": [
       "    sample_id  var1   var2  target\n",
       "0           1   0.0    0.0       0\n",
       "1           1   1.0   10.0       1\n",
       "2           1   2.0   20.0       2\n",
       "3           1   3.0   30.0       3\n",
       "4           1   4.0   40.0       4\n",
       "5           1   5.0   50.0       5\n",
       "6           1   6.0   60.0       6\n",
       "7           1   7.0   70.0       7\n",
       "8           1   8.0   80.0       8\n",
       "9           1   9.0   90.0       9\n",
       "10          1  10.0  100.0      10\n",
       "11          1  11.0  110.0      11\n",
       "12          1  12.0  120.0      12"
      ]
     },
     "execution_count": 136,
     "metadata": {},
     "output_type": "execute_result"
    }
   ],
   "source": [
    "df"
   ]
  },
  {
   "attachments": {
    "image.png": {
     "image/png": "[encoded data removed]"
    }
   },
   "cell_type": "markdown",
   "metadata": {},
   "source": [
    "![image.png](attachment:image.png)"
   ]
  },
  {
   "cell_type": "code",
   "execution_count": 137,
   "metadata": {},
   "outputs": [
    {
     "data": {
      "text/plain": [
       "(2, 2, 3)"
      ]
     },
     "metadata": {},
     "output_type": "display_data"
    },
    {
     "data": {
      "text/plain": [
       "(2, 4)"
      ]
     },
     "metadata": {},
     "output_type": "display_data"
    },
    {
     "data": {
      "text/plain": [
       "array([[ 4.,  5.,  6.],\n",
       "       [40., 50., 60.]])"
      ]
     },
     "metadata": {},
     "output_type": "display_data"
    },
    {
     "data": {
      "text/plain": [
       "array([ 7,  8,  9, 10])"
      ]
     },
     "metadata": {},
     "output_type": "display_data"
    },
    {
     "data": {
      "text/plain": [
       "array([[ 4.,  5.,  6.],\n",
       "       [40., 50., 60.]])"
      ]
     },
     "metadata": {},
     "output_type": "display_data"
    },
    {
     "data": {
      "text/plain": [
       "array([[ 6.,  7.,  8.],\n",
       "       [60., 70., 80.]])"
      ]
     },
     "metadata": {},
     "output_type": "display_data"
    }
   ],
   "source": [
    "display(X.shape,y.shape)\n",
    "display(X[0],y[0])\n",
    "display(X[0],X[1])"
   ]
  },
  {
   "cell_type": "code",
   "execution_count": null,
   "metadata": {},
   "outputs": [],
   "source": []
  }
 ],
 "metadata": {
  "kernelspec": {
   "display_name": "Python 3",
   "language": "python",
   "name": "python3"
  },
  "language_info": {
   "codemirror_mode": {
    "name": "ipython",
    "version": 3
   },
   "file_extension": ".py",
   "mimetype": "text/x-python",
   "name": "python",
   "nbconvert_exporter": "python",
   "pygments_lexer": "ipython3",
   "version": "3.8.18"
  }
 },
 "nbformat": 4,
 "nbformat_minor": 2
}

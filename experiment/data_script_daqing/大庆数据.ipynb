{
 "cells": [
  {
   "cell_type": "markdown",
   "metadata": {},
   "source": [
    "本笔记本加载原始大庆数据集，存储为HDF5文件，以便在其他笔记本中使用。"
   ]
  },
  {
   "cell_type": "markdown",
   "metadata": {},
   "source": [
    "大庆数据"
   ]
  },
  {
   "cell_type": "markdown",
   "metadata": {},
   "source": [
    "1. 定义常量和配置"
   ]
  },
  {
   "cell_type": "code",
   "execution_count": 29,
   "metadata": {},
   "outputs": [],
   "source": [
    "# constants.py\n",
    "# files_descriptions.py\n",
    "\n",
    "# 井的头部信息\n",
    "WELLLOG_HEAD = ['DEPT', 'RMG', 'RMN', 'RMN-RMG', 'CAL', 'SP', 'GR', 'HAC', 'BHC', 'DEN']\n",
    "\n",
    "# 井的数量\n",
    "WELLLOG_NUM = 6\n",
    "\n",
    "# 数据文件路径前缀\n",
    "DATA_PREFIX = 'data/vertical_all_A{}.csv'\n",
    "\n",
    "# 测试ID列表\n",
    "TEST_ID = [6,]\n",
    "\n",
    "# 目标列\n",
    "COLUMNS_TARGET = ['HAC', 'BHC', 'DEN']\n",
    "\n",
    "# 输入列\n",
    "COLUMNS_INPUT = ['DEPT', 'RMN-RMG', 'CAL', 'SP', 'GR']\n",
    "\n",
    "# 训练数据长度\n",
    "TRAIN_LEN = 200\n",
    "\n",
    "# 窗口步长\n",
    "WINDOW_STEP = 100\n",
    "\n",
    "# 列描述\n",
    "COLUMN_DESCRIPTIONS = {\n",
    "    'DEPT': {\n",
    "        'unit': 'm',\n",
    "        'description': '深度，单位为米 (.M)'\n",
    "    },\n",
    "    'RMG': {\n",
    "        'unit': 'ohmm',\n",
    "        'description': '电阻率，单位为欧姆米 (.ohmm)'\n",
    "    },\n",
    "    'RMN': {\n",
    "        'unit': 'ohmm',\n",
    "        'description': '电阻率，单位为欧姆米 (.ohmm)'\n",
    "    },\n",
    "    'RMN-RMG': {\n",
    "        'unit': 'ohmm',\n",
    "        'description': '电阻率差值，没有明确单位，但由于是RMN与RMG的差值，其单位应该也是欧姆米 (.ohmm)'\n",
    "    },\n",
    "    'CAL': {\n",
    "        'unit': 'cm',\n",
    "        'description': '孔隙径，单位为厘米 (.cm)'\n",
    "    },\n",
    "    'SP': {\n",
    "        'unit': 'mv',\n",
    "        'description': '自发电位，单位为毫伏 (.mv)'\n",
    "    },\n",
    "    'GR': {\n",
    "        'unit': 'API or unitless',\n",
    "        'description': '伽马射线，单位未明确指出，但通常伽马射线的单位是API（美国石油学会单位）或者无单位'\n",
    "    },\n",
    "    'HAC': {\n",
    "        'unit': 'us/m',\n",
    "        'description': '声波时差，单位为微秒每米 (.us/m)'\n",
    "    },\n",
    "    'BHC': {\n",
    "        'unit': 'us/m',\n",
    "        'description': '表面声波时差，没有明确单位，可能是微秒每米 (.us/m)，因为与HAC类似'\n",
    "    },\n",
    "    'DEN': {\n",
    "        'unit': 'g/cm3',\n",
    "        'description': '密度，单位为克/立方厘米 (.g/cm3)'\n",
    "    }\n",
    "}\n",
    "\n",
    "file_description = \"\"\"This HDF5 file contains oil well log data collected from various wells in the North Sea region. The data includes measurements of depth, resistivity, caliper, sound velocity, gamma ray, and density, among others. The measurements were taken using a combination of logging tools and techniques, including electrical resistivity logging (ERL), caliper logging, and gamma ray logging. The data has been processed to ensure consistency and accuracy, including normalization and interpolation where necessary. This file is intended for use in geological and geophysical analyses, particularly in the study of oil and gas reservoirs. For any questions or further information, please contact the data provider at [email protected]\"\"\""
   ]
  },
  {
   "cell_type": "markdown",
   "metadata": {},
   "source": [
    "2. 数据读取模块"
   ]
  },
  {
   "cell_type": "code",
   "execution_count": 30,
   "metadata": {},
   "outputs": [],
   "source": [
    "# data_reader.py\n",
    "# from constants import WELLLOG_HEAD\n",
    "\n",
    "import pandas as pd\n",
    "\n",
    "def read_file(path):\n",
    "    \"\"\"\n",
    "    读取CSV文件并返回DataFrame。\n",
    "\n",
    "    Parameters:\n",
    "    - path (str): 文件路径。\n",
    "\n",
    "    Returns:\n",
    "    - DataFrame: 包含数据的DataFrame。\n",
    "    \"\"\"\n",
    "    df = pd.read_csv(path)\n",
    "    df.columns = WELLLOG_HEAD\n",
    "    return df"
   ]
  },
  {
   "cell_type": "markdown",
   "metadata": {},
   "source": [
    "3. 数据处理模块"
   ]
  },
  {
   "cell_type": "code",
   "execution_count": 31,
   "metadata": {},
   "outputs": [],
   "source": [
    "# data_processing.py\n",
    "\n",
    "import os\n",
    "import pandas as pd\n",
    "# from constants import DATA_PREFIX, WELLLOG_NUM\n",
    "# from data_reader import read_file\n",
    "\n",
    "def process_data():\n",
    "    \"\"\"\n",
    "    处理井数据，包括读取文件、添加井名称列和合并数据。\n",
    "\n",
    "    Returns:\n",
    "    - DataFrame: 处理后的数据集。\n",
    "    \"\"\"\n",
    "    df_well_list = []\n",
    "\n",
    "    for i in range(WELLLOG_NUM):\n",
    "        filename = DATA_PREFIX.format(i+1)\n",
    "        df = read_file(filename)\n",
    "        well_name = os.path.splitext(filename)[0].split('_')[-1]\n",
    "        df['WellName'] = well_name\n",
    "        df_well_list.append(df)\n",
    "\n",
    "    return pd.concat(df_well_list, axis=0, ignore_index=True)"
   ]
  },
  {
   "cell_type": "markdown",
   "metadata": {},
   "source": [
    "4. 将数据保存到文件"
   ]
  },
  {
   "cell_type": "markdown",
   "metadata": {},
   "source": [
    "保存"
   ]
  },
  {
   "cell_type": "code",
   "execution_count": 32,
   "metadata": {},
   "outputs": [],
   "source": [
    "# data_saver.py\n",
    "\n",
    "import h5py\n",
    "import numpy as np\n",
    "# from columns_description import COLUMN_DESCRIPTIONS\n",
    "\n",
    "def save_data_to_h5(data, filename, file_description):\n",
    "    \"\"\"\n",
    "    将数据保存为.h5文件，并添加列的描述信息作为属性，以及整个文件的描述信息。\n",
    "\n",
    "    Parameters:\n",
    "    - data (DataFrame or ndarray): 要保存的数据。\n",
    "    - filename (str): 文件名，包括路径和扩展名。\n",
    "    - file_description (str): 整个文件的描述信息。\n",
    "    \"\"\"\n",
    "    with h5py.File(filename, 'w') as h5f:\n",
    "        # 添加整个文件的描述信息作为根组的属性\n",
    "        h5f.attrs['file_description'] = file_description\n",
    "        \n",
    "        for key in data.columns:\n",
    "            # 创建数据集\n",
    "            dataset = h5f.create_dataset(key, data=data[key].values)\n",
    "            # 添加单位信息和描述作为属性\n",
    "            if key in COLUMN_DESCRIPTIONS:\n",
    "                dataset.attrs['unit'] = COLUMN_DESCRIPTIONS[key]['unit']\n",
    "                dataset.attrs['description'] = COLUMN_DESCRIPTIONS[key]['description']"
   ]
  },
  {
   "cell_type": "markdown",
   "metadata": {},
   "source": [
    "读取"
   ]
  },
  {
   "cell_type": "code",
   "execution_count": 35,
   "metadata": {},
   "outputs": [
    {
     "name": "stdout",
     "output_type": "stream",
     "text": [
      "File Description: This HDF5 file contains oil well log data collected from various wells in the North Sea region. The data includes measurements of depth, resistivity, caliper, sound velocity, gamma ray, and density, among others. The measurements were taken using a combination of logging tools and techniques, including electrical resistivity logging (ERL), caliper logging, and gamma ray logging. The data has been processed to ensure consistency and accuracy, including normalization and interpolation where necessary. This file is intended for use in geological and geophysical analyses, particularly in the study of oil and gas reservoirs. For any questions or further information, please contact the data provider at [email protected]\n",
      "BHC: Unit = us/m, Description = 表面声波时差，没有明确单位，可能是微秒每米 (.us/m)，因为与HAC类似\n",
      "CAL: Unit = cm, Description = 孔隙径，单位为厘米 (.cm)\n",
      "DEN: Unit = g/cm3, Description = 密度，单位为克/立方厘米 (.g/cm3)\n",
      "DEPT: Unit = m, Description = 深度，单位为米 (.M)\n",
      "GR: Unit = API or unitless, Description = 伽马射线，单位未明确指出，但通常伽马射线的单位是API（美国石油学会单位）或者无单位\n",
      "HAC: Unit = us/m, Description = 声波时差，单位为微秒每米 (.us/m)\n",
      "RMG: Unit = ohmm, Description = 电阻率，单位为欧姆米 (.ohmm)\n",
      "RMN: Unit = ohmm, Description = 电阻率，单位为欧姆米 (.ohmm)\n",
      "RMN-RMG: Unit = ohmm, Description = 电阻率差值，没有明确单位，但由于是RMN与RMG的差值，其单位应该也是欧姆米 (.ohmm)\n",
      "SP: Unit = mv, Description = 自发电位，单位为毫伏 (.mv)\n",
      "WellName: Unit = No unit, Description = No description\n",
      "       BHC     CAL    DEN    DEPT       GR      HAC    RMG    RMN  RMN-RMG  \\\n",
      "0  405.716  23.492  2.269  780.60  102.405  402.244  2.260  2.265    0.005   \n",
      "1  404.701  23.453  2.274  780.65  103.093  397.115  2.241  2.281    0.040   \n",
      "2  403.953  23.403  2.284  780.70  102.995  394.872  2.405  2.474    0.069   \n",
      "3  404.434  23.363  2.274  780.75  102.405  397.009  2.598  2.640    0.042   \n",
      "4  405.021  23.333  2.284  780.80  101.128  404.060  2.533  2.538    0.005   \n",
      "\n",
      "        SP WellName  \n",
      "0  121.845    b'A1'  \n",
      "1  121.845    b'A1'  \n",
      "2  121.656    b'A1'  \n",
      "3  121.325    b'A1'  \n",
      "4  120.994    b'A1'  \n"
     ]
    }
   ],
   "source": [
    "import h5py\n",
    "import pandas as pd\n",
    "\n",
    "def load_data_from_h5(filename):\n",
    "    \"\"\"\n",
    "    从.h5文件中读取数据，并返回一个Pandas DataFrame。\n",
    "\n",
    "    Parameters:\n",
    "    - filename (str): 文件名，包括路径和扩展名。\n",
    "\n",
    "    Returns:\n",
    "    - df (DataFrame): 包含从文件中读取的数据的DataFrame。\n",
    "    \"\"\"\n",
    "    with h5py.File(filename, 'r') as h5f:\n",
    "        # 获取文件的描述信息\n",
    "        file_description = h5f.attrs.get('file_description', 'No description')\n",
    "        print(f\"File Description: {file_description}\")\n",
    "        \n",
    "        # 初始化一个空的DataFrame\n",
    "        df = pd.DataFrame()\n",
    "        \n",
    "        # 遍历文件中的所有数据集\n",
    "        for key in h5f.keys():\n",
    "            # 读取数据集\n",
    "            dataset = h5f[key]\n",
    "            # 将数据集添加到DataFrame中\n",
    "            df[key] = dataset[:]\n",
    "            # 打印数据集的单位和描述\n",
    "            unit = dataset.attrs.get('unit', 'No unit')\n",
    "            description = dataset.attrs.get('description', 'No description')\n",
    "            print(f\"{key}: Unit = {unit}, Description = {description}\")\n",
    "        \n",
    "        return df\n",
    "    \n",
    "# 测试\n",
    "filename = './well_log_daqing.h5'\n",
    "df = load_data_from_h5(filename)\n",
    "print(df.head())"
   ]
  },
  {
   "cell_type": "markdown",
   "metadata": {},
   "source": [
    "5. 主程序"
   ]
  },
  {
   "cell_type": "code",
   "execution_count": 33,
   "metadata": {},
   "outputs": [
    {
     "name": "stdout",
     "output_type": "stream",
     "text": [
      "数据集长度: 38734\n",
      "数据集头部:\n",
      "     DEPT    RMG    RMN  RMN-RMG     CAL       SP       GR      HAC      BHC  \\\n",
      "0  780.60  2.260  2.265    0.005  23.492  121.845  102.405  402.244  405.716   \n",
      "1  780.65  2.241  2.281    0.040  23.453  121.845  103.093  397.115  404.701   \n",
      "2  780.70  2.405  2.474    0.069  23.403  121.656  102.995  394.872  403.953   \n",
      "3  780.75  2.598  2.640    0.042  23.363  121.325  102.405  397.009  404.434   \n",
      "4  780.80  2.533  2.538    0.005  23.333  120.994  101.128  404.060  405.021   \n",
      "\n",
      "     DEN WellName  \n",
      "0  2.269       A1  \n",
      "1  2.274       A1  \n",
      "2  2.284       A1  \n",
      "3  2.274       A1  \n",
      "4  2.284       A1  \n",
      "数据集尾部:\n",
      "           DEPT    RMG    RMN  RMN-RMG     CAL      SP      GR      HAC  \\\n",
      "38729  1006.079  6.191  8.237    2.046  21.125  66.313  81.215  335.470   \n",
      "38730  1006.129  5.867  8.042    2.175  21.095  66.248  82.754  335.470   \n",
      "38731  1006.179  6.723  9.164    2.441  21.080  66.150  84.678  335.150   \n",
      "38732  1006.229  7.263  9.530    2.267  21.118  66.248  87.660  335.150   \n",
      "38733  1006.279  6.874  8.828    1.954  21.182  66.313  89.873  319.026   \n",
      "\n",
      "           BHC    DEN WellName  \n",
      "38729  336.003  2.116       A6  \n",
      "38730  333.760  2.144       A6  \n",
      "38731  331.571  2.164       A6  \n",
      "38732  329.755  2.178       A6  \n",
      "38733  324.362  2.179       A6  \n",
      "数据已保存为well_log_daqing.h5\n"
     ]
    }
   ],
   "source": [
    "# main.py\n",
    "\n",
    "# from data_processing import process_data\n",
    "\n",
    "def main():\n",
    "    \"\"\"\n",
    "    主程序，处理井数据并显示结果。\n",
    "    \"\"\"\n",
    "    dataset = process_data()\n",
    "    print(f\"数据集长度: {len(dataset)}\")\n",
    "    print(\"数据集头部:\")\n",
    "    print(dataset.head())\n",
    "    print(\"数据集尾部:\")\n",
    "    print(dataset.tail())\n",
    "    \n",
    "    save_data_to_h5(dataset, 'well_log_daqing.h5', file_description)\n",
    "    print(\"数据已保存为well_log_daqing.h5\")\n",
    "    \n",
    "\n",
    "if __name__ == \"__main__\":\n",
    "    main()"
   ]
  },
  {
   "cell_type": "markdown",
   "metadata": {},
   "source": [
    "6. 技术文档\n",
    "\n",
    "    在每个模块和函数的文档字符串中，我们已经提供了关于其功能和用法的描述。这些描述可以作为技术文档的一部分，帮助其他开发者理解和使用代码。\n",
    "\n",
    "    通过这种方式，代码结构更加清晰，模块化，并且易于维护和扩展。同时，提供的文档字符串为代码的使用和维护提供了指导。"
   ]
  },
  {
   "cell_type": "markdown",
   "metadata": {},
   "source": [
    "## 代码笔记"
   ]
  },
  {
   "cell_type": "markdown",
   "metadata": {},
   "source": [
    "重新整理和组织代码结构：\n",
    "1. 模块化：将代码分解为可重用的模块，提高代码可读性和可维护性。\n",
    "2. 文档化：为每个模块和函数添加文档字符串(docsstrings),便于理解其功能和用法。\n",
    "3. 错误处理：确保代码中适当的错误处理机制，便于调试和维护。\n",
    "4. 代码风格：Python的PEP 8 风格指南，确保代码的一致性和可读性。_"
   ]
  },
  {
   "cell_type": "markdown",
   "metadata": {},
   "source": [
    "元数据信息：\n",
    "- 数据来源：大庆数据\n",
    "- 数据格式：csv\n",
    "- 数据量：约 38837 行\n",
    "- 特征数量：10，['DEPT', 'RMG', 'RMN', 'RMN-RMG', 'CAL', 'SP', 'GR', 'HAC', 'BHC', 'DEN']\n",
    "- 井号： A1-A6,共6口井"
   ]
  },
  {
   "cell_type": "markdown",
   "metadata": {},
   "source": [
    "HDFS:\n",
    "- 标签；\n",
    "- 描述信息\n",
    "- 数据"
   ]
  }
 ],
 "metadata": {
  "kernelspec": {
   "display_name": "Python 3",
   "language": "python",
   "name": "python3"
  },
  "language_info": {
   "codemirror_mode": {
    "name": "ipython",
    "version": 3
   },
   "file_extension": ".py",
   "mimetype": "text/x-python",
   "name": "python",
   "nbconvert_exporter": "python",
   "pygments_lexer": "ipython3",
   "version": "3.8.18"
  }
 },
 "nbformat": 4,
 "nbformat_minor": 2
}

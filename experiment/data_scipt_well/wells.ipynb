{
 "cells": [
  {
   "cell_type": "markdown",
   "metadata": {},
   "source": [
    "本笔记本加载well_prediction 预测文件"
   ]
  },
  {
   "cell_type": "markdown",
   "metadata": {},
   "source": [
    "测井数据"
   ]
  },
  {
   "cell_type": "markdown",
   "metadata": {},
   "source": [
    "1. 定义常量和配置"
   ]
  },
  {
   "cell_type": "code",
   "execution_count": 5,
   "metadata": {},
   "outputs": [],
   "source": []
  },
  {
   "cell_type": "markdown",
   "metadata": {},
   "source": [
    "2. 数据读取模块"
   ]
  },
  {
   "cell_type": "code",
   "execution_count": 14,
   "metadata": {},
   "outputs": [],
   "source": [
    "\n",
    "file_description = \"\"\"本 HDF5 文件是：经过处理的 log_data.csv 文件进行转移存储的。\"\"\""
   ]
  },
  {
   "cell_type": "code",
   "execution_count": 16,
   "metadata": {},
   "outputs": [
    {
     "data": {
      "text/html": [
       "<div>\n",
       "<style scoped>\n",
       "    .dataframe tbody tr th:only-of-type {\n",
       "        vertical-align: middle;\n",
       "    }\n",
       "\n",
       "    .dataframe tbody tr th {\n",
       "        vertical-align: top;\n",
       "    }\n",
       "\n",
       "    .dataframe thead th {\n",
       "        text-align: right;\n",
       "    }\n",
       "</style>\n",
       "<table border=\"1\" class=\"dataframe\">\n",
       "  <thead>\n",
       "    <tr style=\"text-align: right;\">\n",
       "      <th></th>\n",
       "      <th>WELL_NAME</th>\n",
       "      <th>DEPTH</th>\n",
       "      <th>GR</th>\n",
       "      <th>BS</th>\n",
       "      <th>CALI</th>\n",
       "      <th>ROP</th>\n",
       "      <th>RHOB</th>\n",
       "      <th>NPHI</th>\n",
       "      <th>RACEHM</th>\n",
       "      <th>RACELM</th>\n",
       "      <th>...</th>\n",
       "      <th>DTS</th>\n",
       "      <th>VCARB</th>\n",
       "      <th>VSH</th>\n",
       "      <th>PHIF</th>\n",
       "      <th>SW</th>\n",
       "      <th>KLOGH</th>\n",
       "      <th>KLOGV</th>\n",
       "      <th>SAND_FLAG</th>\n",
       "      <th>CARB_FLAG</th>\n",
       "      <th>COAL_FLAG</th>\n",
       "    </tr>\n",
       "  </thead>\n",
       "  <tbody>\n",
       "    <tr>\n",
       "      <th>0</th>\n",
       "      <td>Well_F19A</td>\n",
       "      <td>3666.5916</td>\n",
       "      <td>54.521200</td>\n",
       "      <td>8.5</td>\n",
       "      <td>NaN</td>\n",
       "      <td>NaN</td>\n",
       "      <td>2.288292</td>\n",
       "      <td>0.174843</td>\n",
       "      <td>NaN</td>\n",
       "      <td>NaN</td>\n",
       "      <td>...</td>\n",
       "      <td>NaN</td>\n",
       "      <td>NaN</td>\n",
       "      <td>0.598800</td>\n",
       "      <td>0.199843</td>\n",
       "      <td>0.5590</td>\n",
       "      <td>0.0003</td>\n",
       "      <td>NaN</td>\n",
       "      <td>0.0</td>\n",
       "      <td>0.0</td>\n",
       "      <td>0.0</td>\n",
       "    </tr>\n",
       "    <tr>\n",
       "      <th>1</th>\n",
       "      <td>Well_F19A</td>\n",
       "      <td>3666.7440</td>\n",
       "      <td>54.444945</td>\n",
       "      <td>8.5</td>\n",
       "      <td>NaN</td>\n",
       "      <td>NaN</td>\n",
       "      <td>2.253138</td>\n",
       "      <td>0.193743</td>\n",
       "      <td>NaN</td>\n",
       "      <td>NaN</td>\n",
       "      <td>...</td>\n",
       "      <td>NaN</td>\n",
       "      <td>NaN</td>\n",
       "      <td>0.599555</td>\n",
       "      <td>0.218743</td>\n",
       "      <td>0.5131</td>\n",
       "      <td>0.0000</td>\n",
       "      <td>NaN</td>\n",
       "      <td>0.0</td>\n",
       "      <td>0.0</td>\n",
       "      <td>0.0</td>\n",
       "    </tr>\n",
       "    <tr>\n",
       "      <th>2</th>\n",
       "      <td>Well_F19A</td>\n",
       "      <td>3666.8964</td>\n",
       "      <td>54.368690</td>\n",
       "      <td>8.5</td>\n",
       "      <td>NaN</td>\n",
       "      <td>NaN</td>\n",
       "      <td>2.209173</td>\n",
       "      <td>0.217380</td>\n",
       "      <td>NaN</td>\n",
       "      <td>NaN</td>\n",
       "      <td>...</td>\n",
       "      <td>NaN</td>\n",
       "      <td>NaN</td>\n",
       "      <td>0.600310</td>\n",
       "      <td>0.242380</td>\n",
       "      <td>0.4737</td>\n",
       "      <td>0.0000</td>\n",
       "      <td>NaN</td>\n",
       "      <td>0.0</td>\n",
       "      <td>0.0</td>\n",
       "      <td>0.0</td>\n",
       "    </tr>\n",
       "    <tr>\n",
       "      <th>3</th>\n",
       "      <td>Well_F19A</td>\n",
       "      <td>3667.0488</td>\n",
       "      <td>54.292435</td>\n",
       "      <td>8.5</td>\n",
       "      <td>NaN</td>\n",
       "      <td>NaN</td>\n",
       "      <td>2.238881</td>\n",
       "      <td>0.201408</td>\n",
       "      <td>NaN</td>\n",
       "      <td>NaN</td>\n",
       "      <td>...</td>\n",
       "      <td>NaN</td>\n",
       "      <td>NaN</td>\n",
       "      <td>0.601065</td>\n",
       "      <td>0.226408</td>\n",
       "      <td>0.5054</td>\n",
       "      <td>0.0000</td>\n",
       "      <td>NaN</td>\n",
       "      <td>0.0</td>\n",
       "      <td>0.0</td>\n",
       "      <td>0.0</td>\n",
       "    </tr>\n",
       "    <tr>\n",
       "      <th>4</th>\n",
       "      <td>Well_F19A</td>\n",
       "      <td>3667.2012</td>\n",
       "      <td>54.216180</td>\n",
       "      <td>8.5</td>\n",
       "      <td>NaN</td>\n",
       "      <td>NaN</td>\n",
       "      <td>2.257926</td>\n",
       "      <td>0.191169</td>\n",
       "      <td>NaN</td>\n",
       "      <td>NaN</td>\n",
       "      <td>...</td>\n",
       "      <td>NaN</td>\n",
       "      <td>NaN</td>\n",
       "      <td>0.601820</td>\n",
       "      <td>0.216169</td>\n",
       "      <td>0.5360</td>\n",
       "      <td>0.0000</td>\n",
       "      <td>NaN</td>\n",
       "      <td>0.0</td>\n",
       "      <td>0.0</td>\n",
       "      <td>0.0</td>\n",
       "    </tr>\n",
       "  </tbody>\n",
       "</table>\n",
       "<p>5 rows × 24 columns</p>\n",
       "</div>"
      ],
      "text/plain": [
       "   WELL_NAME      DEPTH         GR   BS  CALI  ROP      RHOB      NPHI  \\\n",
       "0  Well_F19A  3666.5916  54.521200  8.5   NaN  NaN  2.288292  0.174843   \n",
       "1  Well_F19A  3666.7440  54.444945  8.5   NaN  NaN  2.253138  0.193743   \n",
       "2  Well_F19A  3666.8964  54.368690  8.5   NaN  NaN  2.209173  0.217380   \n",
       "3  Well_F19A  3667.0488  54.292435  8.5   NaN  NaN  2.238881  0.201408   \n",
       "4  Well_F19A  3667.2012  54.216180  8.5   NaN  NaN  2.257926  0.191169   \n",
       "\n",
       "   RACEHM  RACELM  ...  DTS  VCARB       VSH      PHIF      SW   KLOGH  KLOGV  \\\n",
       "0     NaN     NaN  ...  NaN    NaN  0.598800  0.199843  0.5590  0.0003    NaN   \n",
       "1     NaN     NaN  ...  NaN    NaN  0.599555  0.218743  0.5131  0.0000    NaN   \n",
       "2     NaN     NaN  ...  NaN    NaN  0.600310  0.242380  0.4737  0.0000    NaN   \n",
       "3     NaN     NaN  ...  NaN    NaN  0.601065  0.226408  0.5054  0.0000    NaN   \n",
       "4     NaN     NaN  ...  NaN    NaN  0.601820  0.216169  0.5360  0.0000    NaN   \n",
       "\n",
       "   SAND_FLAG  CARB_FLAG  COAL_FLAG  \n",
       "0        0.0        0.0        0.0  \n",
       "1        0.0        0.0        0.0  \n",
       "2        0.0        0.0        0.0  \n",
       "3        0.0        0.0        0.0  \n",
       "4        0.0        0.0        0.0  \n",
       "\n",
       "[5 rows x 24 columns]"
      ]
     },
     "execution_count": 16,
     "metadata": {},
     "output_type": "execute_result"
    }
   ],
   "source": [
    "df = pd.read_csv('./data/log_data.csv') \n",
    "df.head()"
   ]
  },
  {
   "cell_type": "code",
   "execution_count": 17,
   "metadata": {},
   "outputs": [
    {
     "data": {
      "text/plain": [
       "Index(['WELL_NAME', 'DEPTH', 'GR', 'BS', 'CALI', 'ROP', 'RHOB', 'NPHI',\n",
       "       'RACEHM', 'RACELM', 'RM', 'RD', 'PEF', 'DT', 'DTS', 'VCARB', 'VSH',\n",
       "       'PHIF', 'SW', 'KLOGH', 'KLOGV', 'SAND_FLAG', 'CARB_FLAG', 'COAL_FLAG'],\n",
       "      dtype='object')"
      ]
     },
     "execution_count": 17,
     "metadata": {},
     "output_type": "execute_result"
    }
   ],
   "source": [
    "df.columns"
   ]
  },
  {
   "cell_type": "markdown",
   "metadata": {},
   "source": [
    "4. 将数据保存到文件"
   ]
  },
  {
   "cell_type": "markdown",
   "metadata": {},
   "source": [
    "保存"
   ]
  },
  {
   "cell_type": "code",
   "execution_count": 18,
   "metadata": {},
   "outputs": [],
   "source": [
    "from data_save import save_data_to_h5_using_strategy, AdvancedDataSaver\n",
    "\n",
    "save_data_to_h5_using_strategy(df, 'log_data.h5', file_description,strategy= AdvancedDataSaver())"
   ]
  },
  {
   "cell_type": "markdown",
   "metadata": {},
   "source": [
    "读取"
   ]
  },
  {
   "cell_type": "markdown",
   "metadata": {},
   "source": [
    "5. 主程序"
   ]
  },
  {
   "cell_type": "code",
   "execution_count": 33,
   "metadata": {},
   "outputs": [
    {
     "name": "stdout",
     "output_type": "stream",
     "text": [
      "数据集长度: 38734\n",
      "数据集头部:\n",
      "     DEPT    RMG    RMN  RMN-RMG     CAL       SP       GR      HAC      BHC  \\\n",
      "0  780.60  2.260  2.265    0.005  23.492  121.845  102.405  402.244  405.716   \n",
      "1  780.65  2.241  2.281    0.040  23.453  121.845  103.093  397.115  404.701   \n",
      "2  780.70  2.405  2.474    0.069  23.403  121.656  102.995  394.872  403.953   \n",
      "3  780.75  2.598  2.640    0.042  23.363  121.325  102.405  397.009  404.434   \n",
      "4  780.80  2.533  2.538    0.005  23.333  120.994  101.128  404.060  405.021   \n",
      "\n",
      "     DEN WellName  \n",
      "0  2.269       A1  \n",
      "1  2.274       A1  \n",
      "2  2.284       A1  \n",
      "3  2.274       A1  \n",
      "4  2.284       A1  \n",
      "数据集尾部:\n",
      "           DEPT    RMG    RMN  RMN-RMG     CAL      SP      GR      HAC  \\\n",
      "38729  1006.079  6.191  8.237    2.046  21.125  66.313  81.215  335.470   \n",
      "38730  1006.129  5.867  8.042    2.175  21.095  66.248  82.754  335.470   \n",
      "38731  1006.179  6.723  9.164    2.441  21.080  66.150  84.678  335.150   \n",
      "38732  1006.229  7.263  9.530    2.267  21.118  66.248  87.660  335.150   \n",
      "38733  1006.279  6.874  8.828    1.954  21.182  66.313  89.873  319.026   \n",
      "\n",
      "           BHC    DEN WellName  \n",
      "38729  336.003  2.116       A6  \n",
      "38730  333.760  2.144       A6  \n",
      "38731  331.571  2.164       A6  \n",
      "38732  329.755  2.178       A6  \n",
      "38733  324.362  2.179       A6  \n",
      "数据已保存为well_log_daqing.h5\n"
     ]
    }
   ],
   "source": [
    "# main.py\n",
    "\n",
    "# from data_processing import process_data\n",
    "\n",
    "def main():\n",
    "    \"\"\"\n",
    "    主程序，处理井数据并显示结果。\n",
    "    \"\"\"\n",
    "    dataset = process_data()\n",
    "    print(f\"数据集长度: {len(dataset)}\")\n",
    "    print(\"数据集头部:\")\n",
    "    print(dataset.head())\n",
    "    print(\"数据集尾部:\")\n",
    "    print(dataset.tail())\n",
    "    \n",
    "    save_data_to_h5(dataset, 'well_log_daqing.h5', file_description)\n",
    "    print(\"数据已保存为well_log_daqing.h5\")\n",
    "    \n",
    "\n",
    "if __name__ == \"__main__\":\n",
    "    main()"
   ]
  },
  {
   "cell_type": "markdown",
   "metadata": {},
   "source": [
    "6. 技术文档\n",
    "\n",
    "    在每个模块和函数的文档字符串中，我们已经提供了关于其功能和用法的描述。这些描述可以作为技术文档的一部分，帮助其他开发者理解和使用代码。\n",
    "\n",
    "    通过这种方式，代码结构更加清晰，模块化，并且易于维护和扩展。同时，提供的文档字符串为代码的使用和维护提供了指导。"
   ]
  },
  {
   "cell_type": "markdown",
   "metadata": {},
   "source": [
    "## 代码笔记"
   ]
  },
  {
   "cell_type": "markdown",
   "metadata": {},
   "source": [
    "重新整理和组织代码结构：\n",
    "1. 模块化：将代码分解为可重用的模块，提高代码可读性和可维护性。\n",
    "2. 文档化：为每个模块和函数添加文档字符串(docsstrings),便于理解其功能和用法。\n",
    "3. 错误处理：确保代码中适当的错误处理机制，便于调试和维护。\n",
    "4. 代码风格：Python的PEP 8 风格指南，确保代码的一致性和可读性。_"
   ]
  },
  {
   "cell_type": "markdown",
   "metadata": {},
   "source": [
    "元数据信息：\n",
    "- 数据来源：大庆数据\n",
    "- 数据格式：csv\n",
    "- 数据量：约 38837 行\n",
    "- 特征数量：10，['DEPT', 'RMG', 'RMN', 'RMN-RMG', 'CAL', 'SP', 'GR', 'HAC', 'BHC', 'DEN']\n",
    "- 井号： A1-A6,共6口井"
   ]
  },
  {
   "cell_type": "markdown",
   "metadata": {},
   "source": [
    "HDFS:\n",
    "- 标签；\n",
    "- 描述信息\n",
    "- 数据"
   ]
  }
 ],
 "metadata": {
  "kernelspec": {
   "display_name": "Python 3",
   "language": "python",
   "name": "python3"
  },
  "language_info": {
   "codemirror_mode": {
    "name": "ipython",
    "version": 3
   },
   "file_extension": ".py",
   "mimetype": "text/x-python",
   "name": "python",
   "nbconvert_exporter": "python",
   "pygments_lexer": "ipython3",
   "version": "3.8.18"
  }
 },
 "nbformat": 4,
 "nbformat_minor": 2
}

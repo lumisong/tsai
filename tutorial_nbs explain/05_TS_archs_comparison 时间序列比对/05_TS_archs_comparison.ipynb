{
 "cells": [
  {
   "cell_type": "markdown",
   "metadata": {},
   "source": [
    "<a href=\"https://colab.research.google.com/github/timeseriesAI/tsai/blob/master/tutorial_nbs/05_TS_archs_comparison.ipynb\" target=\"_parent\"><img src=\"https://colab.research.google.com/assets/colab-badge.svg\" alt=\"Open In Colab\"/></a>"
   ]
  },
  {
   "cell_type": "code",
   "execution_count": 2,
   "metadata": {},
   "outputs": [],
   "source": [
    "import os\n",
    "# 设置proxy\n",
    "os.environ['http_proxy'] = 'http://127.0.0.1:7890'\n",
    "os.environ['https_proxy'] = 'http://127.0.0.1:7890'"
   ]
  },
  {
   "cell_type": "markdown",
   "metadata": {},
   "source": [
    "# Import libraries 📚"
   ]
  },
  {
   "cell_type": "code",
   "execution_count": 1,
   "metadata": {},
   "outputs": [
    {
     "name": "stdout",
     "output_type": "stream",
     "text": [
      "os              : Linux-5.15.0-97-generic-x86_64-with-glibc2.17\n",
      "python          : 3.8.18\n",
      "tsai            : 0.3.9\n",
      "fastai          : 2.7.14\n",
      "fastcore        : 1.5.29\n",
      "torch           : 2.2.1+cu121\n",
      "device          : 1 gpu (['NVIDIA GeForce GTX 1060 6GB'])\n",
      "cpu cores       : 6\n",
      "threads per cpu : 2\n",
      "RAM             : 31.22 GB\n",
      "GPU memory      : [6.0] GB\n"
     ]
    }
   ],
   "source": [
    "from tsai.all import *\n",
    "from IPython.display import clear_output\n",
    "my_setup()"
   ]
  },
  {
   "cell_type": "markdown",
   "metadata": {},
   "source": [
    "# Experiments 🧪"
   ]
  },
  {
   "cell_type": "markdown",
   "metadata": {},
   "source": [
    "我运行了一个小测试来展示如何使用 create_model 函数在 tsai 库中构建任何模型。\n",
    "> I've run a small test to show how you can build any model in the `tsai` library using the `create_model` functions.\n",
    "\n",
    "最简单的方法是传递您想要使用的架构、 TSDataLoaders 和您想要使用的任何 kwargs 。 create_model 函数将从 TSDataLoaders 对象中获取必要的数据。\n",
    "\n",
    "> The esiest way to do it is pass the architecture you want to use, a `TSDataLoaders` and any `kwargs` you'd like to use. The `create_model` function will pick up the necessary data from the `TSDataLoaders` object.\n",
    "\n",
    "我使用了 2 个多元时间序列数据集。正如您所看到的，很难预测哪种架构最适合哪个数据集。\n",
    "> I've used 2 multivariate time series datasets. As you can see, it's difficult to predict which architecture will work best for which dataset.\n",
    "\n",
    "请记住，这是一个非常简单的测试，没有任何超参数调整。\n",
    ">Please, bear in mind that this is a very simple test without any hyperparameter tuning."
   ]
  },
  {
   "cell_type": "code",
   "execution_count": 3,
   "metadata": {},
   "outputs": [
    {
     "data": {
      "text/html": [
       "<div>\n",
       "<style scoped>\n",
       "    .dataframe tbody tr th:only-of-type {\n",
       "        vertical-align: middle;\n",
       "    }\n",
       "\n",
       "    .dataframe tbody tr th {\n",
       "        vertical-align: top;\n",
       "    }\n",
       "\n",
       "    .dataframe thead th {\n",
       "        text-align: right;\n",
       "    }\n",
       "</style>\n",
       "<table border=\"1\" class=\"dataframe\">\n",
       "  <thead>\n",
       "    <tr style=\"text-align: right;\">\n",
       "      <th></th>\n",
       "      <th>arch</th>\n",
       "      <th>hyperparams</th>\n",
       "      <th>total params</th>\n",
       "      <th>train loss</th>\n",
       "      <th>valid loss</th>\n",
       "      <th>accuracy</th>\n",
       "      <th>time</th>\n",
       "    </tr>\n",
       "  </thead>\n",
       "  <tbody>\n",
       "    <tr>\n",
       "      <th>0</th>\n",
       "      <td>ResNet</td>\n",
       "      <td>{}</td>\n",
       "      <td>490758</td>\n",
       "      <td>0.029529</td>\n",
       "      <td>0.101087</td>\n",
       "      <td>0.966667</td>\n",
       "      <td>4</td>\n",
       "    </tr>\n",
       "    <tr>\n",
       "      <th>1</th>\n",
       "      <td>FCN</td>\n",
       "      <td>{}</td>\n",
       "      <td>285446</td>\n",
       "      <td>0.069985</td>\n",
       "      <td>0.121947</td>\n",
       "      <td>0.955556</td>\n",
       "      <td>4</td>\n",
       "    </tr>\n",
       "  </tbody>\n",
       "</table>\n",
       "</div>"
      ],
      "text/plain": [
       "     arch hyperparams  total params  train loss  valid loss  accuracy  time\n",
       "0  ResNet          {}        490758    0.029529    0.101087  0.966667     4\n",
       "1     FCN          {}        285446    0.069985    0.121947  0.955556     4"
      ]
     },
     "metadata": {},
     "output_type": "display_data"
    },
    {
     "ename": "TypeError",
     "evalue": "__init__() got an unexpected keyword argument 'seq_len'",
     "output_type": "error",
     "traceback": [
      "\u001b[0;31m---------------------------------------------------------------------------\u001b[0m",
      "\u001b[0;31mTypeError\u001b[0m                                 Traceback (most recent call last)",
      "Cell \u001b[0;32mIn[3], line 16\u001b[0m\n\u001b[1;32m     14\u001b[0m results \u001b[38;5;241m=\u001b[39m pd\u001b[38;5;241m.\u001b[39mDataFrame(columns\u001b[38;5;241m=\u001b[39m[\u001b[38;5;124m'\u001b[39m\u001b[38;5;124march\u001b[39m\u001b[38;5;124m'\u001b[39m, \u001b[38;5;124m'\u001b[39m\u001b[38;5;124mhyperparams\u001b[39m\u001b[38;5;124m'\u001b[39m, \u001b[38;5;124m'\u001b[39m\u001b[38;5;124mtotal params\u001b[39m\u001b[38;5;124m'\u001b[39m, \u001b[38;5;124m'\u001b[39m\u001b[38;5;124mtrain loss\u001b[39m\u001b[38;5;124m'\u001b[39m, \u001b[38;5;124m'\u001b[39m\u001b[38;5;124mvalid loss\u001b[39m\u001b[38;5;124m'\u001b[39m, \u001b[38;5;124m'\u001b[39m\u001b[38;5;124maccuracy\u001b[39m\u001b[38;5;124m'\u001b[39m, \u001b[38;5;124m'\u001b[39m\u001b[38;5;124mtime\u001b[39m\u001b[38;5;124m'\u001b[39m])\n\u001b[1;32m     15\u001b[0m \u001b[38;5;28;01mfor\u001b[39;00m i, (arch, k) \u001b[38;5;129;01min\u001b[39;00m \u001b[38;5;28menumerate\u001b[39m(archs):\n\u001b[0;32m---> 16\u001b[0m     model \u001b[38;5;241m=\u001b[39m \u001b[43mcreate_model\u001b[49m\u001b[43m(\u001b[49m\u001b[43march\u001b[49m\u001b[43m,\u001b[49m\u001b[43m \u001b[49m\u001b[43mdls\u001b[49m\u001b[38;5;241;43m=\u001b[39;49m\u001b[43mdls\u001b[49m\u001b[43m,\u001b[49m\u001b[43m \u001b[49m\u001b[38;5;241;43m*\u001b[39;49m\u001b[38;5;241;43m*\u001b[39;49m\u001b[43mk\u001b[49m\u001b[43m)\u001b[49m\n\u001b[1;32m     17\u001b[0m     \u001b[38;5;28mprint\u001b[39m(model\u001b[38;5;241m.\u001b[39m\u001b[38;5;18m__class__\u001b[39m\u001b[38;5;241m.\u001b[39m\u001b[38;5;18m__name__\u001b[39m)\n\u001b[1;32m     18\u001b[0m     learn \u001b[38;5;241m=\u001b[39m Learner(dls, model,  metrics\u001b[38;5;241m=\u001b[39maccuracy)\n",
      "File \u001b[0;32m~/文档/tsai/tsai_torch200_py38/lib/python3.8/site-packages/tsai/models/utils.py:195\u001b[0m, in \u001b[0;36mbuild_ts_model\u001b[0;34m(arch, c_in, c_out, seq_len, d, dls, device, verbose, s_cat_idxs, s_cat_embeddings, s_cat_embedding_dims, s_cont_idxs, o_cat_idxs, o_cat_embeddings, o_cat_embedding_dims, o_cont_idxs, patch_len, patch_stride, fusion_layers, fusion_act, fusion_dropout, fusion_use_bn, pretrained, weights_path, exclude_head, cut, init, arch_config, **kwargs)\u001b[0m\n\u001b[1;32m    193\u001b[0m \u001b[38;5;28;01melif\u001b[39;00m \u001b[38;5;124m'\u001b[39m\u001b[38;5;124mxresnet1d\u001b[39m\u001b[38;5;124m'\u001b[39m \u001b[38;5;129;01min\u001b[39;00m arch\u001b[38;5;241m.\u001b[39m\u001b[38;5;18m__name__\u001b[39m\u001b[38;5;241m.\u001b[39mlower():\n\u001b[1;32m    194\u001b[0m     pv(\u001b[38;5;124mf\u001b[39m\u001b[38;5;124m'\u001b[39m\u001b[38;5;124march: \u001b[39m\u001b[38;5;132;01m{\u001b[39;00march\u001b[38;5;241m.\u001b[39m\u001b[38;5;18m__name__\u001b[39m\u001b[38;5;132;01m}\u001b[39;00m\u001b[38;5;124m(c_in=\u001b[39m\u001b[38;5;132;01m{\u001b[39;00mc_in\u001b[38;5;132;01m}\u001b[39;00m\u001b[38;5;124m c_out=\u001b[39m\u001b[38;5;132;01m{\u001b[39;00mc_out\u001b[38;5;132;01m}\u001b[39;00m\u001b[38;5;124m seq_len=\u001b[39m\u001b[38;5;132;01m{\u001b[39;00mseq_len\u001b[38;5;132;01m}\u001b[39;00m\u001b[38;5;124m arch_config=\u001b[39m\u001b[38;5;132;01m{\u001b[39;00march_config\u001b[38;5;132;01m}\u001b[39;00m\u001b[38;5;124m kwargs=\u001b[39m\u001b[38;5;132;01m{\u001b[39;00mkwargs\u001b[38;5;132;01m}\u001b[39;00m\u001b[38;5;124m)\u001b[39m\u001b[38;5;124m'\u001b[39m, verbose)\n\u001b[0;32m--> 195\u001b[0m     model \u001b[38;5;241m=\u001b[39m (\u001b[43march\u001b[49m\u001b[43m(\u001b[49m\u001b[43mc_in\u001b[49m\u001b[38;5;241;43m=\u001b[39;49m\u001b[43mc_in\u001b[49m\u001b[43m,\u001b[49m\u001b[43m \u001b[49m\u001b[43mc_out\u001b[49m\u001b[38;5;241;43m=\u001b[39;49m\u001b[43mc_out\u001b[49m\u001b[43m,\u001b[49m\u001b[43m \u001b[49m\u001b[43mseq_len\u001b[49m\u001b[38;5;241;43m=\u001b[39;49m\u001b[43mseq_len\u001b[49m\u001b[43m,\u001b[49m\u001b[43m \u001b[49m\u001b[38;5;241;43m*\u001b[39;49m\u001b[38;5;241;43m*\u001b[39;49m\u001b[43march_config\u001b[49m\u001b[43m,\u001b[49m\u001b[43m \u001b[49m\u001b[38;5;241;43m*\u001b[39;49m\u001b[38;5;241;43m*\u001b[39;49m\u001b[43mkwargs\u001b[49m\u001b[43m)\u001b[49m)\u001b[38;5;241m.\u001b[39mto(device\u001b[38;5;241m=\u001b[39mdevice)\n\u001b[1;32m    196\u001b[0m \u001b[38;5;28;01melif\u001b[39;00m \u001b[38;5;124m'\u001b[39m\u001b[38;5;124mminirockethead\u001b[39m\u001b[38;5;124m'\u001b[39m \u001b[38;5;129;01min\u001b[39;00m arch\u001b[38;5;241m.\u001b[39m\u001b[38;5;18m__name__\u001b[39m\u001b[38;5;241m.\u001b[39mlower():\n\u001b[1;32m    197\u001b[0m     pv(\u001b[38;5;124mf\u001b[39m\u001b[38;5;124m'\u001b[39m\u001b[38;5;124march: \u001b[39m\u001b[38;5;132;01m{\u001b[39;00march\u001b[38;5;241m.\u001b[39m\u001b[38;5;18m__name__\u001b[39m\u001b[38;5;132;01m}\u001b[39;00m\u001b[38;5;124m(c_in=\u001b[39m\u001b[38;5;132;01m{\u001b[39;00mc_in\u001b[38;5;132;01m}\u001b[39;00m\u001b[38;5;124m seq_len=\u001b[39m\u001b[38;5;132;01m{\u001b[39;00mseq_len\u001b[38;5;132;01m}\u001b[39;00m\u001b[38;5;124m arch_config=\u001b[39m\u001b[38;5;132;01m{\u001b[39;00march_config\u001b[38;5;132;01m}\u001b[39;00m\u001b[38;5;124m kwargs=\u001b[39m\u001b[38;5;132;01m{\u001b[39;00mkwargs\u001b[38;5;132;01m}\u001b[39;00m\u001b[38;5;124m)\u001b[39m\u001b[38;5;124m'\u001b[39m, verbose)\n",
      "File \u001b[0;32m~/文档/tsai/tsai_torch200_py38/lib/python3.8/site-packages/tsai/models/XResNet1d.py:17\u001b[0m, in \u001b[0;36mxresnet1d34\u001b[0;34m(c_in, c_out, act, **kwargs)\u001b[0m\n\u001b[1;32m     16\u001b[0m \u001b[38;5;129m@delegates\u001b[39m(ResBlock)\n\u001b[0;32m---> 17\u001b[0m \u001b[38;5;28;01mdef\u001b[39;00m \u001b[38;5;21mxresnet1d34\u001b[39m (c_in, c_out, act\u001b[38;5;241m=\u001b[39mnn\u001b[38;5;241m.\u001b[39mReLU, \u001b[38;5;241m*\u001b[39m\u001b[38;5;241m*\u001b[39mkwargs): \u001b[38;5;28;01mreturn\u001b[39;00m xresnet34(c_in\u001b[38;5;241m=\u001b[39mc_in, n_out\u001b[38;5;241m=\u001b[39mc_out, act_cls\u001b[38;5;241m=\u001b[39mact, ndim\u001b[38;5;241m=\u001b[39m\u001b[38;5;241m1\u001b[39m, \u001b[38;5;241m*\u001b[39m\u001b[38;5;241m*\u001b[39mkwargs)\n",
      "File \u001b[0;32m~/文档/tsai/tsai_torch200_py38/lib/python3.8/site-packages/fastai/vision/models/xresnet.py:68\u001b[0m, in \u001b[0;36mxresnet34\u001b[0;34m(pretrained, **kwargs)\u001b[0m\n\u001b[0;32m---> 68\u001b[0m \u001b[38;5;28;01mdef\u001b[39;00m \u001b[38;5;21mxresnet34\u001b[39m (pretrained\u001b[38;5;241m=\u001b[39m\u001b[38;5;28;01mFalse\u001b[39;00m, \u001b[38;5;241m*\u001b[39m\u001b[38;5;241m*\u001b[39mkwargs): \u001b[38;5;28;01mreturn\u001b[39;00m \u001b[43m_xresnet\u001b[49m\u001b[43m(\u001b[49m\u001b[43mpretrained\u001b[49m\u001b[43m,\u001b[49m\u001b[43m \u001b[49m\u001b[38;5;241;43m1\u001b[39;49m\u001b[43m,\u001b[49m\u001b[43m \u001b[49m\u001b[43m[\u001b[49m\u001b[38;5;241;43m3\u001b[39;49m\u001b[43m,\u001b[49m\u001b[43m \u001b[49m\u001b[38;5;241;43m4\u001b[39;49m\u001b[43m,\u001b[49m\u001b[43m  \u001b[49m\u001b[38;5;241;43m6\u001b[39;49m\u001b[43m,\u001b[49m\u001b[43m \u001b[49m\u001b[38;5;241;43m3\u001b[39;49m\u001b[43m]\u001b[49m\u001b[43m,\u001b[49m\u001b[43m \u001b[49m\u001b[38;5;241;43m*\u001b[39;49m\u001b[38;5;241;43m*\u001b[39;49m\u001b[43mkwargs\u001b[49m\u001b[43m)\u001b[49m\n",
      "File \u001b[0;32m~/文档/tsai/tsai_torch200_py38/lib/python3.8/site-packages/fastai/vision/models/xresnet.py:63\u001b[0m, in \u001b[0;36m_xresnet\u001b[0;34m(pretrained, expansion, layers, **kwargs)\u001b[0m\n\u001b[1;32m     60\u001b[0m \u001b[38;5;28;01mdef\u001b[39;00m \u001b[38;5;21m_xresnet\u001b[39m(pretrained, expansion, layers, \u001b[38;5;241m*\u001b[39m\u001b[38;5;241m*\u001b[39mkwargs):\n\u001b[1;32m     61\u001b[0m     \u001b[38;5;66;03m# TODO pretrain all sizes. Currently will fail with non-xrn50\u001b[39;00m\n\u001b[1;32m     62\u001b[0m     url \u001b[38;5;241m=\u001b[39m \u001b[38;5;124m'\u001b[39m\u001b[38;5;124mhttps://s3.amazonaws.com/fast-ai-modelzoo/xrn50_940.pth\u001b[39m\u001b[38;5;124m'\u001b[39m\n\u001b[0;32m---> 63\u001b[0m     res \u001b[38;5;241m=\u001b[39m \u001b[43mXResNet\u001b[49m\u001b[43m(\u001b[49m\u001b[43mResBlock\u001b[49m\u001b[43m,\u001b[49m\u001b[43m \u001b[49m\u001b[43mexpansion\u001b[49m\u001b[43m,\u001b[49m\u001b[43m \u001b[49m\u001b[43mlayers\u001b[49m\u001b[43m,\u001b[49m\u001b[43m \u001b[49m\u001b[38;5;241;43m*\u001b[39;49m\u001b[38;5;241;43m*\u001b[39;49m\u001b[43mkwargs\u001b[49m\u001b[43m)\u001b[49m\n\u001b[1;32m     64\u001b[0m     \u001b[38;5;28;01mif\u001b[39;00m pretrained: res\u001b[38;5;241m.\u001b[39mload_state_dict(load_state_dict_from_url(url, map_location\u001b[38;5;241m=\u001b[39m\u001b[38;5;124m'\u001b[39m\u001b[38;5;124mcpu\u001b[39m\u001b[38;5;124m'\u001b[39m)[\u001b[38;5;124m'\u001b[39m\u001b[38;5;124mmodel\u001b[39m\u001b[38;5;124m'\u001b[39m], strict\u001b[38;5;241m=\u001b[39m\u001b[38;5;28;01mFalse\u001b[39;00m)\n\u001b[1;32m     65\u001b[0m     \u001b[38;5;28;01mreturn\u001b[39;00m res\n",
      "File \u001b[0;32m~/文档/tsai/tsai_torch200_py38/lib/python3.8/site-packages/fastai/vision/models/xresnet.py:38\u001b[0m, in \u001b[0;36mXResNet.__init__\u001b[0;34m(self, block, expansion, layers, p, c_in, n_out, stem_szs, widen, sa, act_cls, ndim, ks, stride, **kwargs)\u001b[0m\n\u001b[1;32m     36\u001b[0m block_szs \u001b[38;5;241m=\u001b[39m [\u001b[38;5;28mint\u001b[39m(o\u001b[38;5;241m*\u001b[39mwiden) \u001b[38;5;28;01mfor\u001b[39;00m o \u001b[38;5;129;01min\u001b[39;00m [\u001b[38;5;241m64\u001b[39m,\u001b[38;5;241m128\u001b[39m,\u001b[38;5;241m256\u001b[39m,\u001b[38;5;241m512\u001b[39m] \u001b[38;5;241m+\u001b[39m[\u001b[38;5;241m256\u001b[39m]\u001b[38;5;241m*\u001b[39m(\u001b[38;5;28mlen\u001b[39m(layers)\u001b[38;5;241m-\u001b[39m\u001b[38;5;241m4\u001b[39m)]\n\u001b[1;32m     37\u001b[0m block_szs \u001b[38;5;241m=\u001b[39m [\u001b[38;5;241m64\u001b[39m\u001b[38;5;241m/\u001b[39m\u001b[38;5;241m/\u001b[39mexpansion] \u001b[38;5;241m+\u001b[39m block_szs\n\u001b[0;32m---> 38\u001b[0m blocks    \u001b[38;5;241m=\u001b[39m \u001b[38;5;28;43mself\u001b[39;49m\u001b[38;5;241;43m.\u001b[39;49m\u001b[43m_make_blocks\u001b[49m\u001b[43m(\u001b[49m\u001b[43mlayers\u001b[49m\u001b[43m,\u001b[49m\u001b[43m \u001b[49m\u001b[43mblock_szs\u001b[49m\u001b[43m,\u001b[49m\u001b[43m \u001b[49m\u001b[43msa\u001b[49m\u001b[43m,\u001b[49m\u001b[43m \u001b[49m\u001b[43mstride\u001b[49m\u001b[43m,\u001b[49m\u001b[43m \u001b[49m\u001b[38;5;241;43m*\u001b[39;49m\u001b[38;5;241;43m*\u001b[39;49m\u001b[43mkwargs\u001b[49m\u001b[43m)\u001b[49m\n\u001b[1;32m     40\u001b[0m \u001b[38;5;28msuper\u001b[39m()\u001b[38;5;241m.\u001b[39m\u001b[38;5;21m__init__\u001b[39m(\n\u001b[1;32m     41\u001b[0m     \u001b[38;5;241m*\u001b[39mstem, MaxPool(ks\u001b[38;5;241m=\u001b[39mks, stride\u001b[38;5;241m=\u001b[39mstride, padding\u001b[38;5;241m=\u001b[39mks\u001b[38;5;241m/\u001b[39m\u001b[38;5;241m/\u001b[39m\u001b[38;5;241m2\u001b[39m, ndim\u001b[38;5;241m=\u001b[39mndim),\n\u001b[1;32m     42\u001b[0m     \u001b[38;5;241m*\u001b[39mblocks,\n\u001b[1;32m     43\u001b[0m     AdaptiveAvgPool(sz\u001b[38;5;241m=\u001b[39m\u001b[38;5;241m1\u001b[39m, ndim\u001b[38;5;241m=\u001b[39mndim), Flatten(), nn\u001b[38;5;241m.\u001b[39mDropout(p),\n\u001b[1;32m     44\u001b[0m     nn\u001b[38;5;241m.\u001b[39mLinear(block_szs[\u001b[38;5;241m-\u001b[39m\u001b[38;5;241m1\u001b[39m]\u001b[38;5;241m*\u001b[39mexpansion, n_out),\n\u001b[1;32m     45\u001b[0m )\n\u001b[1;32m     46\u001b[0m init_cnn(\u001b[38;5;28mself\u001b[39m)\n",
      "File \u001b[0;32m~/文档/tsai/tsai_torch200_py38/lib/python3.8/site-packages/fastai/vision/models/xresnet.py:49\u001b[0m, in \u001b[0;36mXResNet._make_blocks\u001b[0;34m(self, layers, block_szs, sa, stride, **kwargs)\u001b[0m\n\u001b[1;32m     48\u001b[0m \u001b[38;5;28;01mdef\u001b[39;00m \u001b[38;5;21m_make_blocks\u001b[39m(\u001b[38;5;28mself\u001b[39m, layers, block_szs, sa, stride, \u001b[38;5;241m*\u001b[39m\u001b[38;5;241m*\u001b[39mkwargs):\n\u001b[0;32m---> 49\u001b[0m     \u001b[38;5;28;01mreturn\u001b[39;00m [\u001b[38;5;28mself\u001b[39m\u001b[38;5;241m.\u001b[39m_make_layer(ni\u001b[38;5;241m=\u001b[39mblock_szs[i], nf\u001b[38;5;241m=\u001b[39mblock_szs[i\u001b[38;5;241m+\u001b[39m\u001b[38;5;241m1\u001b[39m], blocks\u001b[38;5;241m=\u001b[39ml,\n\u001b[1;32m     50\u001b[0m                              stride\u001b[38;5;241m=\u001b[39m\u001b[38;5;241m1\u001b[39m \u001b[38;5;28;01mif\u001b[39;00m i\u001b[38;5;241m==\u001b[39m\u001b[38;5;241m0\u001b[39m \u001b[38;5;28;01melse\u001b[39;00m stride, sa\u001b[38;5;241m=\u001b[39msa \u001b[38;5;129;01mand\u001b[39;00m i\u001b[38;5;241m==\u001b[39m\u001b[38;5;28mlen\u001b[39m(layers)\u001b[38;5;241m-\u001b[39m\u001b[38;5;241m4\u001b[39m, \u001b[38;5;241m*\u001b[39m\u001b[38;5;241m*\u001b[39mkwargs)\n\u001b[1;32m     51\u001b[0m             \u001b[38;5;28;01mfor\u001b[39;00m i,l \u001b[38;5;129;01min\u001b[39;00m \u001b[38;5;28menumerate\u001b[39m(layers)]\n",
      "File \u001b[0;32m~/文档/tsai/tsai_torch200_py38/lib/python3.8/site-packages/fastai/vision/models/xresnet.py:49\u001b[0m, in \u001b[0;36m<listcomp>\u001b[0;34m(.0)\u001b[0m\n\u001b[1;32m     48\u001b[0m \u001b[38;5;28;01mdef\u001b[39;00m \u001b[38;5;21m_make_blocks\u001b[39m(\u001b[38;5;28mself\u001b[39m, layers, block_szs, sa, stride, \u001b[38;5;241m*\u001b[39m\u001b[38;5;241m*\u001b[39mkwargs):\n\u001b[0;32m---> 49\u001b[0m     \u001b[38;5;28;01mreturn\u001b[39;00m [\u001b[38;5;28;43mself\u001b[39;49m\u001b[38;5;241;43m.\u001b[39;49m\u001b[43m_make_layer\u001b[49m\u001b[43m(\u001b[49m\u001b[43mni\u001b[49m\u001b[38;5;241;43m=\u001b[39;49m\u001b[43mblock_szs\u001b[49m\u001b[43m[\u001b[49m\u001b[43mi\u001b[49m\u001b[43m]\u001b[49m\u001b[43m,\u001b[49m\u001b[43m \u001b[49m\u001b[43mnf\u001b[49m\u001b[38;5;241;43m=\u001b[39;49m\u001b[43mblock_szs\u001b[49m\u001b[43m[\u001b[49m\u001b[43mi\u001b[49m\u001b[38;5;241;43m+\u001b[39;49m\u001b[38;5;241;43m1\u001b[39;49m\u001b[43m]\u001b[49m\u001b[43m,\u001b[49m\u001b[43m \u001b[49m\u001b[43mblocks\u001b[49m\u001b[38;5;241;43m=\u001b[39;49m\u001b[43ml\u001b[49m\u001b[43m,\u001b[49m\n\u001b[1;32m     50\u001b[0m \u001b[43m                             \u001b[49m\u001b[43mstride\u001b[49m\u001b[38;5;241;43m=\u001b[39;49m\u001b[38;5;241;43m1\u001b[39;49m\u001b[43m \u001b[49m\u001b[38;5;28;43;01mif\u001b[39;49;00m\u001b[43m \u001b[49m\u001b[43mi\u001b[49m\u001b[38;5;241;43m==\u001b[39;49m\u001b[38;5;241;43m0\u001b[39;49m\u001b[43m \u001b[49m\u001b[38;5;28;43;01melse\u001b[39;49;00m\u001b[43m \u001b[49m\u001b[43mstride\u001b[49m\u001b[43m,\u001b[49m\u001b[43m \u001b[49m\u001b[43msa\u001b[49m\u001b[38;5;241;43m=\u001b[39;49m\u001b[43msa\u001b[49m\u001b[43m \u001b[49m\u001b[38;5;129;43;01mand\u001b[39;49;00m\u001b[43m \u001b[49m\u001b[43mi\u001b[49m\u001b[38;5;241;43m==\u001b[39;49m\u001b[38;5;28;43mlen\u001b[39;49m\u001b[43m(\u001b[49m\u001b[43mlayers\u001b[49m\u001b[43m)\u001b[49m\u001b[38;5;241;43m-\u001b[39;49m\u001b[38;5;241;43m4\u001b[39;49m\u001b[43m,\u001b[49m\u001b[43m \u001b[49m\u001b[38;5;241;43m*\u001b[39;49m\u001b[38;5;241;43m*\u001b[39;49m\u001b[43mkwargs\u001b[49m\u001b[43m)\u001b[49m\n\u001b[1;32m     51\u001b[0m             \u001b[38;5;28;01mfor\u001b[39;00m i,l \u001b[38;5;129;01min\u001b[39;00m \u001b[38;5;28menumerate\u001b[39m(layers)]\n",
      "File \u001b[0;32m~/文档/tsai/tsai_torch200_py38/lib/python3.8/site-packages/fastai/vision/models/xresnet.py:55\u001b[0m, in \u001b[0;36mXResNet._make_layer\u001b[0;34m(self, ni, nf, blocks, stride, sa, **kwargs)\u001b[0m\n\u001b[1;32m     53\u001b[0m \u001b[38;5;28;01mdef\u001b[39;00m \u001b[38;5;21m_make_layer\u001b[39m(\u001b[38;5;28mself\u001b[39m, ni, nf, blocks, stride, sa, \u001b[38;5;241m*\u001b[39m\u001b[38;5;241m*\u001b[39mkwargs):\n\u001b[1;32m     54\u001b[0m     \u001b[38;5;28;01mreturn\u001b[39;00m nn\u001b[38;5;241m.\u001b[39mSequential(\n\u001b[0;32m---> 55\u001b[0m         \u001b[38;5;241m*\u001b[39m[\u001b[38;5;28mself\u001b[39m\u001b[38;5;241m.\u001b[39mblock(\u001b[38;5;28mself\u001b[39m\u001b[38;5;241m.\u001b[39mexpansion, ni \u001b[38;5;28;01mif\u001b[39;00m i\u001b[38;5;241m==\u001b[39m\u001b[38;5;241m0\u001b[39m \u001b[38;5;28;01melse\u001b[39;00m nf, nf, stride\u001b[38;5;241m=\u001b[39mstride \u001b[38;5;28;01mif\u001b[39;00m i\u001b[38;5;241m==\u001b[39m\u001b[38;5;241m0\u001b[39m \u001b[38;5;28;01melse\u001b[39;00m \u001b[38;5;241m1\u001b[39m,\n\u001b[1;32m     56\u001b[0m                   sa\u001b[38;5;241m=\u001b[39msa \u001b[38;5;129;01mand\u001b[39;00m i\u001b[38;5;241m==\u001b[39m(blocks\u001b[38;5;241m-\u001b[39m\u001b[38;5;241m1\u001b[39m), act_cls\u001b[38;5;241m=\u001b[39m\u001b[38;5;28mself\u001b[39m\u001b[38;5;241m.\u001b[39mact_cls, ndim\u001b[38;5;241m=\u001b[39m\u001b[38;5;28mself\u001b[39m\u001b[38;5;241m.\u001b[39mndim, ks\u001b[38;5;241m=\u001b[39m\u001b[38;5;28mself\u001b[39m\u001b[38;5;241m.\u001b[39mks, \u001b[38;5;241m*\u001b[39m\u001b[38;5;241m*\u001b[39mkwargs)\n\u001b[1;32m     57\u001b[0m           \u001b[38;5;28;01mfor\u001b[39;00m i \u001b[38;5;129;01min\u001b[39;00m \u001b[38;5;28mrange\u001b[39m(blocks)])\n",
      "File \u001b[0;32m~/文档/tsai/tsai_torch200_py38/lib/python3.8/site-packages/fastai/vision/models/xresnet.py:55\u001b[0m, in \u001b[0;36m<listcomp>\u001b[0;34m(.0)\u001b[0m\n\u001b[1;32m     53\u001b[0m \u001b[38;5;28;01mdef\u001b[39;00m \u001b[38;5;21m_make_layer\u001b[39m(\u001b[38;5;28mself\u001b[39m, ni, nf, blocks, stride, sa, \u001b[38;5;241m*\u001b[39m\u001b[38;5;241m*\u001b[39mkwargs):\n\u001b[1;32m     54\u001b[0m     \u001b[38;5;28;01mreturn\u001b[39;00m nn\u001b[38;5;241m.\u001b[39mSequential(\n\u001b[0;32m---> 55\u001b[0m         \u001b[38;5;241m*\u001b[39m[\u001b[38;5;28;43mself\u001b[39;49m\u001b[38;5;241;43m.\u001b[39;49m\u001b[43mblock\u001b[49m\u001b[43m(\u001b[49m\u001b[38;5;28;43mself\u001b[39;49m\u001b[38;5;241;43m.\u001b[39;49m\u001b[43mexpansion\u001b[49m\u001b[43m,\u001b[49m\u001b[43m \u001b[49m\u001b[43mni\u001b[49m\u001b[43m \u001b[49m\u001b[38;5;28;43;01mif\u001b[39;49;00m\u001b[43m \u001b[49m\u001b[43mi\u001b[49m\u001b[38;5;241;43m==\u001b[39;49m\u001b[38;5;241;43m0\u001b[39;49m\u001b[43m \u001b[49m\u001b[38;5;28;43;01melse\u001b[39;49;00m\u001b[43m \u001b[49m\u001b[43mnf\u001b[49m\u001b[43m,\u001b[49m\u001b[43m \u001b[49m\u001b[43mnf\u001b[49m\u001b[43m,\u001b[49m\u001b[43m \u001b[49m\u001b[43mstride\u001b[49m\u001b[38;5;241;43m=\u001b[39;49m\u001b[43mstride\u001b[49m\u001b[43m \u001b[49m\u001b[38;5;28;43;01mif\u001b[39;49;00m\u001b[43m \u001b[49m\u001b[43mi\u001b[49m\u001b[38;5;241;43m==\u001b[39;49m\u001b[38;5;241;43m0\u001b[39;49m\u001b[43m \u001b[49m\u001b[38;5;28;43;01melse\u001b[39;49;00m\u001b[43m \u001b[49m\u001b[38;5;241;43m1\u001b[39;49m\u001b[43m,\u001b[49m\n\u001b[1;32m     56\u001b[0m \u001b[43m                  \u001b[49m\u001b[43msa\u001b[49m\u001b[38;5;241;43m=\u001b[39;49m\u001b[43msa\u001b[49m\u001b[43m \u001b[49m\u001b[38;5;129;43;01mand\u001b[39;49;00m\u001b[43m \u001b[49m\u001b[43mi\u001b[49m\u001b[38;5;241;43m==\u001b[39;49m\u001b[43m(\u001b[49m\u001b[43mblocks\u001b[49m\u001b[38;5;241;43m-\u001b[39;49m\u001b[38;5;241;43m1\u001b[39;49m\u001b[43m)\u001b[49m\u001b[43m,\u001b[49m\u001b[43m \u001b[49m\u001b[43mact_cls\u001b[49m\u001b[38;5;241;43m=\u001b[39;49m\u001b[38;5;28;43mself\u001b[39;49m\u001b[38;5;241;43m.\u001b[39;49m\u001b[43mact_cls\u001b[49m\u001b[43m,\u001b[49m\u001b[43m \u001b[49m\u001b[43mndim\u001b[49m\u001b[38;5;241;43m=\u001b[39;49m\u001b[38;5;28;43mself\u001b[39;49m\u001b[38;5;241;43m.\u001b[39;49m\u001b[43mndim\u001b[49m\u001b[43m,\u001b[49m\u001b[43m \u001b[49m\u001b[43mks\u001b[49m\u001b[38;5;241;43m=\u001b[39;49m\u001b[38;5;28;43mself\u001b[39;49m\u001b[38;5;241;43m.\u001b[39;49m\u001b[43mks\u001b[49m\u001b[43m,\u001b[49m\u001b[43m \u001b[49m\u001b[38;5;241;43m*\u001b[39;49m\u001b[38;5;241;43m*\u001b[39;49m\u001b[43mkwargs\u001b[49m\u001b[43m)\u001b[49m\n\u001b[1;32m     57\u001b[0m           \u001b[38;5;28;01mfor\u001b[39;00m i \u001b[38;5;129;01min\u001b[39;00m \u001b[38;5;28mrange\u001b[39m(blocks)])\n",
      "File \u001b[0;32m~/文档/tsai/tsai_torch200_py38/lib/python3.8/site-packages/fastcore/meta.py:40\u001b[0m, in \u001b[0;36mPrePostInitMeta.__call__\u001b[0;34m(cls, *args, **kwargs)\u001b[0m\n\u001b[1;32m     38\u001b[0m \u001b[38;5;28;01mif\u001b[39;00m \u001b[38;5;28mtype\u001b[39m(res)\u001b[38;5;241m==\u001b[39m\u001b[38;5;28mcls\u001b[39m:\n\u001b[1;32m     39\u001b[0m     \u001b[38;5;28;01mif\u001b[39;00m \u001b[38;5;28mhasattr\u001b[39m(res,\u001b[38;5;124m'\u001b[39m\u001b[38;5;124m__pre_init__\u001b[39m\u001b[38;5;124m'\u001b[39m): res\u001b[38;5;241m.\u001b[39m__pre_init__(\u001b[38;5;241m*\u001b[39margs,\u001b[38;5;241m*\u001b[39m\u001b[38;5;241m*\u001b[39mkwargs)\n\u001b[0;32m---> 40\u001b[0m     \u001b[43mres\u001b[49m\u001b[38;5;241;43m.\u001b[39;49m\u001b[38;5;21;43m__init__\u001b[39;49m\u001b[43m(\u001b[49m\u001b[38;5;241;43m*\u001b[39;49m\u001b[43margs\u001b[49m\u001b[43m,\u001b[49m\u001b[38;5;241;43m*\u001b[39;49m\u001b[38;5;241;43m*\u001b[39;49m\u001b[43mkwargs\u001b[49m\u001b[43m)\u001b[49m\n\u001b[1;32m     41\u001b[0m     \u001b[38;5;28;01mif\u001b[39;00m \u001b[38;5;28mhasattr\u001b[39m(res,\u001b[38;5;124m'\u001b[39m\u001b[38;5;124m__post_init__\u001b[39m\u001b[38;5;124m'\u001b[39m): res\u001b[38;5;241m.\u001b[39m__post_init__(\u001b[38;5;241m*\u001b[39margs,\u001b[38;5;241m*\u001b[39m\u001b[38;5;241m*\u001b[39mkwargs)\n\u001b[1;32m     42\u001b[0m \u001b[38;5;28;01mreturn\u001b[39;00m res\n",
      "File \u001b[0;32m~/文档/tsai/tsai_torch200_py38/lib/python3.8/site-packages/fastai/layers.py:476\u001b[0m, in \u001b[0;36mResBlock.__init__\u001b[0;34m(self, expansion, ni, nf, stride, groups, reduction, nh1, nh2, dw, g2, sa, sym, norm_type, act_cls, ndim, ks, pool, pool_first, **kwargs)\u001b[0m\n\u001b[1;32m    474\u001b[0m k0 \u001b[38;5;241m=\u001b[39m \u001b[38;5;28mdict\u001b[39m(norm_type\u001b[38;5;241m=\u001b[39mnorm_type, act_cls\u001b[38;5;241m=\u001b[39mact_cls, ndim\u001b[38;5;241m=\u001b[39mndim, \u001b[38;5;241m*\u001b[39m\u001b[38;5;241m*\u001b[39mkwargs)\n\u001b[1;32m    475\u001b[0m k1 \u001b[38;5;241m=\u001b[39m \u001b[38;5;28mdict\u001b[39m(norm_type\u001b[38;5;241m=\u001b[39mnorm2, act_cls\u001b[38;5;241m=\u001b[39m\u001b[38;5;28;01mNone\u001b[39;00m, ndim\u001b[38;5;241m=\u001b[39mndim, \u001b[38;5;241m*\u001b[39m\u001b[38;5;241m*\u001b[39mkwargs)\n\u001b[0;32m--> 476\u001b[0m convpath  \u001b[38;5;241m=\u001b[39m [\u001b[43mConvLayer\u001b[49m\u001b[43m(\u001b[49m\u001b[43mni\u001b[49m\u001b[43m,\u001b[49m\u001b[43m  \u001b[49m\u001b[43mnh2\u001b[49m\u001b[43m,\u001b[49m\u001b[43m \u001b[49m\u001b[43mks\u001b[49m\u001b[43m,\u001b[49m\u001b[43m \u001b[49m\u001b[43mstride\u001b[49m\u001b[38;5;241;43m=\u001b[39;49m\u001b[43mstride\u001b[49m\u001b[43m,\u001b[49m\u001b[43m \u001b[49m\u001b[43mgroups\u001b[49m\u001b[38;5;241;43m=\u001b[39;49m\u001b[43mni\u001b[49m\u001b[43m \u001b[49m\u001b[38;5;28;43;01mif\u001b[39;49;00m\u001b[43m \u001b[49m\u001b[43mdw\u001b[49m\u001b[43m \u001b[49m\u001b[38;5;28;43;01melse\u001b[39;49;00m\u001b[43m \u001b[49m\u001b[43mgroups\u001b[49m\u001b[43m,\u001b[49m\u001b[43m \u001b[49m\u001b[38;5;241;43m*\u001b[39;49m\u001b[38;5;241;43m*\u001b[39;49m\u001b[43mk0\u001b[49m\u001b[43m)\u001b[49m,\n\u001b[1;32m    477\u001b[0m              ConvLayer(nh2,  nf, ks, groups\u001b[38;5;241m=\u001b[39mg2, \u001b[38;5;241m*\u001b[39m\u001b[38;5;241m*\u001b[39mk1)\n\u001b[1;32m    478\u001b[0m ] \u001b[38;5;28;01mif\u001b[39;00m expansion \u001b[38;5;241m==\u001b[39m \u001b[38;5;241m1\u001b[39m \u001b[38;5;28;01melse\u001b[39;00m [\n\u001b[1;32m    479\u001b[0m              ConvLayer(ni,  nh1, \u001b[38;5;241m1\u001b[39m, \u001b[38;5;241m*\u001b[39m\u001b[38;5;241m*\u001b[39mk0),\n\u001b[1;32m    480\u001b[0m              ConvLayer(nh1, nh2, ks, stride\u001b[38;5;241m=\u001b[39mstride, groups\u001b[38;5;241m=\u001b[39mnh1 \u001b[38;5;28;01mif\u001b[39;00m dw \u001b[38;5;28;01melse\u001b[39;00m groups, \u001b[38;5;241m*\u001b[39m\u001b[38;5;241m*\u001b[39mk0),\n\u001b[1;32m    481\u001b[0m              ConvLayer(nh2,  nf, \u001b[38;5;241m1\u001b[39m, groups\u001b[38;5;241m=\u001b[39mg2, \u001b[38;5;241m*\u001b[39m\u001b[38;5;241m*\u001b[39mk1)]\n\u001b[1;32m    482\u001b[0m \u001b[38;5;28;01mif\u001b[39;00m reduction: convpath\u001b[38;5;241m.\u001b[39mappend(SEModule(nf, reduction\u001b[38;5;241m=\u001b[39mreduction, act_cls\u001b[38;5;241m=\u001b[39mact_cls))\n\u001b[1;32m    483\u001b[0m \u001b[38;5;28;01mif\u001b[39;00m sa: convpath\u001b[38;5;241m.\u001b[39mappend(SimpleSelfAttention(nf,ks\u001b[38;5;241m=\u001b[39m\u001b[38;5;241m1\u001b[39m,sym\u001b[38;5;241m=\u001b[39msym))\n",
      "File \u001b[0;32m~/文档/tsai/tsai_torch200_py38/lib/python3.8/site-packages/fastai/layers.py:249\u001b[0m, in \u001b[0;36mConvLayer.__init__\u001b[0;34m(self, ni, nf, ks, stride, padding, bias, ndim, norm_type, bn_1st, act_cls, transpose, init, xtra, bias_std, **kwargs)\u001b[0m\n\u001b[1;32m    247\u001b[0m \u001b[38;5;28;01mif\u001b[39;00m bias \u001b[38;5;129;01mis\u001b[39;00m \u001b[38;5;28;01mNone\u001b[39;00m: bias \u001b[38;5;241m=\u001b[39m \u001b[38;5;129;01mnot\u001b[39;00m (bn \u001b[38;5;129;01mor\u001b[39;00m inn)\n\u001b[1;32m    248\u001b[0m conv_func \u001b[38;5;241m=\u001b[39m _conv_func(ndim, transpose\u001b[38;5;241m=\u001b[39mtranspose)\n\u001b[0;32m--> 249\u001b[0m conv \u001b[38;5;241m=\u001b[39m \u001b[43mconv_func\u001b[49m\u001b[43m(\u001b[49m\u001b[43mni\u001b[49m\u001b[43m,\u001b[49m\u001b[43m \u001b[49m\u001b[43mnf\u001b[49m\u001b[43m,\u001b[49m\u001b[43m \u001b[49m\u001b[43mkernel_size\u001b[49m\u001b[38;5;241;43m=\u001b[39;49m\u001b[43mks\u001b[49m\u001b[43m,\u001b[49m\u001b[43m \u001b[49m\u001b[43mbias\u001b[49m\u001b[38;5;241;43m=\u001b[39;49m\u001b[43mbias\u001b[49m\u001b[43m,\u001b[49m\u001b[43m \u001b[49m\u001b[43mstride\u001b[49m\u001b[38;5;241;43m=\u001b[39;49m\u001b[43mstride\u001b[49m\u001b[43m,\u001b[49m\u001b[43m \u001b[49m\u001b[43mpadding\u001b[49m\u001b[38;5;241;43m=\u001b[39;49m\u001b[43mpadding\u001b[49m\u001b[43m,\u001b[49m\u001b[43m \u001b[49m\u001b[38;5;241;43m*\u001b[39;49m\u001b[38;5;241;43m*\u001b[39;49m\u001b[43mkwargs\u001b[49m\u001b[43m)\u001b[49m\n\u001b[1;32m    250\u001b[0m act \u001b[38;5;241m=\u001b[39m \u001b[38;5;28;01mNone\u001b[39;00m \u001b[38;5;28;01mif\u001b[39;00m act_cls \u001b[38;5;129;01mis\u001b[39;00m \u001b[38;5;28;01mNone\u001b[39;00m \u001b[38;5;28;01melse\u001b[39;00m act_cls()\n\u001b[1;32m    251\u001b[0m init_linear(conv, act, init\u001b[38;5;241m=\u001b[39minit, bias_std\u001b[38;5;241m=\u001b[39mbias_std)\n",
      "\u001b[0;31mTypeError\u001b[0m: __init__() got an unexpected keyword argument 'seq_len'"
     ]
    }
   ],
   "source": [
    "dsid = 'NATOPS' \n",
    "bs = 64\n",
    "X, y, splits = get_UCR_data(dsid, return_split=False)\n",
    "print(X.shape)\n",
    "tfms  = [None, [Categorize()]]\n",
    "dsets = TSDatasets(X, y, tfms=tfms, splits=splits)\n",
    "dls   = TSDataLoaders.from_dsets(dsets.train, dsets.valid, bs=[bs, bs*2])\n",
    "\n",
    "archs = [(FCN, {}), (ResNet, {}), (xresnet1d34, {}), (ResCNN, {}), \n",
    "         (LSTM, {'n_layers':1, 'bidirectional': False}), (LSTM, {'n_layers':2, 'bidirectional': False}), (LSTM, {'n_layers':3, 'bidirectional': False}), \n",
    "         (LSTM, {'n_layers':1, 'bidirectional': True}), (LSTM, {'n_layers':2, 'bidirectional': True}), (LSTM, {'n_layers':3, 'bidirectional': True}),\n",
    "         (LSTM_FCN, {}), (LSTM_FCN, {'shuffle': False}), (InceptionTime, {}), (XceptionTime, {}), (OmniScaleCNN, {}), (mWDN, {'levels': 4})]\n",
    "\n",
    "results = pd.DataFrame(columns=['arch', 'hyperparams', 'total params', 'train loss', 'valid loss', 'accuracy', 'time'])\n",
    "for i, (arch, k) in enumerate(archs):\n",
    "    model = create_model(arch, dls=dls, **k)\n",
    "    print(model.__class__.__name__)\n",
    "    learn = Learner(dls, model,  metrics=accuracy)\n",
    "    start = time.time()\n",
    "    learn.fit_one_cycle(100, 1e-3)\n",
    "    elapsed = time.time() - start\n",
    "    vals = learn.recorder.values[-1]\n",
    "    results.loc[i] = [arch.__name__, k, count_parameters(model), vals[0], vals[1], vals[2], int(elapsed)]\n",
    "    results.sort_values(by='accuracy', ascending=False, kind='stable', ignore_index=True, inplace=True)\n",
    "    clear_output()\n",
    "    display(results)"
   ]
  },
  {
   "cell_type": "code",
   "execution_count": 4,
   "metadata": {},
   "outputs": [
    {
     "data": {
      "text/html": [
       "<div>\n",
       "<style scoped>\n",
       "    .dataframe tbody tr th:only-of-type {\n",
       "        vertical-align: middle;\n",
       "    }\n",
       "\n",
       "    .dataframe tbody tr th {\n",
       "        vertical-align: top;\n",
       "    }\n",
       "\n",
       "    .dataframe thead th {\n",
       "        text-align: right;\n",
       "    }\n",
       "</style>\n",
       "<table border=\"1\" class=\"dataframe\">\n",
       "  <thead>\n",
       "    <tr style=\"text-align: right;\">\n",
       "      <th></th>\n",
       "      <th>arch</th>\n",
       "      <th>hyperparams</th>\n",
       "      <th>total params</th>\n",
       "      <th>train loss</th>\n",
       "      <th>valid loss</th>\n",
       "      <th>accuracy</th>\n",
       "      <th>time</th>\n",
       "    </tr>\n",
       "  </thead>\n",
       "  <tbody>\n",
       "    <tr>\n",
       "      <th>0</th>\n",
       "      <td>FCN</td>\n",
       "      <td>{}</td>\n",
       "      <td>270350</td>\n",
       "      <td>0.837919</td>\n",
       "      <td>1.353478</td>\n",
       "      <td>0.610706</td>\n",
       "      <td>28</td>\n",
       "    </tr>\n",
       "    <tr>\n",
       "      <th>1</th>\n",
       "      <td>ResNet</td>\n",
       "      <td>{}</td>\n",
       "      <td>482574</td>\n",
       "      <td>0.029235</td>\n",
       "      <td>2.298482</td>\n",
       "      <td>0.595296</td>\n",
       "      <td>50</td>\n",
       "    </tr>\n",
       "  </tbody>\n",
       "</table>\n",
       "</div>"
      ],
      "text/plain": [
       "     arch hyperparams  total params  train loss  valid loss  accuracy  time\n",
       "0     FCN          {}        270350    0.837919    1.353478  0.610706    28\n",
       "1  ResNet          {}        482574    0.029235    2.298482  0.595296    50"
      ]
     },
     "metadata": {},
     "output_type": "display_data"
    },
    {
     "ename": "TypeError",
     "evalue": "__init__() got an unexpected keyword argument 'seq_len'",
     "output_type": "error",
     "traceback": [
      "\u001b[0;31m---------------------------------------------------------------------------\u001b[0m",
      "\u001b[0;31mTypeError\u001b[0m                                 Traceback (most recent call last)",
      "Cell \u001b[0;32mIn[4], line 16\u001b[0m\n\u001b[1;32m     14\u001b[0m results \u001b[38;5;241m=\u001b[39m pd\u001b[38;5;241m.\u001b[39mDataFrame(columns\u001b[38;5;241m=\u001b[39m[\u001b[38;5;124m'\u001b[39m\u001b[38;5;124march\u001b[39m\u001b[38;5;124m'\u001b[39m, \u001b[38;5;124m'\u001b[39m\u001b[38;5;124mhyperparams\u001b[39m\u001b[38;5;124m'\u001b[39m, \u001b[38;5;124m'\u001b[39m\u001b[38;5;124mtotal params\u001b[39m\u001b[38;5;124m'\u001b[39m, \u001b[38;5;124m'\u001b[39m\u001b[38;5;124mtrain loss\u001b[39m\u001b[38;5;124m'\u001b[39m, \u001b[38;5;124m'\u001b[39m\u001b[38;5;124mvalid loss\u001b[39m\u001b[38;5;124m'\u001b[39m, \u001b[38;5;124m'\u001b[39m\u001b[38;5;124maccuracy\u001b[39m\u001b[38;5;124m'\u001b[39m, \u001b[38;5;124m'\u001b[39m\u001b[38;5;124mtime\u001b[39m\u001b[38;5;124m'\u001b[39m])\n\u001b[1;32m     15\u001b[0m \u001b[38;5;28;01mfor\u001b[39;00m i, (arch, k) \u001b[38;5;129;01min\u001b[39;00m \u001b[38;5;28menumerate\u001b[39m(archs):\n\u001b[0;32m---> 16\u001b[0m     model \u001b[38;5;241m=\u001b[39m \u001b[43mcreate_model\u001b[49m\u001b[43m(\u001b[49m\u001b[43march\u001b[49m\u001b[43m,\u001b[49m\u001b[43m \u001b[49m\u001b[43mdls\u001b[49m\u001b[38;5;241;43m=\u001b[39;49m\u001b[43mdls\u001b[49m\u001b[43m,\u001b[49m\u001b[43m \u001b[49m\u001b[38;5;241;43m*\u001b[39;49m\u001b[38;5;241;43m*\u001b[39;49m\u001b[43mk\u001b[49m\u001b[43m)\u001b[49m\n\u001b[1;32m     17\u001b[0m     \u001b[38;5;28mprint\u001b[39m(model\u001b[38;5;241m.\u001b[39m\u001b[38;5;18m__class__\u001b[39m\u001b[38;5;241m.\u001b[39m\u001b[38;5;18m__name__\u001b[39m)\n\u001b[1;32m     18\u001b[0m     learn \u001b[38;5;241m=\u001b[39m Learner(dls, model,  metrics\u001b[38;5;241m=\u001b[39maccuracy)\n",
      "File \u001b[0;32m~/文档/tsai/tsai_torch200_py38/lib/python3.8/site-packages/tsai/models/utils.py:195\u001b[0m, in \u001b[0;36mbuild_ts_model\u001b[0;34m(arch, c_in, c_out, seq_len, d, dls, device, verbose, s_cat_idxs, s_cat_embeddings, s_cat_embedding_dims, s_cont_idxs, o_cat_idxs, o_cat_embeddings, o_cat_embedding_dims, o_cont_idxs, patch_len, patch_stride, fusion_layers, fusion_act, fusion_dropout, fusion_use_bn, pretrained, weights_path, exclude_head, cut, init, arch_config, **kwargs)\u001b[0m\n\u001b[1;32m    193\u001b[0m \u001b[38;5;28;01melif\u001b[39;00m \u001b[38;5;124m'\u001b[39m\u001b[38;5;124mxresnet1d\u001b[39m\u001b[38;5;124m'\u001b[39m \u001b[38;5;129;01min\u001b[39;00m arch\u001b[38;5;241m.\u001b[39m\u001b[38;5;18m__name__\u001b[39m\u001b[38;5;241m.\u001b[39mlower():\n\u001b[1;32m    194\u001b[0m     pv(\u001b[38;5;124mf\u001b[39m\u001b[38;5;124m'\u001b[39m\u001b[38;5;124march: \u001b[39m\u001b[38;5;132;01m{\u001b[39;00march\u001b[38;5;241m.\u001b[39m\u001b[38;5;18m__name__\u001b[39m\u001b[38;5;132;01m}\u001b[39;00m\u001b[38;5;124m(c_in=\u001b[39m\u001b[38;5;132;01m{\u001b[39;00mc_in\u001b[38;5;132;01m}\u001b[39;00m\u001b[38;5;124m c_out=\u001b[39m\u001b[38;5;132;01m{\u001b[39;00mc_out\u001b[38;5;132;01m}\u001b[39;00m\u001b[38;5;124m seq_len=\u001b[39m\u001b[38;5;132;01m{\u001b[39;00mseq_len\u001b[38;5;132;01m}\u001b[39;00m\u001b[38;5;124m arch_config=\u001b[39m\u001b[38;5;132;01m{\u001b[39;00march_config\u001b[38;5;132;01m}\u001b[39;00m\u001b[38;5;124m kwargs=\u001b[39m\u001b[38;5;132;01m{\u001b[39;00mkwargs\u001b[38;5;132;01m}\u001b[39;00m\u001b[38;5;124m)\u001b[39m\u001b[38;5;124m'\u001b[39m, verbose)\n\u001b[0;32m--> 195\u001b[0m     model \u001b[38;5;241m=\u001b[39m (\u001b[43march\u001b[49m\u001b[43m(\u001b[49m\u001b[43mc_in\u001b[49m\u001b[38;5;241;43m=\u001b[39;49m\u001b[43mc_in\u001b[49m\u001b[43m,\u001b[49m\u001b[43m \u001b[49m\u001b[43mc_out\u001b[49m\u001b[38;5;241;43m=\u001b[39;49m\u001b[43mc_out\u001b[49m\u001b[43m,\u001b[49m\u001b[43m \u001b[49m\u001b[43mseq_len\u001b[49m\u001b[38;5;241;43m=\u001b[39;49m\u001b[43mseq_len\u001b[49m\u001b[43m,\u001b[49m\u001b[43m \u001b[49m\u001b[38;5;241;43m*\u001b[39;49m\u001b[38;5;241;43m*\u001b[39;49m\u001b[43march_config\u001b[49m\u001b[43m,\u001b[49m\u001b[43m \u001b[49m\u001b[38;5;241;43m*\u001b[39;49m\u001b[38;5;241;43m*\u001b[39;49m\u001b[43mkwargs\u001b[49m\u001b[43m)\u001b[49m)\u001b[38;5;241m.\u001b[39mto(device\u001b[38;5;241m=\u001b[39mdevice)\n\u001b[1;32m    196\u001b[0m \u001b[38;5;28;01melif\u001b[39;00m \u001b[38;5;124m'\u001b[39m\u001b[38;5;124mminirockethead\u001b[39m\u001b[38;5;124m'\u001b[39m \u001b[38;5;129;01min\u001b[39;00m arch\u001b[38;5;241m.\u001b[39m\u001b[38;5;18m__name__\u001b[39m\u001b[38;5;241m.\u001b[39mlower():\n\u001b[1;32m    197\u001b[0m     pv(\u001b[38;5;124mf\u001b[39m\u001b[38;5;124m'\u001b[39m\u001b[38;5;124march: \u001b[39m\u001b[38;5;132;01m{\u001b[39;00march\u001b[38;5;241m.\u001b[39m\u001b[38;5;18m__name__\u001b[39m\u001b[38;5;132;01m}\u001b[39;00m\u001b[38;5;124m(c_in=\u001b[39m\u001b[38;5;132;01m{\u001b[39;00mc_in\u001b[38;5;132;01m}\u001b[39;00m\u001b[38;5;124m seq_len=\u001b[39m\u001b[38;5;132;01m{\u001b[39;00mseq_len\u001b[38;5;132;01m}\u001b[39;00m\u001b[38;5;124m arch_config=\u001b[39m\u001b[38;5;132;01m{\u001b[39;00march_config\u001b[38;5;132;01m}\u001b[39;00m\u001b[38;5;124m kwargs=\u001b[39m\u001b[38;5;132;01m{\u001b[39;00mkwargs\u001b[38;5;132;01m}\u001b[39;00m\u001b[38;5;124m)\u001b[39m\u001b[38;5;124m'\u001b[39m, verbose)\n",
      "File \u001b[0;32m~/文档/tsai/tsai_torch200_py38/lib/python3.8/site-packages/tsai/models/XResNet1d.py:17\u001b[0m, in \u001b[0;36mxresnet1d34\u001b[0;34m(c_in, c_out, act, **kwargs)\u001b[0m\n\u001b[1;32m     16\u001b[0m \u001b[38;5;129m@delegates\u001b[39m(ResBlock)\n\u001b[0;32m---> 17\u001b[0m \u001b[38;5;28;01mdef\u001b[39;00m \u001b[38;5;21mxresnet1d34\u001b[39m (c_in, c_out, act\u001b[38;5;241m=\u001b[39mnn\u001b[38;5;241m.\u001b[39mReLU, \u001b[38;5;241m*\u001b[39m\u001b[38;5;241m*\u001b[39mkwargs): \u001b[38;5;28;01mreturn\u001b[39;00m xresnet34(c_in\u001b[38;5;241m=\u001b[39mc_in, n_out\u001b[38;5;241m=\u001b[39mc_out, act_cls\u001b[38;5;241m=\u001b[39mact, ndim\u001b[38;5;241m=\u001b[39m\u001b[38;5;241m1\u001b[39m, \u001b[38;5;241m*\u001b[39m\u001b[38;5;241m*\u001b[39mkwargs)\n",
      "File \u001b[0;32m~/文档/tsai/tsai_torch200_py38/lib/python3.8/site-packages/fastai/vision/models/xresnet.py:68\u001b[0m, in \u001b[0;36mxresnet34\u001b[0;34m(pretrained, **kwargs)\u001b[0m\n\u001b[0;32m---> 68\u001b[0m \u001b[38;5;28;01mdef\u001b[39;00m \u001b[38;5;21mxresnet34\u001b[39m (pretrained\u001b[38;5;241m=\u001b[39m\u001b[38;5;28;01mFalse\u001b[39;00m, \u001b[38;5;241m*\u001b[39m\u001b[38;5;241m*\u001b[39mkwargs): \u001b[38;5;28;01mreturn\u001b[39;00m \u001b[43m_xresnet\u001b[49m\u001b[43m(\u001b[49m\u001b[43mpretrained\u001b[49m\u001b[43m,\u001b[49m\u001b[43m \u001b[49m\u001b[38;5;241;43m1\u001b[39;49m\u001b[43m,\u001b[49m\u001b[43m \u001b[49m\u001b[43m[\u001b[49m\u001b[38;5;241;43m3\u001b[39;49m\u001b[43m,\u001b[49m\u001b[43m \u001b[49m\u001b[38;5;241;43m4\u001b[39;49m\u001b[43m,\u001b[49m\u001b[43m  \u001b[49m\u001b[38;5;241;43m6\u001b[39;49m\u001b[43m,\u001b[49m\u001b[43m \u001b[49m\u001b[38;5;241;43m3\u001b[39;49m\u001b[43m]\u001b[49m\u001b[43m,\u001b[49m\u001b[43m \u001b[49m\u001b[38;5;241;43m*\u001b[39;49m\u001b[38;5;241;43m*\u001b[39;49m\u001b[43mkwargs\u001b[49m\u001b[43m)\u001b[49m\n",
      "File \u001b[0;32m~/文档/tsai/tsai_torch200_py38/lib/python3.8/site-packages/fastai/vision/models/xresnet.py:63\u001b[0m, in \u001b[0;36m_xresnet\u001b[0;34m(pretrained, expansion, layers, **kwargs)\u001b[0m\n\u001b[1;32m     60\u001b[0m \u001b[38;5;28;01mdef\u001b[39;00m \u001b[38;5;21m_xresnet\u001b[39m(pretrained, expansion, layers, \u001b[38;5;241m*\u001b[39m\u001b[38;5;241m*\u001b[39mkwargs):\n\u001b[1;32m     61\u001b[0m     \u001b[38;5;66;03m# TODO pretrain all sizes. Currently will fail with non-xrn50\u001b[39;00m\n\u001b[1;32m     62\u001b[0m     url \u001b[38;5;241m=\u001b[39m \u001b[38;5;124m'\u001b[39m\u001b[38;5;124mhttps://s3.amazonaws.com/fast-ai-modelzoo/xrn50_940.pth\u001b[39m\u001b[38;5;124m'\u001b[39m\n\u001b[0;32m---> 63\u001b[0m     res \u001b[38;5;241m=\u001b[39m \u001b[43mXResNet\u001b[49m\u001b[43m(\u001b[49m\u001b[43mResBlock\u001b[49m\u001b[43m,\u001b[49m\u001b[43m \u001b[49m\u001b[43mexpansion\u001b[49m\u001b[43m,\u001b[49m\u001b[43m \u001b[49m\u001b[43mlayers\u001b[49m\u001b[43m,\u001b[49m\u001b[43m \u001b[49m\u001b[38;5;241;43m*\u001b[39;49m\u001b[38;5;241;43m*\u001b[39;49m\u001b[43mkwargs\u001b[49m\u001b[43m)\u001b[49m\n\u001b[1;32m     64\u001b[0m     \u001b[38;5;28;01mif\u001b[39;00m pretrained: res\u001b[38;5;241m.\u001b[39mload_state_dict(load_state_dict_from_url(url, map_location\u001b[38;5;241m=\u001b[39m\u001b[38;5;124m'\u001b[39m\u001b[38;5;124mcpu\u001b[39m\u001b[38;5;124m'\u001b[39m)[\u001b[38;5;124m'\u001b[39m\u001b[38;5;124mmodel\u001b[39m\u001b[38;5;124m'\u001b[39m], strict\u001b[38;5;241m=\u001b[39m\u001b[38;5;28;01mFalse\u001b[39;00m)\n\u001b[1;32m     65\u001b[0m     \u001b[38;5;28;01mreturn\u001b[39;00m res\n",
      "File \u001b[0;32m~/文档/tsai/tsai_torch200_py38/lib/python3.8/site-packages/fastai/vision/models/xresnet.py:38\u001b[0m, in \u001b[0;36mXResNet.__init__\u001b[0;34m(self, block, expansion, layers, p, c_in, n_out, stem_szs, widen, sa, act_cls, ndim, ks, stride, **kwargs)\u001b[0m\n\u001b[1;32m     36\u001b[0m block_szs \u001b[38;5;241m=\u001b[39m [\u001b[38;5;28mint\u001b[39m(o\u001b[38;5;241m*\u001b[39mwiden) \u001b[38;5;28;01mfor\u001b[39;00m o \u001b[38;5;129;01min\u001b[39;00m [\u001b[38;5;241m64\u001b[39m,\u001b[38;5;241m128\u001b[39m,\u001b[38;5;241m256\u001b[39m,\u001b[38;5;241m512\u001b[39m] \u001b[38;5;241m+\u001b[39m[\u001b[38;5;241m256\u001b[39m]\u001b[38;5;241m*\u001b[39m(\u001b[38;5;28mlen\u001b[39m(layers)\u001b[38;5;241m-\u001b[39m\u001b[38;5;241m4\u001b[39m)]\n\u001b[1;32m     37\u001b[0m block_szs \u001b[38;5;241m=\u001b[39m [\u001b[38;5;241m64\u001b[39m\u001b[38;5;241m/\u001b[39m\u001b[38;5;241m/\u001b[39mexpansion] \u001b[38;5;241m+\u001b[39m block_szs\n\u001b[0;32m---> 38\u001b[0m blocks    \u001b[38;5;241m=\u001b[39m \u001b[38;5;28;43mself\u001b[39;49m\u001b[38;5;241;43m.\u001b[39;49m\u001b[43m_make_blocks\u001b[49m\u001b[43m(\u001b[49m\u001b[43mlayers\u001b[49m\u001b[43m,\u001b[49m\u001b[43m \u001b[49m\u001b[43mblock_szs\u001b[49m\u001b[43m,\u001b[49m\u001b[43m \u001b[49m\u001b[43msa\u001b[49m\u001b[43m,\u001b[49m\u001b[43m \u001b[49m\u001b[43mstride\u001b[49m\u001b[43m,\u001b[49m\u001b[43m \u001b[49m\u001b[38;5;241;43m*\u001b[39;49m\u001b[38;5;241;43m*\u001b[39;49m\u001b[43mkwargs\u001b[49m\u001b[43m)\u001b[49m\n\u001b[1;32m     40\u001b[0m \u001b[38;5;28msuper\u001b[39m()\u001b[38;5;241m.\u001b[39m\u001b[38;5;21m__init__\u001b[39m(\n\u001b[1;32m     41\u001b[0m     \u001b[38;5;241m*\u001b[39mstem, MaxPool(ks\u001b[38;5;241m=\u001b[39mks, stride\u001b[38;5;241m=\u001b[39mstride, padding\u001b[38;5;241m=\u001b[39mks\u001b[38;5;241m/\u001b[39m\u001b[38;5;241m/\u001b[39m\u001b[38;5;241m2\u001b[39m, ndim\u001b[38;5;241m=\u001b[39mndim),\n\u001b[1;32m     42\u001b[0m     \u001b[38;5;241m*\u001b[39mblocks,\n\u001b[1;32m     43\u001b[0m     AdaptiveAvgPool(sz\u001b[38;5;241m=\u001b[39m\u001b[38;5;241m1\u001b[39m, ndim\u001b[38;5;241m=\u001b[39mndim), Flatten(), nn\u001b[38;5;241m.\u001b[39mDropout(p),\n\u001b[1;32m     44\u001b[0m     nn\u001b[38;5;241m.\u001b[39mLinear(block_szs[\u001b[38;5;241m-\u001b[39m\u001b[38;5;241m1\u001b[39m]\u001b[38;5;241m*\u001b[39mexpansion, n_out),\n\u001b[1;32m     45\u001b[0m )\n\u001b[1;32m     46\u001b[0m init_cnn(\u001b[38;5;28mself\u001b[39m)\n",
      "File \u001b[0;32m~/文档/tsai/tsai_torch200_py38/lib/python3.8/site-packages/fastai/vision/models/xresnet.py:49\u001b[0m, in \u001b[0;36mXResNet._make_blocks\u001b[0;34m(self, layers, block_szs, sa, stride, **kwargs)\u001b[0m\n\u001b[1;32m     48\u001b[0m \u001b[38;5;28;01mdef\u001b[39;00m \u001b[38;5;21m_make_blocks\u001b[39m(\u001b[38;5;28mself\u001b[39m, layers, block_szs, sa, stride, \u001b[38;5;241m*\u001b[39m\u001b[38;5;241m*\u001b[39mkwargs):\n\u001b[0;32m---> 49\u001b[0m     \u001b[38;5;28;01mreturn\u001b[39;00m [\u001b[38;5;28mself\u001b[39m\u001b[38;5;241m.\u001b[39m_make_layer(ni\u001b[38;5;241m=\u001b[39mblock_szs[i], nf\u001b[38;5;241m=\u001b[39mblock_szs[i\u001b[38;5;241m+\u001b[39m\u001b[38;5;241m1\u001b[39m], blocks\u001b[38;5;241m=\u001b[39ml,\n\u001b[1;32m     50\u001b[0m                              stride\u001b[38;5;241m=\u001b[39m\u001b[38;5;241m1\u001b[39m \u001b[38;5;28;01mif\u001b[39;00m i\u001b[38;5;241m==\u001b[39m\u001b[38;5;241m0\u001b[39m \u001b[38;5;28;01melse\u001b[39;00m stride, sa\u001b[38;5;241m=\u001b[39msa \u001b[38;5;129;01mand\u001b[39;00m i\u001b[38;5;241m==\u001b[39m\u001b[38;5;28mlen\u001b[39m(layers)\u001b[38;5;241m-\u001b[39m\u001b[38;5;241m4\u001b[39m, \u001b[38;5;241m*\u001b[39m\u001b[38;5;241m*\u001b[39mkwargs)\n\u001b[1;32m     51\u001b[0m             \u001b[38;5;28;01mfor\u001b[39;00m i,l \u001b[38;5;129;01min\u001b[39;00m \u001b[38;5;28menumerate\u001b[39m(layers)]\n",
      "File \u001b[0;32m~/文档/tsai/tsai_torch200_py38/lib/python3.8/site-packages/fastai/vision/models/xresnet.py:49\u001b[0m, in \u001b[0;36m<listcomp>\u001b[0;34m(.0)\u001b[0m\n\u001b[1;32m     48\u001b[0m \u001b[38;5;28;01mdef\u001b[39;00m \u001b[38;5;21m_make_blocks\u001b[39m(\u001b[38;5;28mself\u001b[39m, layers, block_szs, sa, stride, \u001b[38;5;241m*\u001b[39m\u001b[38;5;241m*\u001b[39mkwargs):\n\u001b[0;32m---> 49\u001b[0m     \u001b[38;5;28;01mreturn\u001b[39;00m [\u001b[38;5;28;43mself\u001b[39;49m\u001b[38;5;241;43m.\u001b[39;49m\u001b[43m_make_layer\u001b[49m\u001b[43m(\u001b[49m\u001b[43mni\u001b[49m\u001b[38;5;241;43m=\u001b[39;49m\u001b[43mblock_szs\u001b[49m\u001b[43m[\u001b[49m\u001b[43mi\u001b[49m\u001b[43m]\u001b[49m\u001b[43m,\u001b[49m\u001b[43m \u001b[49m\u001b[43mnf\u001b[49m\u001b[38;5;241;43m=\u001b[39;49m\u001b[43mblock_szs\u001b[49m\u001b[43m[\u001b[49m\u001b[43mi\u001b[49m\u001b[38;5;241;43m+\u001b[39;49m\u001b[38;5;241;43m1\u001b[39;49m\u001b[43m]\u001b[49m\u001b[43m,\u001b[49m\u001b[43m \u001b[49m\u001b[43mblocks\u001b[49m\u001b[38;5;241;43m=\u001b[39;49m\u001b[43ml\u001b[49m\u001b[43m,\u001b[49m\n\u001b[1;32m     50\u001b[0m \u001b[43m                             \u001b[49m\u001b[43mstride\u001b[49m\u001b[38;5;241;43m=\u001b[39;49m\u001b[38;5;241;43m1\u001b[39;49m\u001b[43m \u001b[49m\u001b[38;5;28;43;01mif\u001b[39;49;00m\u001b[43m \u001b[49m\u001b[43mi\u001b[49m\u001b[38;5;241;43m==\u001b[39;49m\u001b[38;5;241;43m0\u001b[39;49m\u001b[43m \u001b[49m\u001b[38;5;28;43;01melse\u001b[39;49;00m\u001b[43m \u001b[49m\u001b[43mstride\u001b[49m\u001b[43m,\u001b[49m\u001b[43m \u001b[49m\u001b[43msa\u001b[49m\u001b[38;5;241;43m=\u001b[39;49m\u001b[43msa\u001b[49m\u001b[43m \u001b[49m\u001b[38;5;129;43;01mand\u001b[39;49;00m\u001b[43m \u001b[49m\u001b[43mi\u001b[49m\u001b[38;5;241;43m==\u001b[39;49m\u001b[38;5;28;43mlen\u001b[39;49m\u001b[43m(\u001b[49m\u001b[43mlayers\u001b[49m\u001b[43m)\u001b[49m\u001b[38;5;241;43m-\u001b[39;49m\u001b[38;5;241;43m4\u001b[39;49m\u001b[43m,\u001b[49m\u001b[43m \u001b[49m\u001b[38;5;241;43m*\u001b[39;49m\u001b[38;5;241;43m*\u001b[39;49m\u001b[43mkwargs\u001b[49m\u001b[43m)\u001b[49m\n\u001b[1;32m     51\u001b[0m             \u001b[38;5;28;01mfor\u001b[39;00m i,l \u001b[38;5;129;01min\u001b[39;00m \u001b[38;5;28menumerate\u001b[39m(layers)]\n",
      "File \u001b[0;32m~/文档/tsai/tsai_torch200_py38/lib/python3.8/site-packages/fastai/vision/models/xresnet.py:55\u001b[0m, in \u001b[0;36mXResNet._make_layer\u001b[0;34m(self, ni, nf, blocks, stride, sa, **kwargs)\u001b[0m\n\u001b[1;32m     53\u001b[0m \u001b[38;5;28;01mdef\u001b[39;00m \u001b[38;5;21m_make_layer\u001b[39m(\u001b[38;5;28mself\u001b[39m, ni, nf, blocks, stride, sa, \u001b[38;5;241m*\u001b[39m\u001b[38;5;241m*\u001b[39mkwargs):\n\u001b[1;32m     54\u001b[0m     \u001b[38;5;28;01mreturn\u001b[39;00m nn\u001b[38;5;241m.\u001b[39mSequential(\n\u001b[0;32m---> 55\u001b[0m         \u001b[38;5;241m*\u001b[39m[\u001b[38;5;28mself\u001b[39m\u001b[38;5;241m.\u001b[39mblock(\u001b[38;5;28mself\u001b[39m\u001b[38;5;241m.\u001b[39mexpansion, ni \u001b[38;5;28;01mif\u001b[39;00m i\u001b[38;5;241m==\u001b[39m\u001b[38;5;241m0\u001b[39m \u001b[38;5;28;01melse\u001b[39;00m nf, nf, stride\u001b[38;5;241m=\u001b[39mstride \u001b[38;5;28;01mif\u001b[39;00m i\u001b[38;5;241m==\u001b[39m\u001b[38;5;241m0\u001b[39m \u001b[38;5;28;01melse\u001b[39;00m \u001b[38;5;241m1\u001b[39m,\n\u001b[1;32m     56\u001b[0m                   sa\u001b[38;5;241m=\u001b[39msa \u001b[38;5;129;01mand\u001b[39;00m i\u001b[38;5;241m==\u001b[39m(blocks\u001b[38;5;241m-\u001b[39m\u001b[38;5;241m1\u001b[39m), act_cls\u001b[38;5;241m=\u001b[39m\u001b[38;5;28mself\u001b[39m\u001b[38;5;241m.\u001b[39mact_cls, ndim\u001b[38;5;241m=\u001b[39m\u001b[38;5;28mself\u001b[39m\u001b[38;5;241m.\u001b[39mndim, ks\u001b[38;5;241m=\u001b[39m\u001b[38;5;28mself\u001b[39m\u001b[38;5;241m.\u001b[39mks, \u001b[38;5;241m*\u001b[39m\u001b[38;5;241m*\u001b[39mkwargs)\n\u001b[1;32m     57\u001b[0m           \u001b[38;5;28;01mfor\u001b[39;00m i \u001b[38;5;129;01min\u001b[39;00m \u001b[38;5;28mrange\u001b[39m(blocks)])\n",
      "File \u001b[0;32m~/文档/tsai/tsai_torch200_py38/lib/python3.8/site-packages/fastai/vision/models/xresnet.py:55\u001b[0m, in \u001b[0;36m<listcomp>\u001b[0;34m(.0)\u001b[0m\n\u001b[1;32m     53\u001b[0m \u001b[38;5;28;01mdef\u001b[39;00m \u001b[38;5;21m_make_layer\u001b[39m(\u001b[38;5;28mself\u001b[39m, ni, nf, blocks, stride, sa, \u001b[38;5;241m*\u001b[39m\u001b[38;5;241m*\u001b[39mkwargs):\n\u001b[1;32m     54\u001b[0m     \u001b[38;5;28;01mreturn\u001b[39;00m nn\u001b[38;5;241m.\u001b[39mSequential(\n\u001b[0;32m---> 55\u001b[0m         \u001b[38;5;241m*\u001b[39m[\u001b[38;5;28;43mself\u001b[39;49m\u001b[38;5;241;43m.\u001b[39;49m\u001b[43mblock\u001b[49m\u001b[43m(\u001b[49m\u001b[38;5;28;43mself\u001b[39;49m\u001b[38;5;241;43m.\u001b[39;49m\u001b[43mexpansion\u001b[49m\u001b[43m,\u001b[49m\u001b[43m \u001b[49m\u001b[43mni\u001b[49m\u001b[43m \u001b[49m\u001b[38;5;28;43;01mif\u001b[39;49;00m\u001b[43m \u001b[49m\u001b[43mi\u001b[49m\u001b[38;5;241;43m==\u001b[39;49m\u001b[38;5;241;43m0\u001b[39;49m\u001b[43m \u001b[49m\u001b[38;5;28;43;01melse\u001b[39;49;00m\u001b[43m \u001b[49m\u001b[43mnf\u001b[49m\u001b[43m,\u001b[49m\u001b[43m \u001b[49m\u001b[43mnf\u001b[49m\u001b[43m,\u001b[49m\u001b[43m \u001b[49m\u001b[43mstride\u001b[49m\u001b[38;5;241;43m=\u001b[39;49m\u001b[43mstride\u001b[49m\u001b[43m \u001b[49m\u001b[38;5;28;43;01mif\u001b[39;49;00m\u001b[43m \u001b[49m\u001b[43mi\u001b[49m\u001b[38;5;241;43m==\u001b[39;49m\u001b[38;5;241;43m0\u001b[39;49m\u001b[43m \u001b[49m\u001b[38;5;28;43;01melse\u001b[39;49;00m\u001b[43m \u001b[49m\u001b[38;5;241;43m1\u001b[39;49m\u001b[43m,\u001b[49m\n\u001b[1;32m     56\u001b[0m \u001b[43m                  \u001b[49m\u001b[43msa\u001b[49m\u001b[38;5;241;43m=\u001b[39;49m\u001b[43msa\u001b[49m\u001b[43m \u001b[49m\u001b[38;5;129;43;01mand\u001b[39;49;00m\u001b[43m \u001b[49m\u001b[43mi\u001b[49m\u001b[38;5;241;43m==\u001b[39;49m\u001b[43m(\u001b[49m\u001b[43mblocks\u001b[49m\u001b[38;5;241;43m-\u001b[39;49m\u001b[38;5;241;43m1\u001b[39;49m\u001b[43m)\u001b[49m\u001b[43m,\u001b[49m\u001b[43m \u001b[49m\u001b[43mact_cls\u001b[49m\u001b[38;5;241;43m=\u001b[39;49m\u001b[38;5;28;43mself\u001b[39;49m\u001b[38;5;241;43m.\u001b[39;49m\u001b[43mact_cls\u001b[49m\u001b[43m,\u001b[49m\u001b[43m \u001b[49m\u001b[43mndim\u001b[49m\u001b[38;5;241;43m=\u001b[39;49m\u001b[38;5;28;43mself\u001b[39;49m\u001b[38;5;241;43m.\u001b[39;49m\u001b[43mndim\u001b[49m\u001b[43m,\u001b[49m\u001b[43m \u001b[49m\u001b[43mks\u001b[49m\u001b[38;5;241;43m=\u001b[39;49m\u001b[38;5;28;43mself\u001b[39;49m\u001b[38;5;241;43m.\u001b[39;49m\u001b[43mks\u001b[49m\u001b[43m,\u001b[49m\u001b[43m \u001b[49m\u001b[38;5;241;43m*\u001b[39;49m\u001b[38;5;241;43m*\u001b[39;49m\u001b[43mkwargs\u001b[49m\u001b[43m)\u001b[49m\n\u001b[1;32m     57\u001b[0m           \u001b[38;5;28;01mfor\u001b[39;00m i \u001b[38;5;129;01min\u001b[39;00m \u001b[38;5;28mrange\u001b[39m(blocks)])\n",
      "File \u001b[0;32m~/文档/tsai/tsai_torch200_py38/lib/python3.8/site-packages/fastcore/meta.py:40\u001b[0m, in \u001b[0;36mPrePostInitMeta.__call__\u001b[0;34m(cls, *args, **kwargs)\u001b[0m\n\u001b[1;32m     38\u001b[0m \u001b[38;5;28;01mif\u001b[39;00m \u001b[38;5;28mtype\u001b[39m(res)\u001b[38;5;241m==\u001b[39m\u001b[38;5;28mcls\u001b[39m:\n\u001b[1;32m     39\u001b[0m     \u001b[38;5;28;01mif\u001b[39;00m \u001b[38;5;28mhasattr\u001b[39m(res,\u001b[38;5;124m'\u001b[39m\u001b[38;5;124m__pre_init__\u001b[39m\u001b[38;5;124m'\u001b[39m): res\u001b[38;5;241m.\u001b[39m__pre_init__(\u001b[38;5;241m*\u001b[39margs,\u001b[38;5;241m*\u001b[39m\u001b[38;5;241m*\u001b[39mkwargs)\n\u001b[0;32m---> 40\u001b[0m     \u001b[43mres\u001b[49m\u001b[38;5;241;43m.\u001b[39;49m\u001b[38;5;21;43m__init__\u001b[39;49m\u001b[43m(\u001b[49m\u001b[38;5;241;43m*\u001b[39;49m\u001b[43margs\u001b[49m\u001b[43m,\u001b[49m\u001b[38;5;241;43m*\u001b[39;49m\u001b[38;5;241;43m*\u001b[39;49m\u001b[43mkwargs\u001b[49m\u001b[43m)\u001b[49m\n\u001b[1;32m     41\u001b[0m     \u001b[38;5;28;01mif\u001b[39;00m \u001b[38;5;28mhasattr\u001b[39m(res,\u001b[38;5;124m'\u001b[39m\u001b[38;5;124m__post_init__\u001b[39m\u001b[38;5;124m'\u001b[39m): res\u001b[38;5;241m.\u001b[39m__post_init__(\u001b[38;5;241m*\u001b[39margs,\u001b[38;5;241m*\u001b[39m\u001b[38;5;241m*\u001b[39mkwargs)\n\u001b[1;32m     42\u001b[0m \u001b[38;5;28;01mreturn\u001b[39;00m res\n",
      "File \u001b[0;32m~/文档/tsai/tsai_torch200_py38/lib/python3.8/site-packages/fastai/layers.py:476\u001b[0m, in \u001b[0;36mResBlock.__init__\u001b[0;34m(self, expansion, ni, nf, stride, groups, reduction, nh1, nh2, dw, g2, sa, sym, norm_type, act_cls, ndim, ks, pool, pool_first, **kwargs)\u001b[0m\n\u001b[1;32m    474\u001b[0m k0 \u001b[38;5;241m=\u001b[39m \u001b[38;5;28mdict\u001b[39m(norm_type\u001b[38;5;241m=\u001b[39mnorm_type, act_cls\u001b[38;5;241m=\u001b[39mact_cls, ndim\u001b[38;5;241m=\u001b[39mndim, \u001b[38;5;241m*\u001b[39m\u001b[38;5;241m*\u001b[39mkwargs)\n\u001b[1;32m    475\u001b[0m k1 \u001b[38;5;241m=\u001b[39m \u001b[38;5;28mdict\u001b[39m(norm_type\u001b[38;5;241m=\u001b[39mnorm2, act_cls\u001b[38;5;241m=\u001b[39m\u001b[38;5;28;01mNone\u001b[39;00m, ndim\u001b[38;5;241m=\u001b[39mndim, \u001b[38;5;241m*\u001b[39m\u001b[38;5;241m*\u001b[39mkwargs)\n\u001b[0;32m--> 476\u001b[0m convpath  \u001b[38;5;241m=\u001b[39m [\u001b[43mConvLayer\u001b[49m\u001b[43m(\u001b[49m\u001b[43mni\u001b[49m\u001b[43m,\u001b[49m\u001b[43m  \u001b[49m\u001b[43mnh2\u001b[49m\u001b[43m,\u001b[49m\u001b[43m \u001b[49m\u001b[43mks\u001b[49m\u001b[43m,\u001b[49m\u001b[43m \u001b[49m\u001b[43mstride\u001b[49m\u001b[38;5;241;43m=\u001b[39;49m\u001b[43mstride\u001b[49m\u001b[43m,\u001b[49m\u001b[43m \u001b[49m\u001b[43mgroups\u001b[49m\u001b[38;5;241;43m=\u001b[39;49m\u001b[43mni\u001b[49m\u001b[43m \u001b[49m\u001b[38;5;28;43;01mif\u001b[39;49;00m\u001b[43m \u001b[49m\u001b[43mdw\u001b[49m\u001b[43m \u001b[49m\u001b[38;5;28;43;01melse\u001b[39;49;00m\u001b[43m \u001b[49m\u001b[43mgroups\u001b[49m\u001b[43m,\u001b[49m\u001b[43m \u001b[49m\u001b[38;5;241;43m*\u001b[39;49m\u001b[38;5;241;43m*\u001b[39;49m\u001b[43mk0\u001b[49m\u001b[43m)\u001b[49m,\n\u001b[1;32m    477\u001b[0m              ConvLayer(nh2,  nf, ks, groups\u001b[38;5;241m=\u001b[39mg2, \u001b[38;5;241m*\u001b[39m\u001b[38;5;241m*\u001b[39mk1)\n\u001b[1;32m    478\u001b[0m ] \u001b[38;5;28;01mif\u001b[39;00m expansion \u001b[38;5;241m==\u001b[39m \u001b[38;5;241m1\u001b[39m \u001b[38;5;28;01melse\u001b[39;00m [\n\u001b[1;32m    479\u001b[0m              ConvLayer(ni,  nh1, \u001b[38;5;241m1\u001b[39m, \u001b[38;5;241m*\u001b[39m\u001b[38;5;241m*\u001b[39mk0),\n\u001b[1;32m    480\u001b[0m              ConvLayer(nh1, nh2, ks, stride\u001b[38;5;241m=\u001b[39mstride, groups\u001b[38;5;241m=\u001b[39mnh1 \u001b[38;5;28;01mif\u001b[39;00m dw \u001b[38;5;28;01melse\u001b[39;00m groups, \u001b[38;5;241m*\u001b[39m\u001b[38;5;241m*\u001b[39mk0),\n\u001b[1;32m    481\u001b[0m              ConvLayer(nh2,  nf, \u001b[38;5;241m1\u001b[39m, groups\u001b[38;5;241m=\u001b[39mg2, \u001b[38;5;241m*\u001b[39m\u001b[38;5;241m*\u001b[39mk1)]\n\u001b[1;32m    482\u001b[0m \u001b[38;5;28;01mif\u001b[39;00m reduction: convpath\u001b[38;5;241m.\u001b[39mappend(SEModule(nf, reduction\u001b[38;5;241m=\u001b[39mreduction, act_cls\u001b[38;5;241m=\u001b[39mact_cls))\n\u001b[1;32m    483\u001b[0m \u001b[38;5;28;01mif\u001b[39;00m sa: convpath\u001b[38;5;241m.\u001b[39mappend(SimpleSelfAttention(nf,ks\u001b[38;5;241m=\u001b[39m\u001b[38;5;241m1\u001b[39m,sym\u001b[38;5;241m=\u001b[39msym))\n",
      "File \u001b[0;32m~/文档/tsai/tsai_torch200_py38/lib/python3.8/site-packages/fastai/layers.py:249\u001b[0m, in \u001b[0;36mConvLayer.__init__\u001b[0;34m(self, ni, nf, ks, stride, padding, bias, ndim, norm_type, bn_1st, act_cls, transpose, init, xtra, bias_std, **kwargs)\u001b[0m\n\u001b[1;32m    247\u001b[0m \u001b[38;5;28;01mif\u001b[39;00m bias \u001b[38;5;129;01mis\u001b[39;00m \u001b[38;5;28;01mNone\u001b[39;00m: bias \u001b[38;5;241m=\u001b[39m \u001b[38;5;129;01mnot\u001b[39;00m (bn \u001b[38;5;129;01mor\u001b[39;00m inn)\n\u001b[1;32m    248\u001b[0m conv_func \u001b[38;5;241m=\u001b[39m _conv_func(ndim, transpose\u001b[38;5;241m=\u001b[39mtranspose)\n\u001b[0;32m--> 249\u001b[0m conv \u001b[38;5;241m=\u001b[39m \u001b[43mconv_func\u001b[49m\u001b[43m(\u001b[49m\u001b[43mni\u001b[49m\u001b[43m,\u001b[49m\u001b[43m \u001b[49m\u001b[43mnf\u001b[49m\u001b[43m,\u001b[49m\u001b[43m \u001b[49m\u001b[43mkernel_size\u001b[49m\u001b[38;5;241;43m=\u001b[39;49m\u001b[43mks\u001b[49m\u001b[43m,\u001b[49m\u001b[43m \u001b[49m\u001b[43mbias\u001b[49m\u001b[38;5;241;43m=\u001b[39;49m\u001b[43mbias\u001b[49m\u001b[43m,\u001b[49m\u001b[43m \u001b[49m\u001b[43mstride\u001b[49m\u001b[38;5;241;43m=\u001b[39;49m\u001b[43mstride\u001b[49m\u001b[43m,\u001b[49m\u001b[43m \u001b[49m\u001b[43mpadding\u001b[49m\u001b[38;5;241;43m=\u001b[39;49m\u001b[43mpadding\u001b[49m\u001b[43m,\u001b[49m\u001b[43m \u001b[49m\u001b[38;5;241;43m*\u001b[39;49m\u001b[38;5;241;43m*\u001b[39;49m\u001b[43mkwargs\u001b[49m\u001b[43m)\u001b[49m\n\u001b[1;32m    250\u001b[0m act \u001b[38;5;241m=\u001b[39m \u001b[38;5;28;01mNone\u001b[39;00m \u001b[38;5;28;01mif\u001b[39;00m act_cls \u001b[38;5;129;01mis\u001b[39;00m \u001b[38;5;28;01mNone\u001b[39;00m \u001b[38;5;28;01melse\u001b[39;00m act_cls()\n\u001b[1;32m    251\u001b[0m init_linear(conv, act, init\u001b[38;5;241m=\u001b[39minit, bias_std\u001b[38;5;241m=\u001b[39mbias_std)\n",
      "\u001b[0;31mTypeError\u001b[0m: __init__() got an unexpected keyword argument 'seq_len'"
     ]
    }
   ],
   "source": [
    "dsid = 'LSST' \n",
    "bs = 64\n",
    "X, y, splits = get_UCR_data(dsid, return_split=False)\n",
    "print(X.shape)\n",
    "tfms  = [None, [Categorize()]]\n",
    "dsets = TSDatasets(X, y, tfms=tfms, splits=splits)\n",
    "dls   = TSDataLoaders.from_dsets(dsets.train, dsets.valid, bs=[bs, bs*2])\n",
    "\n",
    "archs = [(FCN, {}), (ResNet, {}), (xresnet1d34, {}), (ResCNN, {}), \n",
    "         (LSTM, {'n_layers':1, 'bidirectional': False}), (LSTM, {'n_layers':2, 'bidirectional': False}), (LSTM, {'n_layers':3, 'bidirectional': False}), \n",
    "         (LSTM, {'n_layers':1, 'bidirectional': True}), (LSTM, {'n_layers':2, 'bidirectional': True}), (LSTM, {'n_layers':3, 'bidirectional': True}),\n",
    "         (LSTM_FCN, {}), (LSTM_FCN, {'shuffle': False}), (InceptionTime, {}), (XceptionTime, {}), (OmniScaleCNN, {}), (mWDN, {'levels': 4})]\n",
    "\n",
    "results = pd.DataFrame(columns=['arch', 'hyperparams', 'total params', 'train loss', 'valid loss', 'accuracy', 'time'])\n",
    "for i, (arch, k) in enumerate(archs):\n",
    "    model = create_model(arch, dls=dls, **k)\n",
    "    print(model.__class__.__name__)\n",
    "    learn = Learner(dls, model,  metrics=accuracy)\n",
    "    start = time.time()\n",
    "    learn.fit_one_cycle(100, 1e-3)\n",
    "    elapsed = time.time() - start\n",
    "    vals = learn.recorder.values[-1]\n",
    "    results.loc[i] = [arch.__name__, k, count_parameters(model), vals[0], vals[1], vals[2], int(elapsed)]\n",
    "    results.sort_values(by='accuracy', ascending=False, kind='stable', ignore_index=True, inplace=True)\n",
    "    clear_output()\n",
    "    display(results)"
   ]
  },
  {
   "cell_type": "code",
   "execution_count": null,
   "metadata": {},
   "outputs": [],
   "source": []
  }
 ],
 "metadata": {
  "kernelspec": {
   "display_name": "Python 3 (ipykernel)",
   "language": "python",
   "name": "python3"
  },
  "language_info": {
   "codemirror_mode": {
    "name": "ipython",
    "version": 3
   },
   "file_extension": ".py",
   "mimetype": "text/x-python",
   "name": "python",
   "nbconvert_exporter": "python",
   "pygments_lexer": "ipython3",
   "version": "3.8.18"
  }
 },
 "nbformat": 4,
 "nbformat_minor": 0
}
